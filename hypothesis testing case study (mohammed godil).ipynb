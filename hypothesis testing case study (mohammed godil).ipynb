{
 "cells": [
  {
   "cell_type": "markdown",
   "id": "2f580b32",
   "metadata": {},
   "source": [
    "# mohammed godil hypothesis case study"
   ]
  },
  {
   "cell_type": "code",
   "execution_count": 44,
   "id": "7a7f7c72",
   "metadata": {},
   "outputs": [],
   "source": [
    "import numpy as np\n",
    "import pandas as pd\n",
    "import matplotlib.pyplot as plt\n",
    "import seaborn as sns\n",
    "%matplotlib inline\n",
    "\n",
    "import scipy.stats as stats"
   ]
  },
  {
   "cell_type": "markdown",
   "id": "da40eabc",
   "metadata": {},
   "source": [
    "# business problem 1"
   ]
  },
  {
   "cell_type": "code",
   "execution_count": 202,
   "id": "24faeb9a",
   "metadata": {},
   "outputs": [
    {
     "data": {
      "text/html": [
       "<div>\n",
       "<style scoped>\n",
       "    .dataframe tbody tr th:only-of-type {\n",
       "        vertical-align: middle;\n",
       "    }\n",
       "\n",
       "    .dataframe tbody tr th {\n",
       "        vertical-align: top;\n",
       "    }\n",
       "\n",
       "    .dataframe thead th {\n",
       "        text-align: right;\n",
       "    }\n",
       "</style>\n",
       "<table border=\"1\" class=\"dataframe\">\n",
       "  <thead>\n",
       "    <tr style=\"text-align: right;\">\n",
       "      <th></th>\n",
       "      <th>Amount_Requested</th>\n",
       "      <th>Amount_Funded_By_Investors</th>\n",
       "      <th>Interest_Rate</th>\n",
       "      <th>Loan_Length</th>\n",
       "      <th>Loan_Purpose</th>\n",
       "      <th>Debt_To_Income_Ratio</th>\n",
       "      <th>State</th>\n",
       "      <th>Home_Ownership</th>\n",
       "      <th>Monthly_Income</th>\n",
       "      <th>FICO_Range</th>\n",
       "      <th>Open_CREDIT_Lines</th>\n",
       "      <th>Revolving_CREDIT_Balance</th>\n",
       "      <th>Inquiries_in_the_Last_6_Months</th>\n",
       "      <th>Employment_Length</th>\n",
       "      <th>left</th>\n",
       "      <th>right</th>\n",
       "      <th>average</th>\n",
       "    </tr>\n",
       "  </thead>\n",
       "  <tbody>\n",
       "    <tr>\n",
       "      <th>0</th>\n",
       "      <td>20000.0</td>\n",
       "      <td>20000.00</td>\n",
       "      <td>8.90%</td>\n",
       "      <td>36 months</td>\n",
       "      <td>debt_consolidation</td>\n",
       "      <td>14.90%</td>\n",
       "      <td>SC</td>\n",
       "      <td>MORTGAGE</td>\n",
       "      <td>6541.67</td>\n",
       "      <td>735-739</td>\n",
       "      <td>14.0</td>\n",
       "      <td>14272.0</td>\n",
       "      <td>2.0</td>\n",
       "      <td>&lt; 1 year</td>\n",
       "      <td>735</td>\n",
       "      <td>739</td>\n",
       "      <td>737</td>\n",
       "    </tr>\n",
       "    <tr>\n",
       "      <th>1</th>\n",
       "      <td>19200.0</td>\n",
       "      <td>19200.00</td>\n",
       "      <td>12.12%</td>\n",
       "      <td>36 months</td>\n",
       "      <td>debt_consolidation</td>\n",
       "      <td>28.36%</td>\n",
       "      <td>TX</td>\n",
       "      <td>MORTGAGE</td>\n",
       "      <td>4583.33</td>\n",
       "      <td>715-719</td>\n",
       "      <td>12.0</td>\n",
       "      <td>11140.0</td>\n",
       "      <td>1.0</td>\n",
       "      <td>2 years</td>\n",
       "      <td>715</td>\n",
       "      <td>719</td>\n",
       "      <td>717</td>\n",
       "    </tr>\n",
       "    <tr>\n",
       "      <th>2</th>\n",
       "      <td>35000.0</td>\n",
       "      <td>35000.00</td>\n",
       "      <td>21.98%</td>\n",
       "      <td>60 months</td>\n",
       "      <td>debt_consolidation</td>\n",
       "      <td>23.81%</td>\n",
       "      <td>CA</td>\n",
       "      <td>MORTGAGE</td>\n",
       "      <td>11500.00</td>\n",
       "      <td>690-694</td>\n",
       "      <td>14.0</td>\n",
       "      <td>21977.0</td>\n",
       "      <td>1.0</td>\n",
       "      <td>2 years</td>\n",
       "      <td>690</td>\n",
       "      <td>694</td>\n",
       "      <td>692</td>\n",
       "    </tr>\n",
       "    <tr>\n",
       "      <th>3</th>\n",
       "      <td>10000.0</td>\n",
       "      <td>9975.00</td>\n",
       "      <td>9.99%</td>\n",
       "      <td>36 months</td>\n",
       "      <td>debt_consolidation</td>\n",
       "      <td>14.30%</td>\n",
       "      <td>KS</td>\n",
       "      <td>MORTGAGE</td>\n",
       "      <td>3833.33</td>\n",
       "      <td>695-699</td>\n",
       "      <td>10.0</td>\n",
       "      <td>9346.0</td>\n",
       "      <td>0.0</td>\n",
       "      <td>5 years</td>\n",
       "      <td>695</td>\n",
       "      <td>699</td>\n",
       "      <td>697</td>\n",
       "    </tr>\n",
       "    <tr>\n",
       "      <th>4</th>\n",
       "      <td>12000.0</td>\n",
       "      <td>12000.00</td>\n",
       "      <td>11.71%</td>\n",
       "      <td>36 months</td>\n",
       "      <td>credit_card</td>\n",
       "      <td>18.78%</td>\n",
       "      <td>NJ</td>\n",
       "      <td>RENT</td>\n",
       "      <td>3195.00</td>\n",
       "      <td>695-699</td>\n",
       "      <td>11.0</td>\n",
       "      <td>14469.0</td>\n",
       "      <td>0.0</td>\n",
       "      <td>9 years</td>\n",
       "      <td>695</td>\n",
       "      <td>699</td>\n",
       "      <td>697</td>\n",
       "    </tr>\n",
       "    <tr>\n",
       "      <th>...</th>\n",
       "      <td>...</td>\n",
       "      <td>...</td>\n",
       "      <td>...</td>\n",
       "      <td>...</td>\n",
       "      <td>...</td>\n",
       "      <td>...</td>\n",
       "      <td>...</td>\n",
       "      <td>...</td>\n",
       "      <td>...</td>\n",
       "      <td>...</td>\n",
       "      <td>...</td>\n",
       "      <td>...</td>\n",
       "      <td>...</td>\n",
       "      <td>...</td>\n",
       "      <td>...</td>\n",
       "      <td>...</td>\n",
       "      <td>...</td>\n",
       "    </tr>\n",
       "    <tr>\n",
       "      <th>2495</th>\n",
       "      <td>30000.0</td>\n",
       "      <td>29950.00</td>\n",
       "      <td>16.77%</td>\n",
       "      <td>60 months</td>\n",
       "      <td>debt_consolidation</td>\n",
       "      <td>19.23%</td>\n",
       "      <td>NY</td>\n",
       "      <td>MORTGAGE</td>\n",
       "      <td>9250.00</td>\n",
       "      <td>705-709</td>\n",
       "      <td>15.0</td>\n",
       "      <td>45880.0</td>\n",
       "      <td>1.0</td>\n",
       "      <td>8 years</td>\n",
       "      <td>705</td>\n",
       "      <td>709</td>\n",
       "      <td>707</td>\n",
       "    </tr>\n",
       "    <tr>\n",
       "      <th>2496</th>\n",
       "      <td>16000.0</td>\n",
       "      <td>16000.00</td>\n",
       "      <td>14.09%</td>\n",
       "      <td>60 months</td>\n",
       "      <td>home_improvement</td>\n",
       "      <td>21.54%</td>\n",
       "      <td>MD</td>\n",
       "      <td>OWN</td>\n",
       "      <td>8903.25</td>\n",
       "      <td>740-744</td>\n",
       "      <td>18.0</td>\n",
       "      <td>18898.0</td>\n",
       "      <td>1.0</td>\n",
       "      <td>10+ years</td>\n",
       "      <td>740</td>\n",
       "      <td>744</td>\n",
       "      <td>742</td>\n",
       "    </tr>\n",
       "    <tr>\n",
       "      <th>2497</th>\n",
       "      <td>10000.0</td>\n",
       "      <td>10000.00</td>\n",
       "      <td>13.99%</td>\n",
       "      <td>36 months</td>\n",
       "      <td>debt_consolidation</td>\n",
       "      <td>4.89%</td>\n",
       "      <td>PA</td>\n",
       "      <td>MORTGAGE</td>\n",
       "      <td>2166.67</td>\n",
       "      <td>680-684</td>\n",
       "      <td>4.0</td>\n",
       "      <td>4544.0</td>\n",
       "      <td>0.0</td>\n",
       "      <td>10+ years</td>\n",
       "      <td>680</td>\n",
       "      <td>684</td>\n",
       "      <td>682</td>\n",
       "    </tr>\n",
       "    <tr>\n",
       "      <th>2498</th>\n",
       "      <td>6000.0</td>\n",
       "      <td>6000.00</td>\n",
       "      <td>12.42%</td>\n",
       "      <td>36 months</td>\n",
       "      <td>major_purchase</td>\n",
       "      <td>16.66%</td>\n",
       "      <td>NJ</td>\n",
       "      <td>RENT</td>\n",
       "      <td>3500.00</td>\n",
       "      <td>675-679</td>\n",
       "      <td>8.0</td>\n",
       "      <td>7753.0</td>\n",
       "      <td>0.0</td>\n",
       "      <td>5 years</td>\n",
       "      <td>675</td>\n",
       "      <td>679</td>\n",
       "      <td>677</td>\n",
       "    </tr>\n",
       "    <tr>\n",
       "      <th>2499</th>\n",
       "      <td>9000.0</td>\n",
       "      <td>5242.75</td>\n",
       "      <td>13.79%</td>\n",
       "      <td>36 months</td>\n",
       "      <td>debt_consolidation</td>\n",
       "      <td>6.76%</td>\n",
       "      <td>NY</td>\n",
       "      <td>RENT</td>\n",
       "      <td>3875.00</td>\n",
       "      <td>670-674</td>\n",
       "      <td>7.0</td>\n",
       "      <td>7589.0</td>\n",
       "      <td>0.0</td>\n",
       "      <td>10+ years</td>\n",
       "      <td>670</td>\n",
       "      <td>674</td>\n",
       "      <td>672</td>\n",
       "    </tr>\n",
       "  </tbody>\n",
       "</table>\n",
       "<p>2500 rows × 17 columns</p>\n",
       "</div>"
      ],
      "text/plain": [
       "      Amount_Requested  Amount_Funded_By_Investors Interest_Rate Loan_Length  \\\n",
       "0              20000.0                    20000.00         8.90%   36 months   \n",
       "1              19200.0                    19200.00        12.12%   36 months   \n",
       "2              35000.0                    35000.00        21.98%   60 months   \n",
       "3              10000.0                     9975.00         9.99%   36 months   \n",
       "4              12000.0                    12000.00        11.71%   36 months   \n",
       "...                ...                         ...           ...         ...   \n",
       "2495           30000.0                    29950.00        16.77%   60 months   \n",
       "2496           16000.0                    16000.00        14.09%   60 months   \n",
       "2497           10000.0                    10000.00        13.99%   36 months   \n",
       "2498            6000.0                     6000.00        12.42%   36 months   \n",
       "2499            9000.0                     5242.75        13.79%   36 months   \n",
       "\n",
       "            Loan_Purpose Debt_To_Income_Ratio State Home_Ownership  \\\n",
       "0     debt_consolidation               14.90%    SC       MORTGAGE   \n",
       "1     debt_consolidation               28.36%    TX       MORTGAGE   \n",
       "2     debt_consolidation               23.81%    CA       MORTGAGE   \n",
       "3     debt_consolidation               14.30%    KS       MORTGAGE   \n",
       "4            credit_card               18.78%    NJ           RENT   \n",
       "...                  ...                  ...   ...            ...   \n",
       "2495  debt_consolidation               19.23%    NY       MORTGAGE   \n",
       "2496    home_improvement               21.54%    MD            OWN   \n",
       "2497  debt_consolidation                4.89%    PA       MORTGAGE   \n",
       "2498      major_purchase               16.66%    NJ           RENT   \n",
       "2499  debt_consolidation                6.76%    NY           RENT   \n",
       "\n",
       "      Monthly_Income FICO_Range  Open_CREDIT_Lines  Revolving_CREDIT_Balance  \\\n",
       "0            6541.67    735-739               14.0                   14272.0   \n",
       "1            4583.33    715-719               12.0                   11140.0   \n",
       "2           11500.00    690-694               14.0                   21977.0   \n",
       "3            3833.33    695-699               10.0                    9346.0   \n",
       "4            3195.00    695-699               11.0                   14469.0   \n",
       "...              ...        ...                ...                       ...   \n",
       "2495         9250.00    705-709               15.0                   45880.0   \n",
       "2496         8903.25    740-744               18.0                   18898.0   \n",
       "2497         2166.67    680-684                4.0                    4544.0   \n",
       "2498         3500.00    675-679                8.0                    7753.0   \n",
       "2499         3875.00    670-674                7.0                    7589.0   \n",
       "\n",
       "      Inquiries_in_the_Last_6_Months Employment_Length  left  right  average  \n",
       "0                                2.0          < 1 year   735    739      737  \n",
       "1                                1.0           2 years   715    719      717  \n",
       "2                                1.0           2 years   690    694      692  \n",
       "3                                0.0           5 years   695    699      697  \n",
       "4                                0.0           9 years   695    699      697  \n",
       "...                              ...               ...   ...    ...      ...  \n",
       "2495                             1.0           8 years   705    709      707  \n",
       "2496                             1.0         10+ years   740    744      742  \n",
       "2497                             0.0         10+ years   680    684      682  \n",
       "2498                             0.0           5 years   675    679      677  \n",
       "2499                             0.0         10+ years   670    674      672  \n",
       "\n",
       "[2500 rows x 17 columns]"
      ]
     },
     "execution_count": 202,
     "metadata": {},
     "output_type": "execute_result"
    }
   ],
   "source": [
    "loan = pd.read_csv('LoansData.csv')\n",
    "loan"
   ]
  },
  {
   "cell_type": "code",
   "execution_count": 203,
   "id": "1a820ab2",
   "metadata": {},
   "outputs": [
    {
     "name": "stdout",
     "output_type": "stream",
     "text": [
      "<class 'pandas.core.frame.DataFrame'>\n",
      "RangeIndex: 2500 entries, 0 to 2499\n",
      "Data columns (total 17 columns):\n",
      " #   Column                          Non-Null Count  Dtype  \n",
      "---  ------                          --------------  -----  \n",
      " 0   Amount_Requested                2499 non-null   float64\n",
      " 1   Amount_Funded_By_Investors      2499 non-null   float64\n",
      " 2   Interest_Rate                   2498 non-null   object \n",
      " 3   Loan_Length                     2500 non-null   object \n",
      " 4   Loan_Purpose                    2500 non-null   object \n",
      " 5   Debt_To_Income_Ratio            2499 non-null   object \n",
      " 6   State                           2500 non-null   object \n",
      " 7   Home_Ownership                  2499 non-null   object \n",
      " 8   Monthly_Income                  2499 non-null   float64\n",
      " 9   FICO_Range                      2500 non-null   object \n",
      " 10  Open_CREDIT_Lines               2497 non-null   float64\n",
      " 11  Revolving_CREDIT_Balance        2497 non-null   float64\n",
      " 12  Inquiries_in_the_Last_6_Months  2497 non-null   float64\n",
      " 13  Employment_Length               2423 non-null   object \n",
      " 14  left                            2500 non-null   int64  \n",
      " 15  right                           2500 non-null   int64  \n",
      " 16  average                         2500 non-null   int64  \n",
      "dtypes: float64(6), int64(3), object(8)\n",
      "memory usage: 332.2+ KB\n"
     ]
    }
   ],
   "source": [
    "loan.info()"
   ]
  },
  {
   "cell_type": "code",
   "execution_count": 204,
   "id": "f3d85e08",
   "metadata": {},
   "outputs": [
    {
     "data": {
      "text/plain": [
       "'MORTGAGE'"
      ]
     },
     "execution_count": 204,
     "metadata": {},
     "output_type": "execute_result"
    }
   ],
   "source": [
    "ll = loan.Home_Ownership.value_counts().reset_index()\n",
    "ll.iloc[0,0]"
   ]
  },
  {
   "cell_type": "code",
   "execution_count": 205,
   "id": "03009525",
   "metadata": {},
   "outputs": [],
   "source": [
    "loan.Home_Ownership.fillna(ll.iloc[0,0],inplace = True)"
   ]
  },
  {
   "cell_type": "code",
   "execution_count": 206,
   "id": "c86077fa",
   "metadata": {},
   "outputs": [
    {
     "data": {
      "text/plain": [
       "0"
      ]
     },
     "execution_count": 206,
     "metadata": {},
     "output_type": "execute_result"
    }
   ],
   "source": [
    "loan.Home_Ownership.isna().sum()"
   ]
  },
  {
   "cell_type": "code",
   "execution_count": 207,
   "id": "eaf27638",
   "metadata": {},
   "outputs": [
    {
     "name": "stdout",
     "output_type": "stream",
     "text": [
      "<class 'pandas.core.frame.DataFrame'>\n",
      "RangeIndex: 2500 entries, 0 to 2499\n",
      "Data columns (total 17 columns):\n",
      " #   Column                          Non-Null Count  Dtype  \n",
      "---  ------                          --------------  -----  \n",
      " 0   Amount_Requested                2499 non-null   float64\n",
      " 1   Amount_Funded_By_Investors      2499 non-null   float64\n",
      " 2   Interest_Rate                   2498 non-null   object \n",
      " 3   Loan_Length                     2500 non-null   object \n",
      " 4   Loan_Purpose                    2500 non-null   object \n",
      " 5   Debt_To_Income_Ratio            2499 non-null   object \n",
      " 6   State                           2500 non-null   object \n",
      " 7   Home_Ownership                  2500 non-null   object \n",
      " 8   Monthly_Income                  2499 non-null   float64\n",
      " 9   FICO_Range                      2500 non-null   object \n",
      " 10  Open_CREDIT_Lines               2497 non-null   float64\n",
      " 11  Revolving_CREDIT_Balance        2497 non-null   float64\n",
      " 12  Inquiries_in_the_Last_6_Months  2497 non-null   float64\n",
      " 13  Employment_Length               2423 non-null   object \n",
      " 14  left                            2500 non-null   int64  \n",
      " 15  right                           2500 non-null   int64  \n",
      " 16  average                         2500 non-null   int64  \n",
      "dtypes: float64(6), int64(3), object(8)\n",
      "memory usage: 332.2+ KB\n"
     ]
    }
   ],
   "source": [
    "loan.info()"
   ]
  },
  {
   "cell_type": "code",
   "execution_count": 208,
   "id": "864134cc",
   "metadata": {},
   "outputs": [],
   "source": [
    "loan.Interest_Rate = loan.Interest_Rate.str.strip('%').astype('float')"
   ]
  },
  {
   "cell_type": "code",
   "execution_count": 209,
   "id": "ce90323c",
   "metadata": {},
   "outputs": [],
   "source": [
    "loan.Debt_To_Income_Ratio = loan.Debt_To_Income_Ratio.str.strip('%').astype('float')"
   ]
  },
  {
   "cell_type": "raw",
   "id": "907e8de6",
   "metadata": {},
   "source": [
    "# 1(a)\n",
    "ho: no relationship\n",
    "ha : relationship exists\n",
    "confidence level = 95%\n",
    "p value = 0.05"
   ]
  },
  {
   "cell_type": "code",
   "execution_count": 210,
   "id": "ca8ee4c5",
   "metadata": {},
   "outputs": [],
   "source": [
    "loan.Amount_Funded_By_Investors.fillna(loan.Amount_Funded_By_Investors.mean(),inplace = True)"
   ]
  },
  {
   "cell_type": "code",
   "execution_count": 211,
   "id": "691ca1c9",
   "metadata": {},
   "outputs": [],
   "source": [
    "loan.Interest_Rate.fillna(method = 'ffill' , inplace = True)"
   ]
  },
  {
   "cell_type": "code",
   "execution_count": 212,
   "id": "e0d2c7c7",
   "metadata": {},
   "outputs": [
    {
     "data": {
      "text/plain": [
       "(0.3375548387955678, 1.1294452896812615e-67)"
      ]
     },
     "execution_count": 212,
     "metadata": {},
     "output_type": "execute_result"
    }
   ],
   "source": [
    "stats.pearsonr(loan.Interest_Rate ,loan.Amount_Funded_By_Investors )"
   ]
  },
  {
   "cell_type": "raw",
   "id": "e216cb1c",
   "metadata": {},
   "source": [
    "business conclusion : \n",
    "with 95% confidence level  reject the null hypothesis(that is interest is varying for different loan amount.)"
   ]
  },
  {
   "cell_type": "raw",
   "id": "f4d3eb30",
   "metadata": {},
   "source": [
    "#(b)\n",
    "ho: interest rates are similar\n",
    "ha: interest rates are not similar\n",
    "CI: 95%\n",
    "p value = 0.05"
   ]
  },
  {
   "cell_type": "code",
   "execution_count": 213,
   "id": "5a695670",
   "metadata": {},
   "outputs": [],
   "source": [
    "s1 = loan.loc[loan.Loan_Length == '36 months' , 'Interest_Rate']\n",
    "s2= loan.loc[loan.Loan_Length == '60 months' , 'Interest_Rate']"
   ]
  },
  {
   "cell_type": "code",
   "execution_count": 214,
   "id": "b2a4b08b",
   "metadata": {},
   "outputs": [
    {
     "data": {
      "text/plain": [
       "Ttest_indResult(statistic=-23.38550585767693, pvalue=1.5438552834846082e-109)"
      ]
     },
     "execution_count": 214,
     "metadata": {},
     "output_type": "execute_result"
    }
   ],
   "source": [
    "stats.ttest_ind(s1,s2)"
   ]
  },
  {
   "cell_type": "raw",
   "id": "bfa68a46",
   "metadata": {},
   "source": [
    "business conclusion :\n",
    "    with 95 % confidence level we reject the null hypothesis\n",
    "    that is interest rates are not similar for loan length.\n",
    "    they are different for different loan length"
   ]
  },
  {
   "cell_type": "raw",
   "id": "f3ed537f",
   "metadata": {},
   "source": [
    "# (c)\n",
    "ho: interest rate does not varry\n",
    "ha: interest rate is different for different purpose of loan   \n",
    "ci : 95%\n",
    "p value : 0.05"
   ]
  },
  {
   "cell_type": "code",
   "execution_count": 215,
   "id": "cf08b82e",
   "metadata": {},
   "outputs": [
    {
     "data": {
      "text/plain": [
       "debt_consolidation    1307\n",
       "credit_card            444\n",
       "other                  201\n",
       "home_improvement       152\n",
       "major_purchase         101\n",
       "small_business          87\n",
       "car                     50\n",
       "wedding                 39\n",
       "medical                 30\n",
       "moving                  29\n",
       "vacation                21\n",
       "house                   20\n",
       "educational             15\n",
       "renewable_energy         4\n",
       "Name: Loan_Purpose, dtype: int64"
      ]
     },
     "execution_count": 215,
     "metadata": {},
     "output_type": "execute_result"
    }
   ],
   "source": [
    "loan.Loan_Purpose.value_counts()"
   ]
  },
  {
   "cell_type": "code",
   "execution_count": 216,
   "id": "b4fd35be",
   "metadata": {},
   "outputs": [],
   "source": [
    "l1 = loan.loc[loan.Loan_Purpose == 'debt_consolidation' , 'Interest_Rate']\n",
    "l2 = loan.loc[loan.Loan_Purpose == 'credit_card' , 'Interest_Rate']\n",
    "l3 = loan.loc[loan.Loan_Purpose == 'other' , 'Interest_Rate']\n",
    "l4 = loan.loc[loan.Loan_Purpose == 'home_improvement' , 'Interest_Rate']\n",
    "l6 = loan.loc[loan.Loan_Purpose == 'small_business' , 'Interest_Rate']\n",
    "l7 = loan.loc[loan.Loan_Purpose == 'car' , 'Interest_Rate']\n",
    "l8 = loan.loc[loan.Loan_Purpose == 'wedding' , 'Interest_Rate']\n",
    "l9 = loan.loc[loan.Loan_Purpose == 'medical' , 'Interest_Rate']\n",
    "l10 = loan.loc[loan.Loan_Purpose == 'moving' , 'Interest_Rate']\n",
    "l11 = loan.loc[loan.Loan_Purpose == 'vacation' , 'Interest_Rate']\n",
    "l12 = loan.loc[loan.Loan_Purpose == 'house' , 'Interest_Rate']\n",
    "l13 = loan.loc[loan.Loan_Purpose == 'educational' , 'Interest_Rate']\n",
    "l14 = loan.loc[loan.Loan_Purpose == 'renewable_energy' , 'Interest_Rate']\n",
    "l5 = loan.loc[loan.Loan_Purpose == 'major_purchase' ,'Interest_Rate' ]"
   ]
  },
  {
   "cell_type": "code",
   "execution_count": 217,
   "id": "22b6d4bf",
   "metadata": {},
   "outputs": [
    {
     "name": "stdout",
     "output_type": "stream",
     "text": [
      "13.586916602907444 13.05353603603601 13.159552238805967 11.594276315789479 10.797821782178215 12.839195402298845 11.113000000000001 12.181025641025643 11.649666666666668 13.621034482758622 11.966190476190476 13.448000000000002 11.007333333333332 9.8775\n"
     ]
    }
   ],
   "source": [
    "print(l1.mean(),l2.mean(),l3.mean(),l4.mean(),l5.mean(),l6.mean(),l7.mean(),l8.mean(),l9.mean(),l10.mean(),l11.mean(),l12.mean(),l13.mean(),l14.mean())"
   ]
  },
  {
   "cell_type": "code",
   "execution_count": 218,
   "id": "a2df99b4",
   "metadata": {},
   "outputs": [
    {
     "data": {
      "text/plain": [
       "F_onewayResult(statistic=7.441618411459153, pvalue=1.4572911836997953e-14)"
      ]
     },
     "execution_count": 218,
     "metadata": {},
     "output_type": "execute_result"
    }
   ],
   "source": [
    "stats.f_oneway(l1,l2,l3,l4,l5,l6,l7,l8,l9,l10,l11,l12,l13,l14)"
   ]
  },
  {
   "cell_type": "raw",
   "id": "4421c704",
   "metadata": {},
   "source": [
    "business conclusion : \n",
    "with 95% confidence level we reject the null hypothesis as p value from test is less than the cut off p value . so we can say that interest rate is different for different purpose of loan."
   ]
  },
  {
   "cell_type": "raw",
   "id": "beea1d0b",
   "metadata": {},
   "source": [
    "#(d)\n",
    "ho: fico scores are same\n",
    "ha : fico scores are different\n",
    "cI : 95%\n",
    "p value : 0.05\n"
   ]
  },
  {
   "cell_type": "code",
   "execution_count": 219,
   "id": "ebb5778a",
   "metadata": {},
   "outputs": [
    {
     "data": {
      "text/plain": [
       "MORTGAGE    1148\n",
       "RENT        1146\n",
       "OWN          200\n",
       "OTHER          5\n",
       "NONE           1\n",
       "Name: Home_Ownership, dtype: int64"
      ]
     },
     "execution_count": 219,
     "metadata": {},
     "output_type": "execute_result"
    }
   ],
   "source": [
    "loan.Home_Ownership.value_counts()"
   ]
  },
  {
   "cell_type": "code",
   "execution_count": 220,
   "id": "5ec103e5",
   "metadata": {},
   "outputs": [],
   "source": [
    "a1 = loan.loc[loan.Home_Ownership == 'MORTGAGE' , 'average']\n",
    "a2 = loan.loc[loan.Home_Ownership == 'RENT' , 'average']\n",
    "a3 = loan.loc[loan.Home_Ownership == 'OWN' , 'average']\n",
    "a4 = loan.loc[loan.Home_Ownership == 'OTHER' , 'average']\n",
    "a5 = loan.loc[loan.Home_Ownership == 'NONE' , 'average']"
   ]
  },
  {
   "cell_type": "code",
   "execution_count": 221,
   "id": "b59d38c7",
   "metadata": {},
   "outputs": [
    {
     "data": {
      "text/plain": [
       "F_onewayResult(statistic=14.497099613608103, pvalue=1.0458682945447822e-11)"
      ]
     },
     "execution_count": 221,
     "metadata": {},
     "output_type": "execute_result"
    }
   ],
   "source": [
    "stats.f_oneway(a1,a2,a3,a4,a5)"
   ]
  },
  {
   "cell_type": "raw",
   "id": "124a8c85",
   "metadata": {},
   "source": [
    "business conclusion :\n",
    "    with 95% confidence we can reject the null hypothesis , and we can       conclude that there is relationship between fico scores and home         ownership."
   ]
  },
  {
   "cell_type": "markdown",
   "id": "d0c1734f",
   "metadata": {},
   "source": [
    "# business problem 2"
   ]
  },
  {
   "cell_type": "code",
   "execution_count": 222,
   "id": "c1869684",
   "metadata": {},
   "outputs": [
    {
     "data": {
      "text/html": [
       "<div>\n",
       "<style scoped>\n",
       "    .dataframe tbody tr th:only-of-type {\n",
       "        vertical-align: middle;\n",
       "    }\n",
       "\n",
       "    .dataframe tbody tr th {\n",
       "        vertical-align: top;\n",
       "    }\n",
       "\n",
       "    .dataframe thead th {\n",
       "        text-align: right;\n",
       "    }\n",
       "</style>\n",
       "<table border=\"1\" class=\"dataframe\">\n",
       "  <thead>\n",
       "    <tr style=\"text-align: right;\">\n",
       "      <th></th>\n",
       "      <th>Order_Number</th>\n",
       "      <th>Barry_Price</th>\n",
       "      <th>Mary_Price</th>\n",
       "    </tr>\n",
       "  </thead>\n",
       "  <tbody>\n",
       "    <tr>\n",
       "      <th>0</th>\n",
       "      <td>1</td>\n",
       "      <td>126</td>\n",
       "      <td>114</td>\n",
       "    </tr>\n",
       "    <tr>\n",
       "      <th>1</th>\n",
       "      <td>2</td>\n",
       "      <td>110</td>\n",
       "      <td>118</td>\n",
       "    </tr>\n",
       "    <tr>\n",
       "      <th>2</th>\n",
       "      <td>3</td>\n",
       "      <td>138</td>\n",
       "      <td>114</td>\n",
       "    </tr>\n",
       "    <tr>\n",
       "      <th>3</th>\n",
       "      <td>4</td>\n",
       "      <td>142</td>\n",
       "      <td>111</td>\n",
       "    </tr>\n",
       "    <tr>\n",
       "      <th>4</th>\n",
       "      <td>5</td>\n",
       "      <td>146</td>\n",
       "      <td>129</td>\n",
       "    </tr>\n",
       "    <tr>\n",
       "      <th>5</th>\n",
       "      <td>6</td>\n",
       "      <td>136</td>\n",
       "      <td>119</td>\n",
       "    </tr>\n",
       "    <tr>\n",
       "      <th>6</th>\n",
       "      <td>7</td>\n",
       "      <td>94</td>\n",
       "      <td>97</td>\n",
       "    </tr>\n",
       "    <tr>\n",
       "      <th>7</th>\n",
       "      <td>8</td>\n",
       "      <td>103</td>\n",
       "      <td>104</td>\n",
       "    </tr>\n",
       "    <tr>\n",
       "      <th>8</th>\n",
       "      <td>9</td>\n",
       "      <td>140</td>\n",
       "      <td>127</td>\n",
       "    </tr>\n",
       "    <tr>\n",
       "      <th>9</th>\n",
       "      <td>10</td>\n",
       "      <td>152</td>\n",
       "      <td>133</td>\n",
       "    </tr>\n",
       "    <tr>\n",
       "      <th>10</th>\n",
       "      <td>11</td>\n",
       "      <td>108</td>\n",
       "      <td>103</td>\n",
       "    </tr>\n",
       "    <tr>\n",
       "      <th>11</th>\n",
       "      <td>12</td>\n",
       "      <td>97</td>\n",
       "      <td>108</td>\n",
       "    </tr>\n",
       "  </tbody>\n",
       "</table>\n",
       "</div>"
      ],
      "text/plain": [
       "    Order_Number  Barry_Price  Mary_Price\n",
       "0              1          126         114\n",
       "1              2          110         118\n",
       "2              3          138         114\n",
       "3              4          142         111\n",
       "4              5          146         129\n",
       "5              6          136         119\n",
       "6              7           94          97\n",
       "7              8          103         104\n",
       "8              9          140         127\n",
       "9             10          152         133\n",
       "10            11          108         103\n",
       "11            12           97         108"
      ]
     },
     "execution_count": 222,
     "metadata": {},
     "output_type": "execute_result"
    }
   ],
   "source": [
    "price = pd.read_csv('Price_Quotes.csv')\n",
    "price"
   ]
  },
  {
   "cell_type": "code",
   "execution_count": 223,
   "id": "401dd245",
   "metadata": {},
   "outputs": [
    {
     "name": "stdout",
     "output_type": "stream",
     "text": [
      "<class 'pandas.core.frame.DataFrame'>\n",
      "RangeIndex: 12 entries, 0 to 11\n",
      "Data columns (total 3 columns):\n",
      " #   Column        Non-Null Count  Dtype\n",
      "---  ------        --------------  -----\n",
      " 0   Order_Number  12 non-null     int64\n",
      " 1   Barry_Price   12 non-null     int64\n",
      " 2   Mary_Price    12 non-null     int64\n",
      "dtypes: int64(3)\n",
      "memory usage: 416.0 bytes\n"
     ]
    }
   ],
   "source": [
    "price.info()"
   ]
  },
  {
   "cell_type": "raw",
   "id": "43dcddfe",
   "metadata": {},
   "source": [
    "# business problem 2\n",
    "h0: there is no difference between the prices\n",
    "ha: average  prices of harry and barry are different     \n",
    "confidence level =95%\n",
    "p value = 0.05"
   ]
  },
  {
   "cell_type": "code",
   "execution_count": 224,
   "id": "a2dc229d",
   "metadata": {},
   "outputs": [
    {
     "data": {
      "text/plain": [
       "Ttest_indResult(statistic=1.4147436739281787, pvalue=0.17114226132118285)"
      ]
     },
     "execution_count": 224,
     "metadata": {},
     "output_type": "execute_result"
    }
   ],
   "source": [
    "stats.ttest_ind(price.Barry_Price,price.Mary_Price)"
   ]
  },
  {
   "cell_type": "code",
   "execution_count": 225,
   "id": "9c2d56fc",
   "metadata": {},
   "outputs": [],
   "source": [
    "a = price.Barry_Price"
   ]
  },
  {
   "cell_type": "code",
   "execution_count": 226,
   "id": "e2096639",
   "metadata": {},
   "outputs": [],
   "source": [
    "b = price.Mary_Price"
   ]
  },
  {
   "cell_type": "code",
   "execution_count": 227,
   "id": "05356dad",
   "metadata": {},
   "outputs": [
    {
     "data": {
      "text/plain": [
       "F_onewayResult(statistic=2.0014996629198025, pvalue=0.17114226132118274)"
      ]
     },
     "execution_count": 227,
     "metadata": {},
     "output_type": "execute_result"
    }
   ],
   "source": [
    "stats.f_oneway(a,b)"
   ]
  },
  {
   "cell_type": "raw",
   "id": "515228ae",
   "metadata": {},
   "source": [
    "business conclusion : \n",
    "    we fail to  reject the null hypothesis with 95 % confidence level and     can say that there is no differnce between the price"
   ]
  },
  {
   "cell_type": "markdown",
   "id": "fbb44d5d",
   "metadata": {},
   "source": [
    "# business problem 3"
   ]
  },
  {
   "cell_type": "code",
   "execution_count": 228,
   "id": "2d159b7b",
   "metadata": {},
   "outputs": [
    {
     "data": {
      "text/html": [
       "<div>\n",
       "<style scoped>\n",
       "    .dataframe tbody tr th:only-of-type {\n",
       "        vertical-align: middle;\n",
       "    }\n",
       "\n",
       "    .dataframe tbody tr th {\n",
       "        vertical-align: top;\n",
       "    }\n",
       "\n",
       "    .dataframe thead th {\n",
       "        text-align: right;\n",
       "    }\n",
       "</style>\n",
       "<table border=\"1\" class=\"dataframe\">\n",
       "  <thead>\n",
       "    <tr style=\"text-align: right;\">\n",
       "      <th></th>\n",
       "      <th>Month</th>\n",
       "      <th>Reengineer</th>\n",
       "      <th>Employee_Turnover</th>\n",
       "      <th>VAR4</th>\n",
       "      <th>VAR5</th>\n",
       "    </tr>\n",
       "  </thead>\n",
       "  <tbody>\n",
       "    <tr>\n",
       "      <th>0</th>\n",
       "      <td>1</td>\n",
       "      <td>Prior</td>\n",
       "      <td>0.0000</td>\n",
       "      <td>24.390244</td>\n",
       "      <td>42.682927</td>\n",
       "    </tr>\n",
       "    <tr>\n",
       "      <th>1</th>\n",
       "      <td>2</td>\n",
       "      <td>Prior</td>\n",
       "      <td>6.0606</td>\n",
       "      <td>19.354839</td>\n",
       "      <td>25.806452</td>\n",
       "    </tr>\n",
       "    <tr>\n",
       "      <th>2</th>\n",
       "      <td>3</td>\n",
       "      <td>Prior</td>\n",
       "      <td>12.1212</td>\n",
       "      <td>35.087719</td>\n",
       "      <td>146.198830</td>\n",
       "    </tr>\n",
       "    <tr>\n",
       "      <th>3</th>\n",
       "      <td>4</td>\n",
       "      <td>Prior</td>\n",
       "      <td>3.3333</td>\n",
       "      <td>18.404908</td>\n",
       "      <td>110.429448</td>\n",
       "    </tr>\n",
       "    <tr>\n",
       "      <th>4</th>\n",
       "      <td>5</td>\n",
       "      <td>Prior</td>\n",
       "      <td>12.9032</td>\n",
       "      <td>17.964072</td>\n",
       "      <td>23.952096</td>\n",
       "    </tr>\n",
       "    <tr>\n",
       "      <th>5</th>\n",
       "      <td>6</td>\n",
       "      <td>Prior</td>\n",
       "      <td>9.6774</td>\n",
       "      <td>41.176471</td>\n",
       "      <td>47.058824</td>\n",
       "    </tr>\n",
       "    <tr>\n",
       "      <th>6</th>\n",
       "      <td>7</td>\n",
       "      <td>Prior</td>\n",
       "      <td>11.7647</td>\n",
       "      <td>13.422819</td>\n",
       "      <td>0.000000</td>\n",
       "    </tr>\n",
       "    <tr>\n",
       "      <th>7</th>\n",
       "      <td>8</td>\n",
       "      <td>Prior</td>\n",
       "      <td>11.4286</td>\n",
       "      <td>31.250000</td>\n",
       "      <td>25.000000</td>\n",
       "    </tr>\n",
       "    <tr>\n",
       "      <th>8</th>\n",
       "      <td>9</td>\n",
       "      <td>Prior</td>\n",
       "      <td>23.0769</td>\n",
       "      <td>17.241379</td>\n",
       "      <td>132.183908</td>\n",
       "    </tr>\n",
       "    <tr>\n",
       "      <th>9</th>\n",
       "      <td>10</td>\n",
       "      <td>Prior</td>\n",
       "      <td>15.0000</td>\n",
       "      <td>16.574586</td>\n",
       "      <td>16.574586</td>\n",
       "    </tr>\n",
       "    <tr>\n",
       "      <th>10</th>\n",
       "      <td>11</td>\n",
       "      <td>Prior</td>\n",
       "      <td>10.0000</td>\n",
       "      <td>5.917160</td>\n",
       "      <td>88.757396</td>\n",
       "    </tr>\n",
       "    <tr>\n",
       "      <th>11</th>\n",
       "      <td>12</td>\n",
       "      <td>Prior</td>\n",
       "      <td>26.0870</td>\n",
       "      <td>21.164021</td>\n",
       "      <td>31.746032</td>\n",
       "    </tr>\n",
       "    <tr>\n",
       "      <th>12</th>\n",
       "      <td>13</td>\n",
       "      <td>Prior</td>\n",
       "      <td>11.1111</td>\n",
       "      <td>5.076142</td>\n",
       "      <td>10.152284</td>\n",
       "    </tr>\n",
       "    <tr>\n",
       "      <th>13</th>\n",
       "      <td>14</td>\n",
       "      <td>Post</td>\n",
       "      <td>26.6667</td>\n",
       "      <td>9.708738</td>\n",
       "      <td>29.126214</td>\n",
       "    </tr>\n",
       "    <tr>\n",
       "      <th>14</th>\n",
       "      <td>15</td>\n",
       "      <td>Post</td>\n",
       "      <td>17.9487</td>\n",
       "      <td>4.201681</td>\n",
       "      <td>21.008403</td>\n",
       "    </tr>\n",
       "    <tr>\n",
       "      <th>15</th>\n",
       "      <td>16</td>\n",
       "      <td>Post</td>\n",
       "      <td>12.8205</td>\n",
       "      <td>13.043478</td>\n",
       "      <td>34.782609</td>\n",
       "    </tr>\n",
       "    <tr>\n",
       "      <th>16</th>\n",
       "      <td>17</td>\n",
       "      <td>Post</td>\n",
       "      <td>15.7895</td>\n",
       "      <td>9.950249</td>\n",
       "      <td>19.900498</td>\n",
       "    </tr>\n",
       "    <tr>\n",
       "      <th>17</th>\n",
       "      <td>18</td>\n",
       "      <td>Post</td>\n",
       "      <td>0.0000</td>\n",
       "      <td>9.950249</td>\n",
       "      <td>9.950249</td>\n",
       "    </tr>\n",
       "    <tr>\n",
       "      <th>18</th>\n",
       "      <td>19</td>\n",
       "      <td>Post</td>\n",
       "      <td>30.7692</td>\n",
       "      <td>8.510638</td>\n",
       "      <td>25.531915</td>\n",
       "    </tr>\n",
       "    <tr>\n",
       "      <th>19</th>\n",
       "      <td>20</td>\n",
       "      <td>Post</td>\n",
       "      <td>26.8293</td>\n",
       "      <td>9.259259</td>\n",
       "      <td>23.148148</td>\n",
       "    </tr>\n",
       "  </tbody>\n",
       "</table>\n",
       "</div>"
      ],
      "text/plain": [
       "    Month Reengineer  Employee_Turnover       VAR4        VAR5\n",
       "0       1      Prior             0.0000  24.390244   42.682927\n",
       "1       2      Prior             6.0606  19.354839   25.806452\n",
       "2       3      Prior            12.1212  35.087719  146.198830\n",
       "3       4      Prior             3.3333  18.404908  110.429448\n",
       "4       5      Prior            12.9032  17.964072   23.952096\n",
       "5       6      Prior             9.6774  41.176471   47.058824\n",
       "6       7      Prior            11.7647  13.422819    0.000000\n",
       "7       8      Prior            11.4286  31.250000   25.000000\n",
       "8       9      Prior            23.0769  17.241379  132.183908\n",
       "9      10      Prior            15.0000  16.574586   16.574586\n",
       "10     11      Prior            10.0000   5.917160   88.757396\n",
       "11     12      Prior            26.0870  21.164021   31.746032\n",
       "12     13      Prior            11.1111   5.076142   10.152284\n",
       "13     14       Post            26.6667   9.708738   29.126214\n",
       "14     15       Post            17.9487   4.201681   21.008403\n",
       "15     16       Post            12.8205  13.043478   34.782609\n",
       "16     17       Post            15.7895   9.950249   19.900498\n",
       "17     18       Post             0.0000   9.950249    9.950249\n",
       "18     19       Post            30.7692   8.510638   25.531915\n",
       "19     20       Post            26.8293   9.259259   23.148148"
      ]
     },
     "execution_count": 228,
     "metadata": {},
     "output_type": "execute_result"
    }
   ],
   "source": [
    "treat = pd.read_csv('Treatment_Facility.csv')\n",
    "treat"
   ]
  },
  {
   "cell_type": "code",
   "execution_count": 229,
   "id": "44a65a6e",
   "metadata": {},
   "outputs": [
    {
     "name": "stdout",
     "output_type": "stream",
     "text": [
      "<class 'pandas.core.frame.DataFrame'>\n",
      "RangeIndex: 20 entries, 0 to 19\n",
      "Data columns (total 5 columns):\n",
      " #   Column             Non-Null Count  Dtype  \n",
      "---  ------             --------------  -----  \n",
      " 0   Month              20 non-null     int64  \n",
      " 1   Reengineer         20 non-null     object \n",
      " 2   Employee_Turnover  20 non-null     float64\n",
      " 3   VAR4               20 non-null     float64\n",
      " 4   VAR5               20 non-null     float64\n",
      "dtypes: float64(3), int64(1), object(1)\n",
      "memory usage: 928.0+ bytes\n"
     ]
    }
   ],
   "source": [
    "treat.info()"
   ]
  },
  {
   "cell_type": "raw",
   "id": "570d50c5",
   "metadata": {},
   "source": [
    "BUSINESS PROBLEM: Determine what effect, if any, the reengineering effort had on the incidence behavioral problems and staff turnover. i.e To determine if the reengineering effort changed the critical incidence rate. Is there evidence that the critical incidence rate improved?"
   ]
  },
  {
   "cell_type": "code",
   "execution_count": 230,
   "id": "1f1796a8",
   "metadata": {},
   "outputs": [],
   "source": [
    "test1 = treat.loc[treat.Reengineer == 'Prior','Employee_Turnover' ]\n",
    "test2 = treat.loc[treat.Reengineer == 'Post' ,'Employee_Turnover']"
   ]
  },
  {
   "cell_type": "code",
   "execution_count": 231,
   "id": "0e444c5a",
   "metadata": {},
   "outputs": [
    {
     "data": {
      "text/plain": [
       "Ttest_indResult(statistic=-1.770306704753604, pvalue=0.09361109345535304)"
      ]
     },
     "execution_count": 231,
     "metadata": {},
     "output_type": "execute_result"
    }
   ],
   "source": [
    "stats.ttest_ind(test1,test2)"
   ]
  },
  {
   "cell_type": "code",
   "execution_count": 232,
   "id": "185e54ce",
   "metadata": {},
   "outputs": [
    {
     "data": {
      "text/plain": [
       "F_onewayResult(statistic=3.133985828895568, pvalue=0.09361109345535291)"
      ]
     },
     "execution_count": 232,
     "metadata": {},
     "output_type": "execute_result"
    }
   ],
   "source": [
    "stats.f_oneway(test1,test2)"
   ]
  },
  {
   "cell_type": "raw",
   "id": "819bb8ce",
   "metadata": {},
   "source": [
    "business conclusion:\n",
    "    with 95% confidence we can say that employee turnover is still high after reengineering       effort has taken."
   ]
  },
  {
   "cell_type": "code",
   "execution_count": null,
   "id": "07e42843",
   "metadata": {},
   "outputs": [],
   "source": []
  },
  {
   "cell_type": "code",
   "execution_count": 233,
   "id": "6b02ade5",
   "metadata": {},
   "outputs": [],
   "source": [
    "t1 = treat.loc[treat.Reengineer == 'Prior','VAR5' ]\n",
    "t2 = treat.loc[treat.Reengineer == 'Post' ,'VAR5']"
   ]
  },
  {
   "cell_type": "code",
   "execution_count": 234,
   "id": "53fe228d",
   "metadata": {},
   "outputs": [
    {
     "data": {
      "text/plain": [
       "Ttest_indResult(statistic=1.6279144253528646, pvalue=0.12091989189884149)"
      ]
     },
     "execution_count": 234,
     "metadata": {},
     "output_type": "execute_result"
    }
   ],
   "source": [
    "stats.ttest_ind(t1,t2)"
   ]
  },
  {
   "cell_type": "code",
   "execution_count": 235,
   "id": "1c12fe8d",
   "metadata": {},
   "outputs": [
    {
     "data": {
      "text/plain": [
       "F_onewayResult(statistic=2.650105376271948, pvalue=0.12091989189884142)"
      ]
     },
     "execution_count": 235,
     "metadata": {},
     "output_type": "execute_result"
    }
   ],
   "source": [
    "stats.f_oneway(t1,t2)"
   ]
  },
  {
   "cell_type": "raw",
   "id": "6cff079e",
   "metadata": {},
   "source": [
    "business conclusion:\n",
    "      with 95% confidence we can say that there is no improvement in critical incedence bcs p-      value is greater than cut-off p"
   ]
  },
  {
   "cell_type": "code",
   "execution_count": null,
   "id": "764b5028",
   "metadata": {},
   "outputs": [],
   "source": []
  },
  {
   "cell_type": "markdown",
   "id": "45ba6840",
   "metadata": {},
   "source": [
    "# business problem 4"
   ]
  },
  {
   "cell_type": "code",
   "execution_count": 236,
   "id": "f9dd6eb5",
   "metadata": {},
   "outputs": [
    {
     "data": {
      "text/html": [
       "<div>\n",
       "<style scoped>\n",
       "    .dataframe tbody tr th:only-of-type {\n",
       "        vertical-align: middle;\n",
       "    }\n",
       "\n",
       "    .dataframe tbody tr th {\n",
       "        vertical-align: top;\n",
       "    }\n",
       "\n",
       "    .dataframe thead th {\n",
       "        text-align: right;\n",
       "    }\n",
       "</style>\n",
       "<table border=\"1\" class=\"dataframe\">\n",
       "  <thead>\n",
       "    <tr style=\"text-align: right;\">\n",
       "      <th></th>\n",
       "      <th>Days</th>\n",
       "      <th>Priority</th>\n",
       "    </tr>\n",
       "  </thead>\n",
       "  <tbody>\n",
       "    <tr>\n",
       "      <th>0</th>\n",
       "      <td>3.3</td>\n",
       "      <td>High</td>\n",
       "    </tr>\n",
       "    <tr>\n",
       "      <th>1</th>\n",
       "      <td>7.9</td>\n",
       "      <td>Medium</td>\n",
       "    </tr>\n",
       "    <tr>\n",
       "      <th>2</th>\n",
       "      <td>0.3</td>\n",
       "      <td>High</td>\n",
       "    </tr>\n",
       "    <tr>\n",
       "      <th>3</th>\n",
       "      <td>0.7</td>\n",
       "      <td>Medium</td>\n",
       "    </tr>\n",
       "    <tr>\n",
       "      <th>4</th>\n",
       "      <td>8.6</td>\n",
       "      <td>Medium</td>\n",
       "    </tr>\n",
       "    <tr>\n",
       "      <th>...</th>\n",
       "      <td>...</td>\n",
       "      <td>...</td>\n",
       "    </tr>\n",
       "    <tr>\n",
       "      <th>637</th>\n",
       "      <td>2.5</td>\n",
       "      <td>Low</td>\n",
       "    </tr>\n",
       "    <tr>\n",
       "      <th>638</th>\n",
       "      <td>0.3</td>\n",
       "      <td>High</td>\n",
       "    </tr>\n",
       "    <tr>\n",
       "      <th>639</th>\n",
       "      <td>0.3</td>\n",
       "      <td>Medium</td>\n",
       "    </tr>\n",
       "    <tr>\n",
       "      <th>640</th>\n",
       "      <td>1.3</td>\n",
       "      <td>Medium</td>\n",
       "    </tr>\n",
       "    <tr>\n",
       "      <th>641</th>\n",
       "      <td>0.5</td>\n",
       "      <td>High</td>\n",
       "    </tr>\n",
       "  </tbody>\n",
       "</table>\n",
       "<p>642 rows × 2 columns</p>\n",
       "</div>"
      ],
      "text/plain": [
       "     Days Priority\n",
       "0     3.3     High\n",
       "1     7.9   Medium\n",
       "2     0.3     High\n",
       "3     0.7   Medium\n",
       "4     8.6   Medium\n",
       "..    ...      ...\n",
       "637   2.5      Low\n",
       "638   0.3     High\n",
       "639   0.3   Medium\n",
       "640   1.3   Medium\n",
       "641   0.5     High\n",
       "\n",
       "[642 rows x 2 columns]"
      ]
     },
     "execution_count": 236,
     "metadata": {},
     "output_type": "execute_result"
    }
   ],
   "source": [
    "priority = pd.read_csv('Priority_Assessment.csv')\n",
    "priority"
   ]
  },
  {
   "cell_type": "code",
   "execution_count": 237,
   "id": "d5e396df",
   "metadata": {},
   "outputs": [
    {
     "name": "stdout",
     "output_type": "stream",
     "text": [
      "<class 'pandas.core.frame.DataFrame'>\n",
      "RangeIndex: 642 entries, 0 to 641\n",
      "Data columns (total 2 columns):\n",
      " #   Column    Non-Null Count  Dtype  \n",
      "---  ------    --------------  -----  \n",
      " 0   Days      642 non-null    float64\n",
      " 1   Priority  642 non-null    object \n",
      "dtypes: float64(1), object(1)\n",
      "memory usage: 10.2+ KB\n"
     ]
    }
   ],
   "source": [
    "priority.info()"
   ]
  },
  {
   "cell_type": "raw",
   "id": "eb96fc36",
   "metadata": {},
   "source": [
    "h0: there is no effect of prioritization\n",
    "ha: there is a positive effect of prioritization \n",
    "confidence level = 99%\n",
    "p value : 0.01\n"
   ]
  },
  {
   "cell_type": "code",
   "execution_count": 238,
   "id": "55fde148",
   "metadata": {},
   "outputs": [],
   "source": [
    "s1 = priority.loc[priority.Priority == 'High','Days']\n",
    "s2 = priority.loc[priority.Priority == 'Low','Days']\n",
    "s3 = priority.loc[priority.Priority == 'Medium','Days']"
   ]
  },
  {
   "cell_type": "code",
   "execution_count": 239,
   "id": "b23ce366",
   "metadata": {},
   "outputs": [
    {
     "data": {
      "text/plain": [
       "2.5000000000000004"
      ]
     },
     "execution_count": 239,
     "metadata": {},
     "output_type": "execute_result"
    }
   ],
   "source": [
    "s1.mean()\n",
    "s2.mean()\n",
    "s3.mean()"
   ]
  },
  {
   "cell_type": "code",
   "execution_count": 240,
   "id": "b0679827",
   "metadata": {},
   "outputs": [
    {
     "data": {
      "text/plain": [
       "F_onewayResult(statistic=1.812311010076072, pvalue=0.16411459461716182)"
      ]
     },
     "execution_count": 240,
     "metadata": {},
     "output_type": "execute_result"
    }
   ],
   "source": [
    "stats.f_oneway(s1,s2,s3)"
   ]
  },
  {
   "cell_type": "raw",
   "id": "09c4dae9",
   "metadata": {},
   "source": [
    "business conclusion\n",
    ">>>  even at 99% confidence level we fail to reject the null hypothesis \n",
    "     i.e. even if work is prioritized , with 99% confidence level we can say that  same number      days are used to complete the work"
   ]
  },
  {
   "cell_type": "code",
   "execution_count": null,
   "id": "8971c438",
   "metadata": {},
   "outputs": [],
   "source": []
  },
  {
   "cell_type": "markdown",
   "id": "3fba4901",
   "metadata": {},
   "source": [
    "# business problem 5"
   ]
  },
  {
   "cell_type": "code",
   "execution_count": 45,
   "id": "b35261e5",
   "metadata": {},
   "outputs": [
    {
     "data": {
      "text/html": [
       "<div>\n",
       "<style scoped>\n",
       "    .dataframe tbody tr th:only-of-type {\n",
       "        vertical-align: middle;\n",
       "    }\n",
       "\n",
       "    .dataframe tbody tr th {\n",
       "        vertical-align: top;\n",
       "    }\n",
       "\n",
       "    .dataframe thead th {\n",
       "        text-align: right;\n",
       "    }\n",
       "</style>\n",
       "<table border=\"1\" class=\"dataframe\">\n",
       "  <thead>\n",
       "    <tr style=\"text-align: right;\">\n",
       "      <th></th>\n",
       "      <th>_rowstate_</th>\n",
       "      <th>Movie</th>\n",
       "      <th>Gender</th>\n",
       "      <th>Marital_Status</th>\n",
       "      <th>Sinage</th>\n",
       "      <th>Parking</th>\n",
       "      <th>Clean</th>\n",
       "      <th>Overall</th>\n",
       "      <th>Age</th>\n",
       "      <th>Income</th>\n",
       "      <th>Hear_About</th>\n",
       "      <th>Gender.1</th>\n",
       "      <th>marital_status</th>\n",
       "    </tr>\n",
       "  </thead>\n",
       "  <tbody>\n",
       "    <tr>\n",
       "      <th>0</th>\n",
       "      <td>0</td>\n",
       "      <td>Ferris Buellers Day Off</td>\n",
       "      <td>Female</td>\n",
       "      <td>Married</td>\n",
       "      <td>2.0</td>\n",
       "      <td>2.0</td>\n",
       "      <td>2.0</td>\n",
       "      <td>2.0</td>\n",
       "      <td>3.0</td>\n",
       "      <td>1.0</td>\n",
       "      <td>5</td>\n",
       "      <td>female</td>\n",
       "      <td>married</td>\n",
       "    </tr>\n",
       "    <tr>\n",
       "      <th>1</th>\n",
       "      <td>0</td>\n",
       "      <td>Ferris Buellers Day Off</td>\n",
       "      <td>Female</td>\n",
       "      <td>Single</td>\n",
       "      <td>1.0</td>\n",
       "      <td>1.0</td>\n",
       "      <td>1.0</td>\n",
       "      <td>1.0</td>\n",
       "      <td>2.0</td>\n",
       "      <td>1.0</td>\n",
       "      <td>5</td>\n",
       "      <td>female</td>\n",
       "      <td>single</td>\n",
       "    </tr>\n",
       "    <tr>\n",
       "      <th>2</th>\n",
       "      <td>0</td>\n",
       "      <td>Ferris Buellers Day Off</td>\n",
       "      <td>Male</td>\n",
       "      <td>Married</td>\n",
       "      <td>2.0</td>\n",
       "      <td>4.0</td>\n",
       "      <td>3.0</td>\n",
       "      <td>2.0</td>\n",
       "      <td>4.0</td>\n",
       "      <td>1.0</td>\n",
       "      <td>5</td>\n",
       "      <td>male</td>\n",
       "      <td>married</td>\n",
       "    </tr>\n",
       "    <tr>\n",
       "      <th>3</th>\n",
       "      <td>0</td>\n",
       "      <td>Ferris Buellers Day Off</td>\n",
       "      <td>Female</td>\n",
       "      <td>Married</td>\n",
       "      <td>1.0</td>\n",
       "      <td>3.0</td>\n",
       "      <td>2.0</td>\n",
       "      <td>2.0</td>\n",
       "      <td>4.0</td>\n",
       "      <td>1.0</td>\n",
       "      <td>5</td>\n",
       "      <td>female</td>\n",
       "      <td>married</td>\n",
       "    </tr>\n",
       "    <tr>\n",
       "      <th>4</th>\n",
       "      <td>0</td>\n",
       "      <td>Ferris Buellers Day Off</td>\n",
       "      <td>Female</td>\n",
       "      <td>Married</td>\n",
       "      <td>1.0</td>\n",
       "      <td>1.0</td>\n",
       "      <td>1.0</td>\n",
       "      <td>1.0</td>\n",
       "      <td>3.0</td>\n",
       "      <td>3.0</td>\n",
       "      <td>1</td>\n",
       "      <td>female</td>\n",
       "      <td>married</td>\n",
       "    </tr>\n",
       "    <tr>\n",
       "      <th>...</th>\n",
       "      <td>...</td>\n",
       "      <td>...</td>\n",
       "      <td>...</td>\n",
       "      <td>...</td>\n",
       "      <td>...</td>\n",
       "      <td>...</td>\n",
       "      <td>...</td>\n",
       "      <td>...</td>\n",
       "      <td>...</td>\n",
       "      <td>...</td>\n",
       "      <td>...</td>\n",
       "      <td>...</td>\n",
       "      <td>...</td>\n",
       "    </tr>\n",
       "    <tr>\n",
       "      <th>325</th>\n",
       "      <td>0</td>\n",
       "      <td>Old School</td>\n",
       "      <td>2</td>\n",
       "      <td>2</td>\n",
       "      <td>1.0</td>\n",
       "      <td>2.0</td>\n",
       "      <td>1.0</td>\n",
       "      <td>1.0</td>\n",
       "      <td>2.0</td>\n",
       "      <td>1.0</td>\n",
       "      <td>1</td>\n",
       "      <td>female</td>\n",
       "      <td>single</td>\n",
       "    </tr>\n",
       "    <tr>\n",
       "      <th>326</th>\n",
       "      <td>0</td>\n",
       "      <td>Old School</td>\n",
       "      <td>1</td>\n",
       "      <td>1</td>\n",
       "      <td>2.0</td>\n",
       "      <td>2.0</td>\n",
       "      <td>2.0</td>\n",
       "      <td>2.0</td>\n",
       "      <td>3.0</td>\n",
       "      <td>3.0</td>\n",
       "      <td>5</td>\n",
       "      <td>male</td>\n",
       "      <td>married</td>\n",
       "    </tr>\n",
       "    <tr>\n",
       "      <th>327</th>\n",
       "      <td>0</td>\n",
       "      <td>Old School</td>\n",
       "      <td>2</td>\n",
       "      <td>1</td>\n",
       "      <td>2.0</td>\n",
       "      <td>1.0</td>\n",
       "      <td>1.0</td>\n",
       "      <td>2.0</td>\n",
       "      <td>2.0</td>\n",
       "      <td>2.0</td>\n",
       "      <td>5</td>\n",
       "      <td>female</td>\n",
       "      <td>married</td>\n",
       "    </tr>\n",
       "    <tr>\n",
       "      <th>328</th>\n",
       "      <td>0</td>\n",
       "      <td>Old School</td>\n",
       "      <td>1</td>\n",
       "      <td>1</td>\n",
       "      <td>1.0</td>\n",
       "      <td>1.0</td>\n",
       "      <td>1.0</td>\n",
       "      <td>1.0</td>\n",
       "      <td>2.0</td>\n",
       "      <td>1.0</td>\n",
       "      <td>3</td>\n",
       "      <td>male</td>\n",
       "      <td>married</td>\n",
       "    </tr>\n",
       "    <tr>\n",
       "      <th>329</th>\n",
       "      <td>0</td>\n",
       "      <td>Old School</td>\n",
       "      <td>2</td>\n",
       "      <td>2</td>\n",
       "      <td>2.0</td>\n",
       "      <td>2.0</td>\n",
       "      <td>3.0</td>\n",
       "      <td>1.0</td>\n",
       "      <td>2.0</td>\n",
       "      <td>1.0</td>\n",
       "      <td>5</td>\n",
       "      <td>female</td>\n",
       "      <td>single</td>\n",
       "    </tr>\n",
       "  </tbody>\n",
       "</table>\n",
       "<p>330 rows × 13 columns</p>\n",
       "</div>"
      ],
      "text/plain": [
       "     _rowstate_                    Movie  Gender Marital_Status  Sinage  \\\n",
       "0             0  Ferris Buellers Day Off  Female        Married     2.0   \n",
       "1             0  Ferris Buellers Day Off  Female         Single     1.0   \n",
       "2             0  Ferris Buellers Day Off    Male        Married     2.0   \n",
       "3             0  Ferris Buellers Day Off  Female        Married     1.0   \n",
       "4             0  Ferris Buellers Day Off  Female        Married     1.0   \n",
       "..          ...                      ...     ...            ...     ...   \n",
       "325           0               Old School       2              2     1.0   \n",
       "326           0               Old School       1              1     2.0   \n",
       "327           0               Old School       2              1     2.0   \n",
       "328           0               Old School       1              1     1.0   \n",
       "329           0               Old School       2              2     2.0   \n",
       "\n",
       "     Parking  Clean  Overall  Age  Income Hear_About Gender.1 marital_status  \n",
       "0        2.0    2.0      2.0  3.0     1.0          5   female        married  \n",
       "1        1.0    1.0      1.0  2.0     1.0          5   female         single  \n",
       "2        4.0    3.0      2.0  4.0     1.0          5     male        married  \n",
       "3        3.0    2.0      2.0  4.0     1.0          5   female        married  \n",
       "4        1.0    1.0      1.0  3.0     3.0          1   female        married  \n",
       "..       ...    ...      ...  ...     ...        ...      ...            ...  \n",
       "325      2.0    1.0      1.0  2.0     1.0          1   female         single  \n",
       "326      2.0    2.0      2.0  3.0     3.0          5     male        married  \n",
       "327      1.0    1.0      2.0  2.0     2.0          5   female        married  \n",
       "328      1.0    1.0      1.0  2.0     1.0          3     male        married  \n",
       "329      2.0    3.0      1.0  2.0     1.0          5   female         single  \n",
       "\n",
       "[330 rows x 13 columns]"
      ]
     },
     "execution_count": 45,
     "metadata": {},
     "output_type": "execute_result"
    }
   ],
   "source": [
    "film = pd.read_csv('Films.csv')\n",
    "film"
   ]
  },
  {
   "cell_type": "code",
   "execution_count": 46,
   "id": "f0953539",
   "metadata": {},
   "outputs": [
    {
     "name": "stdout",
     "output_type": "stream",
     "text": [
      "<class 'pandas.core.frame.DataFrame'>\n",
      "RangeIndex: 330 entries, 0 to 329\n",
      "Data columns (total 13 columns):\n",
      " #   Column          Non-Null Count  Dtype  \n",
      "---  ------          --------------  -----  \n",
      " 0   _rowstate_      330 non-null    int64  \n",
      " 1   Movie           330 non-null    object \n",
      " 2   Gender          330 non-null    object \n",
      " 3   Marital_Status  328 non-null    object \n",
      " 4   Sinage          328 non-null    float64\n",
      " 5   Parking         328 non-null    float64\n",
      " 6   Clean           327 non-null    float64\n",
      " 7   Overall         328 non-null    float64\n",
      " 8   Age             328 non-null    float64\n",
      " 9   Income          314 non-null    float64\n",
      " 10  Hear_About      323 non-null    object \n",
      " 11  Gender.1        330 non-null    object \n",
      " 12  marital_status  330 non-null    object \n",
      "dtypes: float64(6), int64(1), object(6)\n",
      "memory usage: 33.6+ KB\n"
     ]
    }
   ],
   "source": [
    "film.info()"
   ]
  },
  {
   "cell_type": "code",
   "execution_count": 47,
   "id": "a164e3dc",
   "metadata": {},
   "outputs": [],
   "source": [
    "film.columns =['_rowstate_', 'Movie', 'Gender', 'Marital_Status', 'Sinage', 'Parking',\n",
    "       'Clean', 'Overall', 'Age', 'Income', 'Hear_About', 'Gender_1',\n",
    "       'marital_status']"
   ]
  },
  {
   "cell_type": "markdown",
   "id": "ce5c5756",
   "metadata": {},
   "source": [
    "### What is the overall level of customer satisfaction?"
   ]
  },
  {
   "cell_type": "code",
   "execution_count": 48,
   "id": "96f5caf5",
   "metadata": {},
   "outputs": [
    {
     "name": "stdout",
     "output_type": "stream",
     "text": [
      "MEAN                 1.6189024390243902\n",
      "STANDARD DEVIATION   0.6892863057161788\n",
      "STANDARD ERROR       0.03794396231956619\n"
     ]
    }
   ],
   "source": [
    "print('MEAN                ',film.Overall.mean())\n",
    "print('STANDARD DEVIATION  ',film.Overall.std())\n",
    "print('STANDARD ERROR      ',film.Overall.std() / np.sqrt(330))"
   ]
  },
  {
   "cell_type": "code",
   "execution_count": 49,
   "id": "08596589",
   "metadata": {},
   "outputs": [
    {
     "name": "stdout",
     "output_type": "stream",
     "text": [
      "1.5445322728780404\n",
      "1.69327260517074\n"
     ]
    }
   ],
   "source": [
    "print(film.Overall.mean() - 1.960 * film.Overall.std() / np.sqrt(330) )\n",
    "print(film.Overall.mean() + 1.960 * film.Overall.std() / np.sqrt(330) )"
   ]
  },
  {
   "cell_type": "markdown",
   "id": "afdcdefa",
   "metadata": {},
   "source": [
    "as per the sample data the average satisfaction is between 1 and 2 which indicates that viewers are  happy . but for the population we can 95 % confidently say that the entire population's satisfaction is between 1.5445322728780404 and 1.69327260517074"
   ]
  },
  {
   "cell_type": "markdown",
   "id": "3e2bd1f9",
   "metadata": {},
   "source": [
    "### What is the demographic profile of Film on the Rocks patrons?"
   ]
  },
  {
   "cell_type": "code",
   "execution_count": 53,
   "id": "70a9c36f",
   "metadata": {},
   "outputs": [],
   "source": [
    "film.marital_status = np.where(film.marital_status == '0',film.marital_status.mode()[0],film.marital_status)"
   ]
  },
  {
   "cell_type": "code",
   "execution_count": 71,
   "id": "15eb3405",
   "metadata": {},
   "outputs": [
    {
     "data": {
      "text/plain": [
       "female    213\n",
       "male      117\n",
       "Name: Gender_1, dtype: int64"
      ]
     },
     "execution_count": 71,
     "metadata": {},
     "output_type": "execute_result"
    }
   ],
   "source": [
    "gender = film.Gender_1.value_counts()\n",
    "gender"
   ]
  },
  {
   "cell_type": "code",
   "execution_count": 97,
   "id": "d6bb59df",
   "metadata": {},
   "outputs": [
    {
     "data": {
      "image/png": "[encoded data removed]",
      "text/plain": [
       "<Figure size 432x288 with 1 Axes>"
      ]
     },
     "metadata": {},
     "output_type": "display_data"
    }
   ],
   "source": [
    "plt.pie(gender , autopct='%.1f%%',labels= ['females','males'],explode = (0.1,0), shadow=True)\n",
    "plt.show()"
   ]
  },
  {
   "cell_type": "code",
   "execution_count": 74,
   "id": "59b51ee2",
   "metadata": {},
   "outputs": [
    {
     "data": {
      "text/plain": [
       "single     230\n",
       "married    100\n",
       "Name: marital_status, dtype: int64"
      ]
     },
     "execution_count": 74,
     "metadata": {},
     "output_type": "execute_result"
    }
   ],
   "source": [
    "marital_status = film.marital_status.value_counts()\n",
    "marital_status"
   ]
  },
  {
   "cell_type": "code",
   "execution_count": 95,
   "id": "35e87678",
   "metadata": {},
   "outputs": [
    {
     "data": {
      "image/png": "[encoded data removed]",
      "text/plain": [
       "<Figure size 432x288 with 1 Axes>"
      ]
     },
     "metadata": {},
     "output_type": "display_data"
    }
   ],
   "source": [
    "plt.pie(marital_status , autopct='%.2f%%',labels= ['single','married'],shadow=True,explode = (0.1,0))\n",
    "plt.show()"
   ]
  },
  {
   "cell_type": "code",
   "execution_count": 78,
   "id": "ad71de15",
   "metadata": {},
   "outputs": [
    {
     "data": {
      "text/plain": [
       "2.0    175\n",
       "3.0    117\n",
       "1.0     26\n",
       "4.0     10\n",
       "Name: Age, dtype: int64"
      ]
     },
     "execution_count": 78,
     "metadata": {},
     "output_type": "execute_result"
    }
   ],
   "source": [
    "age = film.Age.value_counts()\n",
    "age"
   ]
  },
  {
   "cell_type": "code",
   "execution_count": 100,
   "id": "58c4bf98",
   "metadata": {},
   "outputs": [
    {
     "data": {
      "image/png": "[encoded data removed]",
      "text/plain": [
       "<Figure size 432x288 with 1 Axes>"
      ]
     },
     "metadata": {},
     "output_type": "display_data"
    }
   ],
   "source": [
    "plt.pie(age , autopct='%.2f%%',labels= ['13-30','31-60','1-12','60+'])\n",
    "plt.show()"
   ]
  },
  {
   "cell_type": "code",
   "execution_count": 105,
   "id": "d7b7a173",
   "metadata": {},
   "outputs": [
    {
     "data": {
      "text/plain": [
       "1.0    142\n",
       "3.0     90\n",
       "2.0     82\n",
       "Name: Income, dtype: int64"
      ]
     },
     "execution_count": 105,
     "metadata": {},
     "output_type": "execute_result"
    }
   ],
   "source": [
    "income = film.Income.value_counts()\n",
    "income"
   ]
  },
  {
   "cell_type": "code",
   "execution_count": 111,
   "id": "d0ca11de",
   "metadata": {},
   "outputs": [
    {
     "data": {
      "image/png": "[encoded data removed]",
      "text/plain": [
       "<Figure size 432x288 with 1 Axes>"
      ]
     },
     "metadata": {},
     "output_type": "display_data"
    }
   ],
   "source": [
    "plt.pie(income ,labels = ['< $50,000' , '$100,000+' , '$50-$100,000'] , autopct = '%.2f%%' , shadow= True ,explode = (0.1,0,0))\n",
    "plt.show()"
   ]
  },
  {
   "cell_type": "markdown",
   "id": "aa6ddd51",
   "metadata": {},
   "source": [
    "### In what media outlet(s) should the film series be advertised?"
   ]
  },
  {
   "cell_type": "code",
   "execution_count": 119,
   "id": "84ac0b1a",
   "metadata": {},
   "outputs": [],
   "source": [
    "film.Hear_About.fillna(film.Hear_About.mode()[0],inplace = True)"
   ]
  },
  {
   "cell_type": "code",
   "execution_count": 126,
   "id": "025089bf",
   "metadata": {},
   "outputs": [],
   "source": [
    "film['film_encoding'] =     np.where(film.Hear_About == '1' , 'television',\n",
    "                            np.where(film.Hear_About == '2','newspaper',\n",
    "                            np.where(film.Hear_About == '3','radio',\n",
    "                            np.where(film.Hear_About == '4','website',\n",
    "                            np.where(film.Hear_About == '5','word of mouth',\n",
    "                            np.where(film.Hear_About == '1,5','television & word of mouth',\n",
    "                            np.where(film.Hear_About == '2,5','newspaper & word of mouth',\n",
    "                            np.where(film.Hear_About == '3,4','radio & website',\n",
    "                            np.where(film.Hear_About == '3,5','radio & word of mouth',\n",
    "                            np.where(film.Hear_About == '4,5','website & word of mouth',\n",
    "                            np.where(film.Hear_About == '5,4','word of mouth & website',np.nan)))))))))))"
   ]
  },
  {
   "cell_type": "code",
   "execution_count": 193,
   "id": "0df5bcc2",
   "metadata": {},
   "outputs": [
    {
     "data": {
      "text/plain": [
       "word of mouth                 233\n",
       "website                        41\n",
       "television                     22\n",
       "radio                          14\n",
       "newspaper                      12\n",
       "newspaper & word of mouth       2\n",
       "radio & website                 2\n",
       "website & word of mouth         1\n",
       "television & word of mouth      1\n",
       "word of mouth & website         1\n",
       "radio & word of mouth           1\n",
       "Name: film_encoding, dtype: int64"
      ]
     },
     "execution_count": 193,
     "metadata": {},
     "output_type": "execute_result"
    }
   ],
   "source": [
    "aw = film.film_encoding.value_counts()\n",
    "aw"
   ]
  },
  {
   "cell_type": "code",
   "execution_count": 200,
   "id": "d0c12d2b",
   "metadata": {},
   "outputs": [
    {
     "data": {
      "text/plain": [
       "word of mouth                 70.61\n",
       "website                       12.42\n",
       "television                     6.67\n",
       "radio                          4.24\n",
       "newspaper                      3.64\n",
       "newspaper & word of mouth      0.61\n",
       "radio & website                0.61\n",
       "website & word of mouth        0.30\n",
       "television & word of mouth     0.30\n",
       "word of mouth & website        0.30\n",
       "radio & word of mouth          0.30\n",
       "Name: film_encoding, dtype: float64"
      ]
     },
     "execution_count": 200,
     "metadata": {},
     "output_type": "execute_result"
    }
   ],
   "source": [
    "yy = aw.sum()\n",
    "aw.apply(lambda x : round(x/yy * 100,2))"
   ]
  },
  {
   "cell_type": "code",
   "execution_count": 201,
   "id": "29869d70",
   "metadata": {},
   "outputs": [
    {
     "data": {
      "image/png": "[encoded data removed]",
      "text/plain": [
       "<Figure size 720x720 with 1 Axes>"
      ]
     },
     "metadata": {},
     "output_type": "display_data"
    }
   ],
   "source": [
    "distance = 0.1\n",
    "separate = (distance, distance, distance, distance, distance, distance,distance,distance,distance,distance,distance)\n",
    "plt.figure(figsize= (10,10))\n",
    "plt.pie(aw ,autopct = '%.2f%%' , shadow= True,labels = ['word of mouth','website','television',\n",
    "                                                                                 'radio','newspaper' ,'newspaper & word of mouth',\n",
    "                                                                                 'radio & website',\n",
    "                                                                                 'website & word of mouth','television & word of mouth',\n",
    "                                                                                 'word of mouth & website','radio & word of mouth'] ,labeldistance= 1.1,startangle=180,explode = separate)#explode = (0.4,0,0,0,0,0,0,0,0,0,0) )\n",
    "plt.show()                "
   ]
  },
  {
   "cell_type": "markdown",
   "id": "8c01036e",
   "metadata": {},
   "source": [
    "####  as per the pie chart it can be concluded that film series should be advertised with word of mouth."
   ]
  },
  {
   "cell_type": "code",
   "execution_count": null,
   "id": "6e6ea1bc",
   "metadata": {},
   "outputs": [],
   "source": []
  },
  {
   "cell_type": "markdown",
   "id": "62604311",
   "metadata": {},
   "source": [
    "#### What factors are linked to satisfaction?\n"
   ]
  },
  {
   "cell_type": "code",
   "execution_count": null,
   "id": "63cce68d",
   "metadata": {},
   "outputs": [],
   "source": []
  }
 ],
 "metadata": {
  "kernelspec": {
   "display_name": "Python 3 (ipykernel)",
   "language": "python",
   "name": "python3"
  },
  "language_info": {
   "codemirror_mode": {
    "name": "ipython",
    "version": 3
   },
   "file_extension": ".py",
   "mimetype": "text/x-python",
   "name": "python",
   "nbconvert_exporter": "python",
   "pygments_lexer": "ipython3",
   "version": "3.9.7"
  }
 },
 "nbformat": 4,
 "nbformat_minor": 5
}
