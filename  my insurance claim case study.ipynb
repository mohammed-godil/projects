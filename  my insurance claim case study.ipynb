{
 "cells": [
  {
   "cell_type": "markdown",
   "id": "889495a3",
   "metadata": {},
   "source": [
    "# mohammed insurance case study"
   ]
  },
  {
   "cell_type": "code",
   "execution_count": 20,
   "id": "15db4f09",
   "metadata": {},
   "outputs": [],
   "source": [
    "import numpy as np\n",
    "import pandas as pd\n",
    "import matplotlib.pyplot as plt\n",
    "import seaborn as sns\n",
    "import scipy.stats as stats\n",
    "%matplotlib inline"
   ]
  },
  {
   "cell_type": "code",
   "execution_count": 21,
   "id": "35f0073e",
   "metadata": {},
   "outputs": [],
   "source": [
    "claim = pd.read_csv('claims.csv')\n",
    "customer = pd.read_csv('cust_demographics.csv')"
   ]
  },
  {
   "cell_type": "code",
   "execution_count": 22,
   "id": "fdcf7ed5",
   "metadata": {},
   "outputs": [],
   "source": [
    "insurance = pd.merge(right = claim , left = customer , \n",
    "            right_on = 'customer_id', left_on = 'CUST_ID' , how = 'outer')"
   ]
  },
  {
   "cell_type": "code",
   "execution_count": 23,
   "id": "ed1f8a74",
   "metadata": {},
   "outputs": [
    {
     "data": {
      "text/html": [
       "<div>\n",
       "<style scoped>\n",
       "    .dataframe tbody tr th:only-of-type {\n",
       "        vertical-align: middle;\n",
       "    }\n",
       "\n",
       "    .dataframe tbody tr th {\n",
       "        vertical-align: top;\n",
       "    }\n",
       "\n",
       "    .dataframe thead th {\n",
       "        text-align: right;\n",
       "    }\n",
       "</style>\n",
       "<table border=\"1\" class=\"dataframe\">\n",
       "  <thead>\n",
       "    <tr style=\"text-align: right;\">\n",
       "      <th></th>\n",
       "      <th>CUST_ID</th>\n",
       "      <th>gender</th>\n",
       "      <th>DateOfBirth</th>\n",
       "      <th>State</th>\n",
       "      <th>Contact</th>\n",
       "      <th>Segment</th>\n",
       "      <th>claim_id</th>\n",
       "      <th>customer_id</th>\n",
       "      <th>incident_cause</th>\n",
       "      <th>claim_date</th>\n",
       "      <th>claim_area</th>\n",
       "      <th>police_report</th>\n",
       "      <th>claim_type</th>\n",
       "      <th>claim_amount</th>\n",
       "      <th>total_policy_claims</th>\n",
       "      <th>fraudulent</th>\n",
       "    </tr>\n",
       "  </thead>\n",
       "  <tbody>\n",
       "    <tr>\n",
       "      <th>0</th>\n",
       "      <td>21868593.0</td>\n",
       "      <td>Female</td>\n",
       "      <td>12-Jan-79</td>\n",
       "      <td>VT</td>\n",
       "      <td>789-916-8172</td>\n",
       "      <td>Platinum</td>\n",
       "      <td>54004764.0</td>\n",
       "      <td>21868593.0</td>\n",
       "      <td>Driver error</td>\n",
       "      <td>11/27/2017</td>\n",
       "      <td>Auto</td>\n",
       "      <td>No</td>\n",
       "      <td>Material only</td>\n",
       "      <td>$2980</td>\n",
       "      <td>1.0</td>\n",
       "      <td>No</td>\n",
       "    </tr>\n",
       "    <tr>\n",
       "      <th>1</th>\n",
       "      <td>75740424.0</td>\n",
       "      <td>Female</td>\n",
       "      <td>13-Jan-70</td>\n",
       "      <td>ME</td>\n",
       "      <td>265-543-1264</td>\n",
       "      <td>Silver</td>\n",
       "      <td>33985796.0</td>\n",
       "      <td>75740424.0</td>\n",
       "      <td>Crime</td>\n",
       "      <td>10/03/2018</td>\n",
       "      <td>Home</td>\n",
       "      <td>Unknown</td>\n",
       "      <td>Material only</td>\n",
       "      <td>$2980</td>\n",
       "      <td>3.0</td>\n",
       "      <td>No</td>\n",
       "    </tr>\n",
       "    <tr>\n",
       "      <th>2</th>\n",
       "      <td>30308357.0</td>\n",
       "      <td>Female</td>\n",
       "      <td>11-Mar-84</td>\n",
       "      <td>TN</td>\n",
       "      <td>798-631-4758</td>\n",
       "      <td>Silver</td>\n",
       "      <td>53522022.0</td>\n",
       "      <td>30308357.0</td>\n",
       "      <td>Other driver error</td>\n",
       "      <td>02/02/2018</td>\n",
       "      <td>Auto</td>\n",
       "      <td>No</td>\n",
       "      <td>Material only</td>\n",
       "      <td>$3369.5</td>\n",
       "      <td>1.0</td>\n",
       "      <td>Yes</td>\n",
       "    </tr>\n",
       "    <tr>\n",
       "      <th>3</th>\n",
       "      <td>30308357.0</td>\n",
       "      <td>Female</td>\n",
       "      <td>11-Mar-84</td>\n",
       "      <td>TN</td>\n",
       "      <td>798-631-4758</td>\n",
       "      <td>Silver</td>\n",
       "      <td>63017412.0</td>\n",
       "      <td>30308357.0</td>\n",
       "      <td>Driver error</td>\n",
       "      <td>04/04/2018</td>\n",
       "      <td>Auto</td>\n",
       "      <td>No</td>\n",
       "      <td>Material only</td>\n",
       "      <td>$1950</td>\n",
       "      <td>6.0</td>\n",
       "      <td>No</td>\n",
       "    </tr>\n",
       "    <tr>\n",
       "      <th>4</th>\n",
       "      <td>47830476.0</td>\n",
       "      <td>Female</td>\n",
       "      <td>01-May-86</td>\n",
       "      <td>MA</td>\n",
       "      <td>413-187-7945</td>\n",
       "      <td>Silver</td>\n",
       "      <td>13015401.0</td>\n",
       "      <td>47830476.0</td>\n",
       "      <td>Natural causes</td>\n",
       "      <td>06/17/2018</td>\n",
       "      <td>Auto</td>\n",
       "      <td>No</td>\n",
       "      <td>Material only</td>\n",
       "      <td>$1680</td>\n",
       "      <td>1.0</td>\n",
       "      <td>No</td>\n",
       "    </tr>\n",
       "    <tr>\n",
       "      <th>...</th>\n",
       "      <td>...</td>\n",
       "      <td>...</td>\n",
       "      <td>...</td>\n",
       "      <td>...</td>\n",
       "      <td>...</td>\n",
       "      <td>...</td>\n",
       "      <td>...</td>\n",
       "      <td>...</td>\n",
       "      <td>...</td>\n",
       "      <td>...</td>\n",
       "      <td>...</td>\n",
       "      <td>...</td>\n",
       "      <td>...</td>\n",
       "      <td>...</td>\n",
       "      <td>...</td>\n",
       "      <td>...</td>\n",
       "    </tr>\n",
       "    <tr>\n",
       "      <th>1102</th>\n",
       "      <td>NaN</td>\n",
       "      <td>NaN</td>\n",
       "      <td>NaN</td>\n",
       "      <td>NaN</td>\n",
       "      <td>NaN</td>\n",
       "      <td>NaN</td>\n",
       "      <td>97727122.0</td>\n",
       "      <td>35951012.0</td>\n",
       "      <td>Other driver error</td>\n",
       "      <td>06/11/2017</td>\n",
       "      <td>Auto</td>\n",
       "      <td>No</td>\n",
       "      <td>Material only</td>\n",
       "      <td>$3059</td>\n",
       "      <td>4.0</td>\n",
       "      <td>Yes</td>\n",
       "    </tr>\n",
       "    <tr>\n",
       "      <th>1103</th>\n",
       "      <td>NaN</td>\n",
       "      <td>NaN</td>\n",
       "      <td>NaN</td>\n",
       "      <td>NaN</td>\n",
       "      <td>NaN</td>\n",
       "      <td>NaN</td>\n",
       "      <td>10247193.0</td>\n",
       "      <td>14818669.0</td>\n",
       "      <td>Natural causes</td>\n",
       "      <td>03/14/2018</td>\n",
       "      <td>Auto</td>\n",
       "      <td>No</td>\n",
       "      <td>Material only</td>\n",
       "      <td>$1520</td>\n",
       "      <td>2.0</td>\n",
       "      <td>No</td>\n",
       "    </tr>\n",
       "    <tr>\n",
       "      <th>1104</th>\n",
       "      <td>NaN</td>\n",
       "      <td>NaN</td>\n",
       "      <td>NaN</td>\n",
       "      <td>NaN</td>\n",
       "      <td>NaN</td>\n",
       "      <td>NaN</td>\n",
       "      <td>79807493.0</td>\n",
       "      <td>85322831.0</td>\n",
       "      <td>Other driver error</td>\n",
       "      <td>02/09/2018</td>\n",
       "      <td>Auto</td>\n",
       "      <td>No</td>\n",
       "      <td>Material and injury</td>\n",
       "      <td>$23575</td>\n",
       "      <td>2.0</td>\n",
       "      <td>Yes</td>\n",
       "    </tr>\n",
       "    <tr>\n",
       "      <th>1105</th>\n",
       "      <td>NaN</td>\n",
       "      <td>NaN</td>\n",
       "      <td>NaN</td>\n",
       "      <td>NaN</td>\n",
       "      <td>NaN</td>\n",
       "      <td>NaN</td>\n",
       "      <td>69299345.0</td>\n",
       "      <td>73449366.0</td>\n",
       "      <td>Other causes</td>\n",
       "      <td>03/21/2018</td>\n",
       "      <td>Auto</td>\n",
       "      <td>Unknown</td>\n",
       "      <td>Material and injury</td>\n",
       "      <td>$25120</td>\n",
       "      <td>1.0</td>\n",
       "      <td>No</td>\n",
       "    </tr>\n",
       "    <tr>\n",
       "      <th>1106</th>\n",
       "      <td>NaN</td>\n",
       "      <td>NaN</td>\n",
       "      <td>NaN</td>\n",
       "      <td>NaN</td>\n",
       "      <td>NaN</td>\n",
       "      <td>NaN</td>\n",
       "      <td>58809728.0</td>\n",
       "      <td>43020876.0</td>\n",
       "      <td>Other driver error</td>\n",
       "      <td>06/04/2017</td>\n",
       "      <td>Auto</td>\n",
       "      <td>Yes</td>\n",
       "      <td>Material and injury</td>\n",
       "      <td>$36685</td>\n",
       "      <td>3.0</td>\n",
       "      <td>Yes</td>\n",
       "    </tr>\n",
       "  </tbody>\n",
       "</table>\n",
       "<p>1107 rows × 16 columns</p>\n",
       "</div>"
      ],
      "text/plain": [
       "         CUST_ID  gender DateOfBirth State       Contact   Segment  \\\n",
       "0     21868593.0  Female   12-Jan-79    VT  789-916-8172  Platinum   \n",
       "1     75740424.0  Female   13-Jan-70    ME  265-543-1264    Silver   \n",
       "2     30308357.0  Female   11-Mar-84    TN  798-631-4758    Silver   \n",
       "3     30308357.0  Female   11-Mar-84    TN  798-631-4758    Silver   \n",
       "4     47830476.0  Female   01-May-86    MA  413-187-7945    Silver   \n",
       "...          ...     ...         ...   ...           ...       ...   \n",
       "1102         NaN     NaN         NaN   NaN           NaN       NaN   \n",
       "1103         NaN     NaN         NaN   NaN           NaN       NaN   \n",
       "1104         NaN     NaN         NaN   NaN           NaN       NaN   \n",
       "1105         NaN     NaN         NaN   NaN           NaN       NaN   \n",
       "1106         NaN     NaN         NaN   NaN           NaN       NaN   \n",
       "\n",
       "        claim_id  customer_id      incident_cause  claim_date claim_area  \\\n",
       "0     54004764.0   21868593.0        Driver error  11/27/2017       Auto   \n",
       "1     33985796.0   75740424.0               Crime  10/03/2018       Home   \n",
       "2     53522022.0   30308357.0  Other driver error  02/02/2018       Auto   \n",
       "3     63017412.0   30308357.0        Driver error  04/04/2018       Auto   \n",
       "4     13015401.0   47830476.0      Natural causes  06/17/2018       Auto   \n",
       "...          ...          ...                 ...         ...        ...   \n",
       "1102  97727122.0   35951012.0  Other driver error  06/11/2017       Auto   \n",
       "1103  10247193.0   14818669.0      Natural causes  03/14/2018       Auto   \n",
       "1104  79807493.0   85322831.0  Other driver error  02/09/2018       Auto   \n",
       "1105  69299345.0   73449366.0        Other causes  03/21/2018       Auto   \n",
       "1106  58809728.0   43020876.0  Other driver error  06/04/2017       Auto   \n",
       "\n",
       "     police_report           claim_type claim_amount  total_policy_claims  \\\n",
       "0               No        Material only        $2980                  1.0   \n",
       "1          Unknown        Material only        $2980                  3.0   \n",
       "2               No        Material only      $3369.5                  1.0   \n",
       "3               No        Material only        $1950                  6.0   \n",
       "4               No        Material only        $1680                  1.0   \n",
       "...            ...                  ...          ...                  ...   \n",
       "1102            No        Material only        $3059                  4.0   \n",
       "1103            No        Material only        $1520                  2.0   \n",
       "1104            No  Material and injury       $23575                  2.0   \n",
       "1105       Unknown  Material and injury       $25120                  1.0   \n",
       "1106           Yes  Material and injury       $36685                  3.0   \n",
       "\n",
       "     fraudulent  \n",
       "0            No  \n",
       "1            No  \n",
       "2           Yes  \n",
       "3            No  \n",
       "4            No  \n",
       "...         ...  \n",
       "1102        Yes  \n",
       "1103         No  \n",
       "1104        Yes  \n",
       "1105         No  \n",
       "1106        Yes  \n",
       "\n",
       "[1107 rows x 16 columns]"
      ]
     },
     "execution_count": 23,
     "metadata": {},
     "output_type": "execute_result"
    }
   ],
   "source": [
    "insurance"
   ]
  },
  {
   "cell_type": "code",
   "execution_count": 24,
   "id": "0e13bc5d",
   "metadata": {},
   "outputs": [
    {
     "name": "stdout",
     "output_type": "stream",
     "text": [
      "<class 'pandas.core.frame.DataFrame'>\n",
      "Int64Index: 1107 entries, 0 to 1106\n",
      "Data columns (total 16 columns):\n",
      " #   Column               Non-Null Count  Dtype  \n",
      "---  ------               --------------  -----  \n",
      " 0   CUST_ID              1092 non-null   float64\n",
      " 1   gender               1092 non-null   object \n",
      " 2   DateOfBirth          1092 non-null   object \n",
      " 3   State                1092 non-null   object \n",
      " 4   Contact              1092 non-null   object \n",
      " 5   Segment              1092 non-null   object \n",
      " 6   claim_id             1100 non-null   float64\n",
      " 7   customer_id          1100 non-null   float64\n",
      " 8   incident_cause       1100 non-null   object \n",
      " 9   claim_date           1100 non-null   object \n",
      " 10  claim_area           1100 non-null   object \n",
      " 11  police_report        1100 non-null   object \n",
      " 12  claim_type           1100 non-null   object \n",
      " 13  claim_amount         1035 non-null   object \n",
      " 14  total_policy_claims  1090 non-null   float64\n",
      " 15  fraudulent           1100 non-null   object \n",
      "dtypes: float64(4), object(12)\n",
      "memory usage: 147.0+ KB\n"
     ]
    }
   ],
   "source": [
    "insurance.info()"
   ]
  },
  {
   "cell_type": "code",
   "execution_count": 25,
   "id": "04e55f69",
   "metadata": {},
   "outputs": [],
   "source": [
    "#insurance.dtypes"
   ]
  },
  {
   "cell_type": "code",
   "execution_count": 26,
   "id": "8641cd58",
   "metadata": {},
   "outputs": [],
   "source": [
    "insurance.dropna(axis = 0 , how = 'any' , inplace = True)"
   ]
  },
  {
   "cell_type": "code",
   "execution_count": 27,
   "id": "24664fb6",
   "metadata": {},
   "outputs": [
    {
     "data": {
      "text/html": [
       "<div>\n",
       "<style scoped>\n",
       "    .dataframe tbody tr th:only-of-type {\n",
       "        vertical-align: middle;\n",
       "    }\n",
       "\n",
       "    .dataframe tbody tr th {\n",
       "        vertical-align: top;\n",
       "    }\n",
       "\n",
       "    .dataframe thead th {\n",
       "        text-align: right;\n",
       "    }\n",
       "</style>\n",
       "<table border=\"1\" class=\"dataframe\">\n",
       "  <thead>\n",
       "    <tr style=\"text-align: right;\">\n",
       "      <th></th>\n",
       "      <th>CUST_ID</th>\n",
       "      <th>gender</th>\n",
       "      <th>DateOfBirth</th>\n",
       "      <th>State</th>\n",
       "      <th>Contact</th>\n",
       "      <th>Segment</th>\n",
       "      <th>claim_id</th>\n",
       "      <th>customer_id</th>\n",
       "      <th>incident_cause</th>\n",
       "      <th>claim_date</th>\n",
       "      <th>claim_area</th>\n",
       "      <th>police_report</th>\n",
       "      <th>claim_type</th>\n",
       "      <th>claim_amount</th>\n",
       "      <th>total_policy_claims</th>\n",
       "      <th>fraudulent</th>\n",
       "    </tr>\n",
       "  </thead>\n",
       "  <tbody>\n",
       "  </tbody>\n",
       "</table>\n",
       "</div>"
      ],
      "text/plain": [
       "Empty DataFrame\n",
       "Columns: [CUST_ID, gender, DateOfBirth, State, Contact, Segment, claim_id, customer_id, incident_cause, claim_date, claim_area, police_report, claim_type, claim_amount, total_policy_claims, fraudulent]\n",
       "Index: []"
      ]
     },
     "execution_count": 27,
     "metadata": {},
     "output_type": "execute_result"
    }
   ],
   "source": [
    "insurance[insurance.CUST_ID.isna()]"
   ]
  },
  {
   "cell_type": "code",
   "execution_count": 28,
   "id": "1748d164",
   "metadata": {},
   "outputs": [
    {
     "data": {
      "text/plain": [
       "CUST_ID                0\n",
       "gender                 0\n",
       "DateOfBirth            0\n",
       "State                  0\n",
       "Contact                0\n",
       "Segment                0\n",
       "claim_id               0\n",
       "customer_id            0\n",
       "incident_cause         0\n",
       "claim_date             0\n",
       "claim_area             0\n",
       "police_report          0\n",
       "claim_type             0\n",
       "claim_amount           0\n",
       "total_policy_claims    0\n",
       "fraudulent             0\n",
       "dtype: int64"
      ]
     },
     "execution_count": 28,
     "metadata": {},
     "output_type": "execute_result"
    }
   ],
   "source": [
    "insurance.isna().sum()"
   ]
  },
  {
   "cell_type": "code",
   "execution_count": 29,
   "id": "f74a8d8d",
   "metadata": {},
   "outputs": [],
   "source": [
    "insurance['claim_date'] = pd.to_datetime(insurance.claim_date , format = '%m/%d/%Y')"
   ]
  },
  {
   "cell_type": "code",
   "execution_count": 30,
   "id": "baa7d17b",
   "metadata": {},
   "outputs": [],
   "source": [
    "insurance['DateOfBirth'] = pd.to_datetime(insurance.DateOfBirth , format = '%d-%b-%y')"
   ]
  },
  {
   "cell_type": "code",
   "execution_count": 31,
   "id": "ae38e6ec",
   "metadata": {},
   "outputs": [],
   "source": [
    "insurance['claim_amount'] = insurance.claim_amount.str.lstrip('$').astype('float64')"
   ]
  },
  {
   "cell_type": "code",
   "execution_count": 32,
   "id": "dd1583e0",
   "metadata": {},
   "outputs": [],
   "source": [
    "\n",
    "insurance['DateOfBirth'] = np.where(insurance.DateOfBirth.dt.year > 2022 \n",
    "                        ,insurance.DateOfBirth + pd.DateOffset(years = -100) , insurance.DateOfBirth)"
   ]
  },
  {
   "cell_type": "code",
   "execution_count": 33,
   "id": "e6222361",
   "metadata": {},
   "outputs": [
    {
     "data": {
      "text/plain": [
       "CUST_ID                       float64\n",
       "gender                         object\n",
       "DateOfBirth            datetime64[ns]\n",
       "State                          object\n",
       "Contact                        object\n",
       "Segment                        object\n",
       "claim_id                      float64\n",
       "customer_id                   float64\n",
       "incident_cause                 object\n",
       "claim_date             datetime64[ns]\n",
       "claim_area                     object\n",
       "police_report                  object\n",
       "claim_type                     object\n",
       "claim_amount                  float64\n",
       "total_policy_claims           float64\n",
       "fraudulent                     object\n",
       "dtype: object"
      ]
     },
     "execution_count": 33,
     "metadata": {},
     "output_type": "execute_result"
    }
   ],
   "source": [
    "insurance.dtypes"
   ]
  },
  {
   "cell_type": "code",
   "execution_count": 34,
   "id": "2da8f217",
   "metadata": {},
   "outputs": [
    {
     "data": {
      "text/html": [
       "<div>\n",
       "<style scoped>\n",
       "    .dataframe tbody tr th:only-of-type {\n",
       "        vertical-align: middle;\n",
       "    }\n",
       "\n",
       "    .dataframe tbody tr th {\n",
       "        vertical-align: top;\n",
       "    }\n",
       "\n",
       "    .dataframe thead th {\n",
       "        text-align: right;\n",
       "    }\n",
       "</style>\n",
       "<table border=\"1\" class=\"dataframe\">\n",
       "  <thead>\n",
       "    <tr style=\"text-align: right;\">\n",
       "      <th></th>\n",
       "      <th>CUST_ID</th>\n",
       "      <th>gender</th>\n",
       "      <th>DateOfBirth</th>\n",
       "      <th>State</th>\n",
       "      <th>Contact</th>\n",
       "      <th>Segment</th>\n",
       "      <th>claim_id</th>\n",
       "      <th>customer_id</th>\n",
       "      <th>incident_cause</th>\n",
       "      <th>claim_date</th>\n",
       "      <th>claim_area</th>\n",
       "      <th>police_report</th>\n",
       "      <th>claim_type</th>\n",
       "      <th>claim_amount</th>\n",
       "      <th>total_policy_claims</th>\n",
       "      <th>fraudulent</th>\n",
       "    </tr>\n",
       "  </thead>\n",
       "  <tbody>\n",
       "    <tr>\n",
       "      <th>0</th>\n",
       "      <td>21868593.0</td>\n",
       "      <td>Female</td>\n",
       "      <td>1979-01-12</td>\n",
       "      <td>VT</td>\n",
       "      <td>789-916-8172</td>\n",
       "      <td>Platinum</td>\n",
       "      <td>54004764.0</td>\n",
       "      <td>21868593.0</td>\n",
       "      <td>Driver error</td>\n",
       "      <td>2017-11-27</td>\n",
       "      <td>Auto</td>\n",
       "      <td>No</td>\n",
       "      <td>Material only</td>\n",
       "      <td>2980.0</td>\n",
       "      <td>1.0</td>\n",
       "      <td>No</td>\n",
       "    </tr>\n",
       "    <tr>\n",
       "      <th>1</th>\n",
       "      <td>75740424.0</td>\n",
       "      <td>Female</td>\n",
       "      <td>1970-01-13</td>\n",
       "      <td>ME</td>\n",
       "      <td>265-543-1264</td>\n",
       "      <td>Silver</td>\n",
       "      <td>33985796.0</td>\n",
       "      <td>75740424.0</td>\n",
       "      <td>Crime</td>\n",
       "      <td>2018-10-03</td>\n",
       "      <td>Home</td>\n",
       "      <td>Unknown</td>\n",
       "      <td>Material only</td>\n",
       "      <td>2980.0</td>\n",
       "      <td>3.0</td>\n",
       "      <td>No</td>\n",
       "    </tr>\n",
       "    <tr>\n",
       "      <th>2</th>\n",
       "      <td>30308357.0</td>\n",
       "      <td>Female</td>\n",
       "      <td>1984-03-11</td>\n",
       "      <td>TN</td>\n",
       "      <td>798-631-4758</td>\n",
       "      <td>Silver</td>\n",
       "      <td>53522022.0</td>\n",
       "      <td>30308357.0</td>\n",
       "      <td>Other driver error</td>\n",
       "      <td>2018-02-02</td>\n",
       "      <td>Auto</td>\n",
       "      <td>No</td>\n",
       "      <td>Material only</td>\n",
       "      <td>3369.5</td>\n",
       "      <td>1.0</td>\n",
       "      <td>Yes</td>\n",
       "    </tr>\n",
       "    <tr>\n",
       "      <th>3</th>\n",
       "      <td>30308357.0</td>\n",
       "      <td>Female</td>\n",
       "      <td>1984-03-11</td>\n",
       "      <td>TN</td>\n",
       "      <td>798-631-4758</td>\n",
       "      <td>Silver</td>\n",
       "      <td>63017412.0</td>\n",
       "      <td>30308357.0</td>\n",
       "      <td>Driver error</td>\n",
       "      <td>2018-04-04</td>\n",
       "      <td>Auto</td>\n",
       "      <td>No</td>\n",
       "      <td>Material only</td>\n",
       "      <td>1950.0</td>\n",
       "      <td>6.0</td>\n",
       "      <td>No</td>\n",
       "    </tr>\n",
       "    <tr>\n",
       "      <th>4</th>\n",
       "      <td>47830476.0</td>\n",
       "      <td>Female</td>\n",
       "      <td>1986-05-01</td>\n",
       "      <td>MA</td>\n",
       "      <td>413-187-7945</td>\n",
       "      <td>Silver</td>\n",
       "      <td>13015401.0</td>\n",
       "      <td>47830476.0</td>\n",
       "      <td>Natural causes</td>\n",
       "      <td>2018-06-17</td>\n",
       "      <td>Auto</td>\n",
       "      <td>No</td>\n",
       "      <td>Material only</td>\n",
       "      <td>1680.0</td>\n",
       "      <td>1.0</td>\n",
       "      <td>No</td>\n",
       "    </tr>\n",
       "    <tr>\n",
       "      <th>...</th>\n",
       "      <td>...</td>\n",
       "      <td>...</td>\n",
       "      <td>...</td>\n",
       "      <td>...</td>\n",
       "      <td>...</td>\n",
       "      <td>...</td>\n",
       "      <td>...</td>\n",
       "      <td>...</td>\n",
       "      <td>...</td>\n",
       "      <td>...</td>\n",
       "      <td>...</td>\n",
       "      <td>...</td>\n",
       "      <td>...</td>\n",
       "      <td>...</td>\n",
       "      <td>...</td>\n",
       "      <td>...</td>\n",
       "    </tr>\n",
       "    <tr>\n",
       "      <th>1087</th>\n",
       "      <td>79539873.0</td>\n",
       "      <td>Female</td>\n",
       "      <td>1981-03-15</td>\n",
       "      <td>ND</td>\n",
       "      <td>459-425-4319</td>\n",
       "      <td>Platinum</td>\n",
       "      <td>62020796.0</td>\n",
       "      <td>79539873.0</td>\n",
       "      <td>Other driver error</td>\n",
       "      <td>2018-09-06</td>\n",
       "      <td>Auto</td>\n",
       "      <td>Yes</td>\n",
       "      <td>Material only</td>\n",
       "      <td>1770.0</td>\n",
       "      <td>1.0</td>\n",
       "      <td>No</td>\n",
       "    </tr>\n",
       "    <tr>\n",
       "      <th>1088</th>\n",
       "      <td>42364152.0</td>\n",
       "      <td>Female</td>\n",
       "      <td>1996-07-07</td>\n",
       "      <td>ID</td>\n",
       "      <td>529-462-1635</td>\n",
       "      <td>Silver</td>\n",
       "      <td>63269067.0</td>\n",
       "      <td>42364152.0</td>\n",
       "      <td>Other causes</td>\n",
       "      <td>2017-05-09</td>\n",
       "      <td>Home</td>\n",
       "      <td>No</td>\n",
       "      <td>Material only</td>\n",
       "      <td>2800.0</td>\n",
       "      <td>1.0</td>\n",
       "      <td>No</td>\n",
       "    </tr>\n",
       "    <tr>\n",
       "      <th>1089</th>\n",
       "      <td>19888166.0</td>\n",
       "      <td>Male</td>\n",
       "      <td>1990-04-11</td>\n",
       "      <td>WI</td>\n",
       "      <td>712-651-9613</td>\n",
       "      <td>Gold</td>\n",
       "      <td>22690595.0</td>\n",
       "      <td>19888166.0</td>\n",
       "      <td>Other driver error</td>\n",
       "      <td>2017-05-15</td>\n",
       "      <td>Auto</td>\n",
       "      <td>Yes</td>\n",
       "      <td>Injury only</td>\n",
       "      <td>33080.0</td>\n",
       "      <td>2.0</td>\n",
       "      <td>No</td>\n",
       "    </tr>\n",
       "    <tr>\n",
       "      <th>1090</th>\n",
       "      <td>11256802.0</td>\n",
       "      <td>Female</td>\n",
       "      <td>1964-10-22</td>\n",
       "      <td>LA</td>\n",
       "      <td>469-345-5617</td>\n",
       "      <td>Silver</td>\n",
       "      <td>12376894.0</td>\n",
       "      <td>11256802.0</td>\n",
       "      <td>Other driver error</td>\n",
       "      <td>2017-04-18</td>\n",
       "      <td>Auto</td>\n",
       "      <td>No</td>\n",
       "      <td>Material only</td>\n",
       "      <td>2840.0</td>\n",
       "      <td>4.0</td>\n",
       "      <td>No</td>\n",
       "    </tr>\n",
       "    <tr>\n",
       "      <th>1091</th>\n",
       "      <td>61575264.0</td>\n",
       "      <td>Male</td>\n",
       "      <td>1995-07-12</td>\n",
       "      <td>WY</td>\n",
       "      <td>182-385-1392</td>\n",
       "      <td>Gold</td>\n",
       "      <td>63226031.0</td>\n",
       "      <td>61575264.0</td>\n",
       "      <td>Natural causes</td>\n",
       "      <td>2017-03-16</td>\n",
       "      <td>Auto</td>\n",
       "      <td>No</td>\n",
       "      <td>Material only</td>\n",
       "      <td>1490.0</td>\n",
       "      <td>1.0</td>\n",
       "      <td>No</td>\n",
       "    </tr>\n",
       "  </tbody>\n",
       "</table>\n",
       "<p>1011 rows × 16 columns</p>\n",
       "</div>"
      ],
      "text/plain": [
       "         CUST_ID  gender DateOfBirth State       Contact   Segment  \\\n",
       "0     21868593.0  Female  1979-01-12    VT  789-916-8172  Platinum   \n",
       "1     75740424.0  Female  1970-01-13    ME  265-543-1264    Silver   \n",
       "2     30308357.0  Female  1984-03-11    TN  798-631-4758    Silver   \n",
       "3     30308357.0  Female  1984-03-11    TN  798-631-4758    Silver   \n",
       "4     47830476.0  Female  1986-05-01    MA  413-187-7945    Silver   \n",
       "...          ...     ...         ...   ...           ...       ...   \n",
       "1087  79539873.0  Female  1981-03-15    ND  459-425-4319  Platinum   \n",
       "1088  42364152.0  Female  1996-07-07    ID  529-462-1635    Silver   \n",
       "1089  19888166.0    Male  1990-04-11    WI  712-651-9613      Gold   \n",
       "1090  11256802.0  Female  1964-10-22    LA  469-345-5617    Silver   \n",
       "1091  61575264.0    Male  1995-07-12    WY  182-385-1392      Gold   \n",
       "\n",
       "        claim_id  customer_id      incident_cause claim_date claim_area  \\\n",
       "0     54004764.0   21868593.0        Driver error 2017-11-27       Auto   \n",
       "1     33985796.0   75740424.0               Crime 2018-10-03       Home   \n",
       "2     53522022.0   30308357.0  Other driver error 2018-02-02       Auto   \n",
       "3     63017412.0   30308357.0        Driver error 2018-04-04       Auto   \n",
       "4     13015401.0   47830476.0      Natural causes 2018-06-17       Auto   \n",
       "...          ...          ...                 ...        ...        ...   \n",
       "1087  62020796.0   79539873.0  Other driver error 2018-09-06       Auto   \n",
       "1088  63269067.0   42364152.0        Other causes 2017-05-09       Home   \n",
       "1089  22690595.0   19888166.0  Other driver error 2017-05-15       Auto   \n",
       "1090  12376894.0   11256802.0  Other driver error 2017-04-18       Auto   \n",
       "1091  63226031.0   61575264.0      Natural causes 2017-03-16       Auto   \n",
       "\n",
       "     police_report     claim_type  claim_amount  total_policy_claims  \\\n",
       "0               No  Material only        2980.0                  1.0   \n",
       "1          Unknown  Material only        2980.0                  3.0   \n",
       "2               No  Material only        3369.5                  1.0   \n",
       "3               No  Material only        1950.0                  6.0   \n",
       "4               No  Material only        1680.0                  1.0   \n",
       "...            ...            ...           ...                  ...   \n",
       "1087           Yes  Material only        1770.0                  1.0   \n",
       "1088            No  Material only        2800.0                  1.0   \n",
       "1089           Yes    Injury only       33080.0                  2.0   \n",
       "1090            No  Material only        2840.0                  4.0   \n",
       "1091            No  Material only        1490.0                  1.0   \n",
       "\n",
       "     fraudulent  \n",
       "0            No  \n",
       "1            No  \n",
       "2           Yes  \n",
       "3            No  \n",
       "4            No  \n",
       "...         ...  \n",
       "1087         No  \n",
       "1088         No  \n",
       "1089         No  \n",
       "1090         No  \n",
       "1091         No  \n",
       "\n",
       "[1011 rows x 16 columns]"
      ]
     },
     "execution_count": 34,
     "metadata": {},
     "output_type": "execute_result"
    }
   ],
   "source": [
    "insurance"
   ]
  },
  {
   "cell_type": "code",
   "execution_count": 37,
   "id": "9398f837",
   "metadata": {},
   "outputs": [],
   "source": [
    "# (4)\n",
    "insurance['flag'] = np.where(insurance.police_report == 'Yes',1,np.where(insurance.police_report == 'No',0,np.nan))"
   ]
  },
  {
   "cell_type": "code",
   "execution_count": 42,
   "id": "71329b48",
   "metadata": {},
   "outputs": [],
   "source": [
    "# (5)\n"
   ]
  },
  {
   "cell_type": "code",
   "execution_count": 43,
   "id": "b6925b47",
   "metadata": {},
   "outputs": [
    {
     "data": {
      "text/plain": [
       "207     Injury onlyMaterial and injury\n",
       "833           Material onlyInjury only\n",
       "845         Material onlyMaterial only\n",
       "999                        Injury only\n",
       "1000               Material and injury\n",
       "1003                     Material only\n",
       "Name: claim_type, dtype: object"
      ]
     },
     "execution_count": 43,
     "metadata": {},
     "output_type": "execute_result"
    }
   ],
   "source": [
    "insurance.groupby('CUST_ID').claim_type.sum().reset_index(drop=True).drop_duplicates(keep='last')"
   ]
  },
  {
   "cell_type": "code",
   "execution_count": 44,
   "id": "bb13783c",
   "metadata": {},
   "outputs": [],
   "source": [
    "# (6)"
   ]
  },
  {
   "cell_type": "code",
   "execution_count": 45,
   "id": "d3ab4aa1",
   "metadata": {},
   "outputs": [
    {
     "data": {
      "text/html": [
       "<div>\n",
       "<style scoped>\n",
       "    .dataframe tbody tr th:only-of-type {\n",
       "        vertical-align: middle;\n",
       "    }\n",
       "\n",
       "    .dataframe tbody tr th {\n",
       "        vertical-align: top;\n",
       "    }\n",
       "\n",
       "    .dataframe thead th {\n",
       "        text-align: right;\n",
       "    }\n",
       "</style>\n",
       "<table border=\"1\" class=\"dataframe\">\n",
       "  <thead>\n",
       "    <tr style=\"text-align: right;\">\n",
       "      <th></th>\n",
       "      <th>gender</th>\n",
       "      <th>State</th>\n",
       "      <th>Contact</th>\n",
       "      <th>Segment</th>\n",
       "      <th>incident_cause</th>\n",
       "      <th>claim_area</th>\n",
       "      <th>police_report</th>\n",
       "      <th>claim_type</th>\n",
       "      <th>fraudulent</th>\n",
       "    </tr>\n",
       "  </thead>\n",
       "  <tbody>\n",
       "    <tr>\n",
       "      <th>0</th>\n",
       "      <td>Female</td>\n",
       "      <td>VT</td>\n",
       "      <td>789-916-8172</td>\n",
       "      <td>Platinum</td>\n",
       "      <td>Driver error</td>\n",
       "      <td>Auto</td>\n",
       "      <td>No</td>\n",
       "      <td>Material only</td>\n",
       "      <td>No</td>\n",
       "    </tr>\n",
       "    <tr>\n",
       "      <th>1</th>\n",
       "      <td>Female</td>\n",
       "      <td>ME</td>\n",
       "      <td>265-543-1264</td>\n",
       "      <td>Silver</td>\n",
       "      <td>Crime</td>\n",
       "      <td>Home</td>\n",
       "      <td>Unknown</td>\n",
       "      <td>Material only</td>\n",
       "      <td>No</td>\n",
       "    </tr>\n",
       "    <tr>\n",
       "      <th>2</th>\n",
       "      <td>Female</td>\n",
       "      <td>TN</td>\n",
       "      <td>798-631-4758</td>\n",
       "      <td>Silver</td>\n",
       "      <td>Other driver error</td>\n",
       "      <td>Auto</td>\n",
       "      <td>No</td>\n",
       "      <td>Material only</td>\n",
       "      <td>Yes</td>\n",
       "    </tr>\n",
       "    <tr>\n",
       "      <th>3</th>\n",
       "      <td>Female</td>\n",
       "      <td>TN</td>\n",
       "      <td>798-631-4758</td>\n",
       "      <td>Silver</td>\n",
       "      <td>Driver error</td>\n",
       "      <td>Auto</td>\n",
       "      <td>No</td>\n",
       "      <td>Material only</td>\n",
       "      <td>No</td>\n",
       "    </tr>\n",
       "    <tr>\n",
       "      <th>4</th>\n",
       "      <td>Female</td>\n",
       "      <td>MA</td>\n",
       "      <td>413-187-7945</td>\n",
       "      <td>Silver</td>\n",
       "      <td>Natural causes</td>\n",
       "      <td>Auto</td>\n",
       "      <td>No</td>\n",
       "      <td>Material only</td>\n",
       "      <td>No</td>\n",
       "    </tr>\n",
       "    <tr>\n",
       "      <th>...</th>\n",
       "      <td>...</td>\n",
       "      <td>...</td>\n",
       "      <td>...</td>\n",
       "      <td>...</td>\n",
       "      <td>...</td>\n",
       "      <td>...</td>\n",
       "      <td>...</td>\n",
       "      <td>...</td>\n",
       "      <td>...</td>\n",
       "    </tr>\n",
       "    <tr>\n",
       "      <th>1087</th>\n",
       "      <td>Female</td>\n",
       "      <td>ND</td>\n",
       "      <td>459-425-4319</td>\n",
       "      <td>Platinum</td>\n",
       "      <td>Other driver error</td>\n",
       "      <td>Auto</td>\n",
       "      <td>Yes</td>\n",
       "      <td>Material only</td>\n",
       "      <td>No</td>\n",
       "    </tr>\n",
       "    <tr>\n",
       "      <th>1088</th>\n",
       "      <td>Female</td>\n",
       "      <td>ID</td>\n",
       "      <td>529-462-1635</td>\n",
       "      <td>Silver</td>\n",
       "      <td>Other causes</td>\n",
       "      <td>Home</td>\n",
       "      <td>No</td>\n",
       "      <td>Material only</td>\n",
       "      <td>No</td>\n",
       "    </tr>\n",
       "    <tr>\n",
       "      <th>1089</th>\n",
       "      <td>Male</td>\n",
       "      <td>WI</td>\n",
       "      <td>712-651-9613</td>\n",
       "      <td>Gold</td>\n",
       "      <td>Other driver error</td>\n",
       "      <td>Auto</td>\n",
       "      <td>Yes</td>\n",
       "      <td>Injury only</td>\n",
       "      <td>No</td>\n",
       "    </tr>\n",
       "    <tr>\n",
       "      <th>1090</th>\n",
       "      <td>Female</td>\n",
       "      <td>LA</td>\n",
       "      <td>469-345-5617</td>\n",
       "      <td>Silver</td>\n",
       "      <td>Other driver error</td>\n",
       "      <td>Auto</td>\n",
       "      <td>No</td>\n",
       "      <td>Material only</td>\n",
       "      <td>No</td>\n",
       "    </tr>\n",
       "    <tr>\n",
       "      <th>1091</th>\n",
       "      <td>Male</td>\n",
       "      <td>WY</td>\n",
       "      <td>182-385-1392</td>\n",
       "      <td>Gold</td>\n",
       "      <td>Natural causes</td>\n",
       "      <td>Auto</td>\n",
       "      <td>No</td>\n",
       "      <td>Material only</td>\n",
       "      <td>No</td>\n",
       "    </tr>\n",
       "  </tbody>\n",
       "</table>\n",
       "<p>1011 rows × 9 columns</p>\n",
       "</div>"
      ],
      "text/plain": [
       "      gender State       Contact   Segment      incident_cause claim_area  \\\n",
       "0     Female    VT  789-916-8172  Platinum        Driver error       Auto   \n",
       "1     Female    ME  265-543-1264    Silver               Crime       Home   \n",
       "2     Female    TN  798-631-4758    Silver  Other driver error       Auto   \n",
       "3     Female    TN  798-631-4758    Silver        Driver error       Auto   \n",
       "4     Female    MA  413-187-7945    Silver      Natural causes       Auto   \n",
       "...      ...   ...           ...       ...                 ...        ...   \n",
       "1087  Female    ND  459-425-4319  Platinum  Other driver error       Auto   \n",
       "1088  Female    ID  529-462-1635    Silver        Other causes       Home   \n",
       "1089    Male    WI  712-651-9613      Gold  Other driver error       Auto   \n",
       "1090  Female    LA  469-345-5617    Silver  Other driver error       Auto   \n",
       "1091    Male    WY  182-385-1392      Gold      Natural causes       Auto   \n",
       "\n",
       "     police_report     claim_type fraudulent  \n",
       "0               No  Material only         No  \n",
       "1          Unknown  Material only         No  \n",
       "2               No  Material only        Yes  \n",
       "3               No  Material only         No  \n",
       "4               No  Material only         No  \n",
       "...            ...            ...        ...  \n",
       "1087           Yes  Material only         No  \n",
       "1088            No  Material only         No  \n",
       "1089           Yes    Injury only         No  \n",
       "1090            No  Material only         No  \n",
       "1091            No  Material only         No  \n",
       "\n",
       "[1011 rows x 9 columns]"
      ]
     },
     "execution_count": 45,
     "metadata": {},
     "output_type": "execute_result"
    }
   ],
   "source": [
    "sixth_wala = insurance.select_dtypes(include = 'object')\n",
    "sixth_wala"
   ]
  },
  {
   "cell_type": "code",
   "execution_count": 46,
   "id": "b8c5cbf7",
   "metadata": {},
   "outputs": [],
   "source": [
    "for i in sixth_wala:\n",
    "    insurance[i] = insurance[i].fillna(insurance[i].mode()[0])"
   ]
  },
  {
   "cell_type": "code",
   "execution_count": 47,
   "id": "bf1e2cf7",
   "metadata": {},
   "outputs": [],
   "source": [
    "insurance['claim_amount' ] = insurance['claim_amount'].fillna(insurance.claim_amount.mean())"
   ]
  },
  {
   "cell_type": "code",
   "execution_count": 48,
   "id": "690756c3",
   "metadata": {},
   "outputs": [],
   "source": [
    "insurance['total_policy_claims'] = insurance['total_policy_claims'].fillna(insurance['total_policy_claims'].mean())"
   ]
  },
  {
   "cell_type": "code",
   "execution_count": 49,
   "id": "86dd265a",
   "metadata": {},
   "outputs": [
    {
     "data": {
      "text/html": [
       "<div>\n",
       "<style scoped>\n",
       "    .dataframe tbody tr th:only-of-type {\n",
       "        vertical-align: middle;\n",
       "    }\n",
       "\n",
       "    .dataframe tbody tr th {\n",
       "        vertical-align: top;\n",
       "    }\n",
       "\n",
       "    .dataframe thead th {\n",
       "        text-align: right;\n",
       "    }\n",
       "</style>\n",
       "<table border=\"1\" class=\"dataframe\">\n",
       "  <thead>\n",
       "    <tr style=\"text-align: right;\">\n",
       "      <th></th>\n",
       "      <th>CUST_ID</th>\n",
       "      <th>gender</th>\n",
       "      <th>DateOfBirth</th>\n",
       "      <th>State</th>\n",
       "      <th>Contact</th>\n",
       "      <th>Segment</th>\n",
       "      <th>claim_id</th>\n",
       "      <th>customer_id</th>\n",
       "      <th>incident_cause</th>\n",
       "      <th>claim_date</th>\n",
       "      <th>claim_area</th>\n",
       "      <th>police_report</th>\n",
       "      <th>claim_type</th>\n",
       "      <th>claim_amount</th>\n",
       "      <th>total_policy_claims</th>\n",
       "      <th>fraudulent</th>\n",
       "      <th>flag</th>\n",
       "    </tr>\n",
       "  </thead>\n",
       "  <tbody>\n",
       "    <tr>\n",
       "      <th>0</th>\n",
       "      <td>21868593.0</td>\n",
       "      <td>Female</td>\n",
       "      <td>1979-01-12</td>\n",
       "      <td>VT</td>\n",
       "      <td>789-916-8172</td>\n",
       "      <td>Platinum</td>\n",
       "      <td>54004764.0</td>\n",
       "      <td>21868593.0</td>\n",
       "      <td>Driver error</td>\n",
       "      <td>2017-11-27</td>\n",
       "      <td>Auto</td>\n",
       "      <td>No</td>\n",
       "      <td>Material only</td>\n",
       "      <td>2980.0</td>\n",
       "      <td>1.0</td>\n",
       "      <td>No</td>\n",
       "      <td>0.0</td>\n",
       "    </tr>\n",
       "    <tr>\n",
       "      <th>1</th>\n",
       "      <td>75740424.0</td>\n",
       "      <td>Female</td>\n",
       "      <td>1970-01-13</td>\n",
       "      <td>ME</td>\n",
       "      <td>265-543-1264</td>\n",
       "      <td>Silver</td>\n",
       "      <td>33985796.0</td>\n",
       "      <td>75740424.0</td>\n",
       "      <td>Crime</td>\n",
       "      <td>2018-10-03</td>\n",
       "      <td>Home</td>\n",
       "      <td>Unknown</td>\n",
       "      <td>Material only</td>\n",
       "      <td>2980.0</td>\n",
       "      <td>3.0</td>\n",
       "      <td>No</td>\n",
       "      <td>NaN</td>\n",
       "    </tr>\n",
       "    <tr>\n",
       "      <th>2</th>\n",
       "      <td>30308357.0</td>\n",
       "      <td>Female</td>\n",
       "      <td>1984-03-11</td>\n",
       "      <td>TN</td>\n",
       "      <td>798-631-4758</td>\n",
       "      <td>Silver</td>\n",
       "      <td>53522022.0</td>\n",
       "      <td>30308357.0</td>\n",
       "      <td>Other driver error</td>\n",
       "      <td>2018-02-02</td>\n",
       "      <td>Auto</td>\n",
       "      <td>No</td>\n",
       "      <td>Material only</td>\n",
       "      <td>3369.5</td>\n",
       "      <td>1.0</td>\n",
       "      <td>Yes</td>\n",
       "      <td>0.0</td>\n",
       "    </tr>\n",
       "    <tr>\n",
       "      <th>3</th>\n",
       "      <td>30308357.0</td>\n",
       "      <td>Female</td>\n",
       "      <td>1984-03-11</td>\n",
       "      <td>TN</td>\n",
       "      <td>798-631-4758</td>\n",
       "      <td>Silver</td>\n",
       "      <td>63017412.0</td>\n",
       "      <td>30308357.0</td>\n",
       "      <td>Driver error</td>\n",
       "      <td>2018-04-04</td>\n",
       "      <td>Auto</td>\n",
       "      <td>No</td>\n",
       "      <td>Material only</td>\n",
       "      <td>1950.0</td>\n",
       "      <td>6.0</td>\n",
       "      <td>No</td>\n",
       "      <td>0.0</td>\n",
       "    </tr>\n",
       "    <tr>\n",
       "      <th>4</th>\n",
       "      <td>47830476.0</td>\n",
       "      <td>Female</td>\n",
       "      <td>1986-05-01</td>\n",
       "      <td>MA</td>\n",
       "      <td>413-187-7945</td>\n",
       "      <td>Silver</td>\n",
       "      <td>13015401.0</td>\n",
       "      <td>47830476.0</td>\n",
       "      <td>Natural causes</td>\n",
       "      <td>2018-06-17</td>\n",
       "      <td>Auto</td>\n",
       "      <td>No</td>\n",
       "      <td>Material only</td>\n",
       "      <td>1680.0</td>\n",
       "      <td>1.0</td>\n",
       "      <td>No</td>\n",
       "      <td>0.0</td>\n",
       "    </tr>\n",
       "    <tr>\n",
       "      <th>...</th>\n",
       "      <td>...</td>\n",
       "      <td>...</td>\n",
       "      <td>...</td>\n",
       "      <td>...</td>\n",
       "      <td>...</td>\n",
       "      <td>...</td>\n",
       "      <td>...</td>\n",
       "      <td>...</td>\n",
       "      <td>...</td>\n",
       "      <td>...</td>\n",
       "      <td>...</td>\n",
       "      <td>...</td>\n",
       "      <td>...</td>\n",
       "      <td>...</td>\n",
       "      <td>...</td>\n",
       "      <td>...</td>\n",
       "      <td>...</td>\n",
       "    </tr>\n",
       "    <tr>\n",
       "      <th>1087</th>\n",
       "      <td>79539873.0</td>\n",
       "      <td>Female</td>\n",
       "      <td>1981-03-15</td>\n",
       "      <td>ND</td>\n",
       "      <td>459-425-4319</td>\n",
       "      <td>Platinum</td>\n",
       "      <td>62020796.0</td>\n",
       "      <td>79539873.0</td>\n",
       "      <td>Other driver error</td>\n",
       "      <td>2018-09-06</td>\n",
       "      <td>Auto</td>\n",
       "      <td>Yes</td>\n",
       "      <td>Material only</td>\n",
       "      <td>1770.0</td>\n",
       "      <td>1.0</td>\n",
       "      <td>No</td>\n",
       "      <td>1.0</td>\n",
       "    </tr>\n",
       "    <tr>\n",
       "      <th>1088</th>\n",
       "      <td>42364152.0</td>\n",
       "      <td>Female</td>\n",
       "      <td>1996-07-07</td>\n",
       "      <td>ID</td>\n",
       "      <td>529-462-1635</td>\n",
       "      <td>Silver</td>\n",
       "      <td>63269067.0</td>\n",
       "      <td>42364152.0</td>\n",
       "      <td>Other causes</td>\n",
       "      <td>2017-05-09</td>\n",
       "      <td>Home</td>\n",
       "      <td>No</td>\n",
       "      <td>Material only</td>\n",
       "      <td>2800.0</td>\n",
       "      <td>1.0</td>\n",
       "      <td>No</td>\n",
       "      <td>0.0</td>\n",
       "    </tr>\n",
       "    <tr>\n",
       "      <th>1089</th>\n",
       "      <td>19888166.0</td>\n",
       "      <td>Male</td>\n",
       "      <td>1990-04-11</td>\n",
       "      <td>WI</td>\n",
       "      <td>712-651-9613</td>\n",
       "      <td>Gold</td>\n",
       "      <td>22690595.0</td>\n",
       "      <td>19888166.0</td>\n",
       "      <td>Other driver error</td>\n",
       "      <td>2017-05-15</td>\n",
       "      <td>Auto</td>\n",
       "      <td>Yes</td>\n",
       "      <td>Injury only</td>\n",
       "      <td>33080.0</td>\n",
       "      <td>2.0</td>\n",
       "      <td>No</td>\n",
       "      <td>1.0</td>\n",
       "    </tr>\n",
       "    <tr>\n",
       "      <th>1090</th>\n",
       "      <td>11256802.0</td>\n",
       "      <td>Female</td>\n",
       "      <td>1964-10-22</td>\n",
       "      <td>LA</td>\n",
       "      <td>469-345-5617</td>\n",
       "      <td>Silver</td>\n",
       "      <td>12376894.0</td>\n",
       "      <td>11256802.0</td>\n",
       "      <td>Other driver error</td>\n",
       "      <td>2017-04-18</td>\n",
       "      <td>Auto</td>\n",
       "      <td>No</td>\n",
       "      <td>Material only</td>\n",
       "      <td>2840.0</td>\n",
       "      <td>4.0</td>\n",
       "      <td>No</td>\n",
       "      <td>0.0</td>\n",
       "    </tr>\n",
       "    <tr>\n",
       "      <th>1091</th>\n",
       "      <td>61575264.0</td>\n",
       "      <td>Male</td>\n",
       "      <td>1995-07-12</td>\n",
       "      <td>WY</td>\n",
       "      <td>182-385-1392</td>\n",
       "      <td>Gold</td>\n",
       "      <td>63226031.0</td>\n",
       "      <td>61575264.0</td>\n",
       "      <td>Natural causes</td>\n",
       "      <td>2017-03-16</td>\n",
       "      <td>Auto</td>\n",
       "      <td>No</td>\n",
       "      <td>Material only</td>\n",
       "      <td>1490.0</td>\n",
       "      <td>1.0</td>\n",
       "      <td>No</td>\n",
       "      <td>0.0</td>\n",
       "    </tr>\n",
       "  </tbody>\n",
       "</table>\n",
       "<p>1011 rows × 17 columns</p>\n",
       "</div>"
      ],
      "text/plain": [
       "         CUST_ID  gender DateOfBirth State       Contact   Segment  \\\n",
       "0     21868593.0  Female  1979-01-12    VT  789-916-8172  Platinum   \n",
       "1     75740424.0  Female  1970-01-13    ME  265-543-1264    Silver   \n",
       "2     30308357.0  Female  1984-03-11    TN  798-631-4758    Silver   \n",
       "3     30308357.0  Female  1984-03-11    TN  798-631-4758    Silver   \n",
       "4     47830476.0  Female  1986-05-01    MA  413-187-7945    Silver   \n",
       "...          ...     ...         ...   ...           ...       ...   \n",
       "1087  79539873.0  Female  1981-03-15    ND  459-425-4319  Platinum   \n",
       "1088  42364152.0  Female  1996-07-07    ID  529-462-1635    Silver   \n",
       "1089  19888166.0    Male  1990-04-11    WI  712-651-9613      Gold   \n",
       "1090  11256802.0  Female  1964-10-22    LA  469-345-5617    Silver   \n",
       "1091  61575264.0    Male  1995-07-12    WY  182-385-1392      Gold   \n",
       "\n",
       "        claim_id  customer_id      incident_cause claim_date claim_area  \\\n",
       "0     54004764.0   21868593.0        Driver error 2017-11-27       Auto   \n",
       "1     33985796.0   75740424.0               Crime 2018-10-03       Home   \n",
       "2     53522022.0   30308357.0  Other driver error 2018-02-02       Auto   \n",
       "3     63017412.0   30308357.0        Driver error 2018-04-04       Auto   \n",
       "4     13015401.0   47830476.0      Natural causes 2018-06-17       Auto   \n",
       "...          ...          ...                 ...        ...        ...   \n",
       "1087  62020796.0   79539873.0  Other driver error 2018-09-06       Auto   \n",
       "1088  63269067.0   42364152.0        Other causes 2017-05-09       Home   \n",
       "1089  22690595.0   19888166.0  Other driver error 2017-05-15       Auto   \n",
       "1090  12376894.0   11256802.0  Other driver error 2017-04-18       Auto   \n",
       "1091  63226031.0   61575264.0      Natural causes 2017-03-16       Auto   \n",
       "\n",
       "     police_report     claim_type  claim_amount  total_policy_claims  \\\n",
       "0               No  Material only        2980.0                  1.0   \n",
       "1          Unknown  Material only        2980.0                  3.0   \n",
       "2               No  Material only        3369.5                  1.0   \n",
       "3               No  Material only        1950.0                  6.0   \n",
       "4               No  Material only        1680.0                  1.0   \n",
       "...            ...            ...           ...                  ...   \n",
       "1087           Yes  Material only        1770.0                  1.0   \n",
       "1088            No  Material only        2800.0                  1.0   \n",
       "1089           Yes    Injury only       33080.0                  2.0   \n",
       "1090            No  Material only        2840.0                  4.0   \n",
       "1091            No  Material only        1490.0                  1.0   \n",
       "\n",
       "     fraudulent  flag  \n",
       "0            No   0.0  \n",
       "1            No   NaN  \n",
       "2           Yes   0.0  \n",
       "3            No   0.0  \n",
       "4            No   0.0  \n",
       "...         ...   ...  \n",
       "1087         No   1.0  \n",
       "1088         No   0.0  \n",
       "1089         No   1.0  \n",
       "1090         No   0.0  \n",
       "1091         No   0.0  \n",
       "\n",
       "[1011 rows x 17 columns]"
      ]
     },
     "execution_count": 49,
     "metadata": {},
     "output_type": "execute_result"
    }
   ],
   "source": [
    "insurance"
   ]
  },
  {
   "cell_type": "code",
   "execution_count": 50,
   "id": "88b20996",
   "metadata": {},
   "outputs": [],
   "source": [
    "# (7)\n"
   ]
  },
  {
   "cell_type": "code",
   "execution_count": 51,
   "id": "e238d523",
   "metadata": {},
   "outputs": [],
   "source": [
    "seven = insurance.DateOfBirth"
   ]
  },
  {
   "cell_type": "code",
   "execution_count": 52,
   "id": "5bd9699e",
   "metadata": {},
   "outputs": [],
   "source": [
    "insurance['age'] = (insurance.claim_date - seven).dt.days/365"
   ]
  },
  {
   "cell_type": "code",
   "execution_count": 53,
   "id": "85f54fdc",
   "metadata": {},
   "outputs": [],
   "source": [
    "#insurance['age_criteria'] = pd.cut(insurance.age , [ 0,18 ,30,60,70 ] , labels = ['children' , 'youth' , 'adult' , 'senior'])"
   ]
  },
  {
   "cell_type": "code",
   "execution_count": 54,
   "id": "e49543c8",
   "metadata": {},
   "outputs": [],
   "source": [
    "insurance['age_criteria'] = np.where(insurance.age<18 , 'children' , np.where((insurance.age>=18) & (insurance.age<=30),'youth',\n",
    "                            np.where((insurance.age>30) & (insurance.age<=60) , 'adult', np.where(insurance.age>60 ,'senior' , 'NaN'))))                                             \n"
   ]
  },
  {
   "cell_type": "code",
   "execution_count": 55,
   "id": "94aed4bc",
   "metadata": {},
   "outputs": [],
   "source": [
    "#insurance['age_criteria'] = np.where(insurance.age > 60 , 'senior' , np.where((insurance.age>30) & (insurance.age<=60),'adult',\n",
    "#                            np.where((insurance.age<=30) & (insurance.age>18) , 'youth', 'children'))                                             \n",
    "#"
   ]
  },
  {
   "cell_type": "code",
   "execution_count": 56,
   "id": "7763482b",
   "metadata": {},
   "outputs": [
    {
     "data": {
      "text/html": [
       "<div>\n",
       "<style scoped>\n",
       "    .dataframe tbody tr th:only-of-type {\n",
       "        vertical-align: middle;\n",
       "    }\n",
       "\n",
       "    .dataframe tbody tr th {\n",
       "        vertical-align: top;\n",
       "    }\n",
       "\n",
       "    .dataframe thead th {\n",
       "        text-align: right;\n",
       "    }\n",
       "</style>\n",
       "<table border=\"1\" class=\"dataframe\">\n",
       "  <thead>\n",
       "    <tr style=\"text-align: right;\">\n",
       "      <th></th>\n",
       "      <th>CUST_ID</th>\n",
       "      <th>gender</th>\n",
       "      <th>DateOfBirth</th>\n",
       "      <th>State</th>\n",
       "      <th>Contact</th>\n",
       "      <th>Segment</th>\n",
       "      <th>claim_id</th>\n",
       "      <th>customer_id</th>\n",
       "      <th>incident_cause</th>\n",
       "      <th>claim_date</th>\n",
       "      <th>claim_area</th>\n",
       "      <th>police_report</th>\n",
       "      <th>claim_type</th>\n",
       "      <th>claim_amount</th>\n",
       "      <th>total_policy_claims</th>\n",
       "      <th>fraudulent</th>\n",
       "      <th>flag</th>\n",
       "      <th>age</th>\n",
       "      <th>age_criteria</th>\n",
       "    </tr>\n",
       "  </thead>\n",
       "  <tbody>\n",
       "    <tr>\n",
       "      <th>0</th>\n",
       "      <td>21868593.0</td>\n",
       "      <td>Female</td>\n",
       "      <td>1979-01-12</td>\n",
       "      <td>VT</td>\n",
       "      <td>789-916-8172</td>\n",
       "      <td>Platinum</td>\n",
       "      <td>54004764.0</td>\n",
       "      <td>21868593.0</td>\n",
       "      <td>Driver error</td>\n",
       "      <td>2017-11-27</td>\n",
       "      <td>Auto</td>\n",
       "      <td>No</td>\n",
       "      <td>Material only</td>\n",
       "      <td>2980.0</td>\n",
       "      <td>1.0</td>\n",
       "      <td>No</td>\n",
       "      <td>0.0</td>\n",
       "      <td>38.901370</td>\n",
       "      <td>adult</td>\n",
       "    </tr>\n",
       "    <tr>\n",
       "      <th>1</th>\n",
       "      <td>75740424.0</td>\n",
       "      <td>Female</td>\n",
       "      <td>1970-01-13</td>\n",
       "      <td>ME</td>\n",
       "      <td>265-543-1264</td>\n",
       "      <td>Silver</td>\n",
       "      <td>33985796.0</td>\n",
       "      <td>75740424.0</td>\n",
       "      <td>Crime</td>\n",
       "      <td>2018-10-03</td>\n",
       "      <td>Home</td>\n",
       "      <td>Unknown</td>\n",
       "      <td>Material only</td>\n",
       "      <td>2980.0</td>\n",
       "      <td>3.0</td>\n",
       "      <td>No</td>\n",
       "      <td>NaN</td>\n",
       "      <td>48.753425</td>\n",
       "      <td>adult</td>\n",
       "    </tr>\n",
       "    <tr>\n",
       "      <th>2</th>\n",
       "      <td>30308357.0</td>\n",
       "      <td>Female</td>\n",
       "      <td>1984-03-11</td>\n",
       "      <td>TN</td>\n",
       "      <td>798-631-4758</td>\n",
       "      <td>Silver</td>\n",
       "      <td>53522022.0</td>\n",
       "      <td>30308357.0</td>\n",
       "      <td>Other driver error</td>\n",
       "      <td>2018-02-02</td>\n",
       "      <td>Auto</td>\n",
       "      <td>No</td>\n",
       "      <td>Material only</td>\n",
       "      <td>3369.5</td>\n",
       "      <td>1.0</td>\n",
       "      <td>Yes</td>\n",
       "      <td>0.0</td>\n",
       "      <td>33.920548</td>\n",
       "      <td>adult</td>\n",
       "    </tr>\n",
       "    <tr>\n",
       "      <th>3</th>\n",
       "      <td>30308357.0</td>\n",
       "      <td>Female</td>\n",
       "      <td>1984-03-11</td>\n",
       "      <td>TN</td>\n",
       "      <td>798-631-4758</td>\n",
       "      <td>Silver</td>\n",
       "      <td>63017412.0</td>\n",
       "      <td>30308357.0</td>\n",
       "      <td>Driver error</td>\n",
       "      <td>2018-04-04</td>\n",
       "      <td>Auto</td>\n",
       "      <td>No</td>\n",
       "      <td>Material only</td>\n",
       "      <td>1950.0</td>\n",
       "      <td>6.0</td>\n",
       "      <td>No</td>\n",
       "      <td>0.0</td>\n",
       "      <td>34.087671</td>\n",
       "      <td>adult</td>\n",
       "    </tr>\n",
       "    <tr>\n",
       "      <th>4</th>\n",
       "      <td>47830476.0</td>\n",
       "      <td>Female</td>\n",
       "      <td>1986-05-01</td>\n",
       "      <td>MA</td>\n",
       "      <td>413-187-7945</td>\n",
       "      <td>Silver</td>\n",
       "      <td>13015401.0</td>\n",
       "      <td>47830476.0</td>\n",
       "      <td>Natural causes</td>\n",
       "      <td>2018-06-17</td>\n",
       "      <td>Auto</td>\n",
       "      <td>No</td>\n",
       "      <td>Material only</td>\n",
       "      <td>1680.0</td>\n",
       "      <td>1.0</td>\n",
       "      <td>No</td>\n",
       "      <td>0.0</td>\n",
       "      <td>32.150685</td>\n",
       "      <td>adult</td>\n",
       "    </tr>\n",
       "    <tr>\n",
       "      <th>...</th>\n",
       "      <td>...</td>\n",
       "      <td>...</td>\n",
       "      <td>...</td>\n",
       "      <td>...</td>\n",
       "      <td>...</td>\n",
       "      <td>...</td>\n",
       "      <td>...</td>\n",
       "      <td>...</td>\n",
       "      <td>...</td>\n",
       "      <td>...</td>\n",
       "      <td>...</td>\n",
       "      <td>...</td>\n",
       "      <td>...</td>\n",
       "      <td>...</td>\n",
       "      <td>...</td>\n",
       "      <td>...</td>\n",
       "      <td>...</td>\n",
       "      <td>...</td>\n",
       "      <td>...</td>\n",
       "    </tr>\n",
       "    <tr>\n",
       "      <th>1087</th>\n",
       "      <td>79539873.0</td>\n",
       "      <td>Female</td>\n",
       "      <td>1981-03-15</td>\n",
       "      <td>ND</td>\n",
       "      <td>459-425-4319</td>\n",
       "      <td>Platinum</td>\n",
       "      <td>62020796.0</td>\n",
       "      <td>79539873.0</td>\n",
       "      <td>Other driver error</td>\n",
       "      <td>2018-09-06</td>\n",
       "      <td>Auto</td>\n",
       "      <td>Yes</td>\n",
       "      <td>Material only</td>\n",
       "      <td>1770.0</td>\n",
       "      <td>1.0</td>\n",
       "      <td>No</td>\n",
       "      <td>1.0</td>\n",
       "      <td>37.504110</td>\n",
       "      <td>adult</td>\n",
       "    </tr>\n",
       "    <tr>\n",
       "      <th>1088</th>\n",
       "      <td>42364152.0</td>\n",
       "      <td>Female</td>\n",
       "      <td>1996-07-07</td>\n",
       "      <td>ID</td>\n",
       "      <td>529-462-1635</td>\n",
       "      <td>Silver</td>\n",
       "      <td>63269067.0</td>\n",
       "      <td>42364152.0</td>\n",
       "      <td>Other causes</td>\n",
       "      <td>2017-05-09</td>\n",
       "      <td>Home</td>\n",
       "      <td>No</td>\n",
       "      <td>Material only</td>\n",
       "      <td>2800.0</td>\n",
       "      <td>1.0</td>\n",
       "      <td>No</td>\n",
       "      <td>0.0</td>\n",
       "      <td>20.852055</td>\n",
       "      <td>youth</td>\n",
       "    </tr>\n",
       "    <tr>\n",
       "      <th>1089</th>\n",
       "      <td>19888166.0</td>\n",
       "      <td>Male</td>\n",
       "      <td>1990-04-11</td>\n",
       "      <td>WI</td>\n",
       "      <td>712-651-9613</td>\n",
       "      <td>Gold</td>\n",
       "      <td>22690595.0</td>\n",
       "      <td>19888166.0</td>\n",
       "      <td>Other driver error</td>\n",
       "      <td>2017-05-15</td>\n",
       "      <td>Auto</td>\n",
       "      <td>Yes</td>\n",
       "      <td>Injury only</td>\n",
       "      <td>33080.0</td>\n",
       "      <td>2.0</td>\n",
       "      <td>No</td>\n",
       "      <td>1.0</td>\n",
       "      <td>27.112329</td>\n",
       "      <td>youth</td>\n",
       "    </tr>\n",
       "    <tr>\n",
       "      <th>1090</th>\n",
       "      <td>11256802.0</td>\n",
       "      <td>Female</td>\n",
       "      <td>1964-10-22</td>\n",
       "      <td>LA</td>\n",
       "      <td>469-345-5617</td>\n",
       "      <td>Silver</td>\n",
       "      <td>12376894.0</td>\n",
       "      <td>11256802.0</td>\n",
       "      <td>Other driver error</td>\n",
       "      <td>2017-04-18</td>\n",
       "      <td>Auto</td>\n",
       "      <td>No</td>\n",
       "      <td>Material only</td>\n",
       "      <td>2840.0</td>\n",
       "      <td>4.0</td>\n",
       "      <td>No</td>\n",
       "      <td>0.0</td>\n",
       "      <td>52.523288</td>\n",
       "      <td>adult</td>\n",
       "    </tr>\n",
       "    <tr>\n",
       "      <th>1091</th>\n",
       "      <td>61575264.0</td>\n",
       "      <td>Male</td>\n",
       "      <td>1995-07-12</td>\n",
       "      <td>WY</td>\n",
       "      <td>182-385-1392</td>\n",
       "      <td>Gold</td>\n",
       "      <td>63226031.0</td>\n",
       "      <td>61575264.0</td>\n",
       "      <td>Natural causes</td>\n",
       "      <td>2017-03-16</td>\n",
       "      <td>Auto</td>\n",
       "      <td>No</td>\n",
       "      <td>Material only</td>\n",
       "      <td>1490.0</td>\n",
       "      <td>1.0</td>\n",
       "      <td>No</td>\n",
       "      <td>0.0</td>\n",
       "      <td>21.693151</td>\n",
       "      <td>youth</td>\n",
       "    </tr>\n",
       "  </tbody>\n",
       "</table>\n",
       "<p>1011 rows × 19 columns</p>\n",
       "</div>"
      ],
      "text/plain": [
       "         CUST_ID  gender DateOfBirth State       Contact   Segment  \\\n",
       "0     21868593.0  Female  1979-01-12    VT  789-916-8172  Platinum   \n",
       "1     75740424.0  Female  1970-01-13    ME  265-543-1264    Silver   \n",
       "2     30308357.0  Female  1984-03-11    TN  798-631-4758    Silver   \n",
       "3     30308357.0  Female  1984-03-11    TN  798-631-4758    Silver   \n",
       "4     47830476.0  Female  1986-05-01    MA  413-187-7945    Silver   \n",
       "...          ...     ...         ...   ...           ...       ...   \n",
       "1087  79539873.0  Female  1981-03-15    ND  459-425-4319  Platinum   \n",
       "1088  42364152.0  Female  1996-07-07    ID  529-462-1635    Silver   \n",
       "1089  19888166.0    Male  1990-04-11    WI  712-651-9613      Gold   \n",
       "1090  11256802.0  Female  1964-10-22    LA  469-345-5617    Silver   \n",
       "1091  61575264.0    Male  1995-07-12    WY  182-385-1392      Gold   \n",
       "\n",
       "        claim_id  customer_id      incident_cause claim_date claim_area  \\\n",
       "0     54004764.0   21868593.0        Driver error 2017-11-27       Auto   \n",
       "1     33985796.0   75740424.0               Crime 2018-10-03       Home   \n",
       "2     53522022.0   30308357.0  Other driver error 2018-02-02       Auto   \n",
       "3     63017412.0   30308357.0        Driver error 2018-04-04       Auto   \n",
       "4     13015401.0   47830476.0      Natural causes 2018-06-17       Auto   \n",
       "...          ...          ...                 ...        ...        ...   \n",
       "1087  62020796.0   79539873.0  Other driver error 2018-09-06       Auto   \n",
       "1088  63269067.0   42364152.0        Other causes 2017-05-09       Home   \n",
       "1089  22690595.0   19888166.0  Other driver error 2017-05-15       Auto   \n",
       "1090  12376894.0   11256802.0  Other driver error 2017-04-18       Auto   \n",
       "1091  63226031.0   61575264.0      Natural causes 2017-03-16       Auto   \n",
       "\n",
       "     police_report     claim_type  claim_amount  total_policy_claims  \\\n",
       "0               No  Material only        2980.0                  1.0   \n",
       "1          Unknown  Material only        2980.0                  3.0   \n",
       "2               No  Material only        3369.5                  1.0   \n",
       "3               No  Material only        1950.0                  6.0   \n",
       "4               No  Material only        1680.0                  1.0   \n",
       "...            ...            ...           ...                  ...   \n",
       "1087           Yes  Material only        1770.0                  1.0   \n",
       "1088            No  Material only        2800.0                  1.0   \n",
       "1089           Yes    Injury only       33080.0                  2.0   \n",
       "1090            No  Material only        2840.0                  4.0   \n",
       "1091            No  Material only        1490.0                  1.0   \n",
       "\n",
       "     fraudulent  flag        age age_criteria  \n",
       "0            No   0.0  38.901370        adult  \n",
       "1            No   NaN  48.753425        adult  \n",
       "2           Yes   0.0  33.920548        adult  \n",
       "3            No   0.0  34.087671        adult  \n",
       "4            No   0.0  32.150685        adult  \n",
       "...         ...   ...        ...          ...  \n",
       "1087         No   1.0  37.504110        adult  \n",
       "1088         No   0.0  20.852055        youth  \n",
       "1089         No   1.0  27.112329        youth  \n",
       "1090         No   0.0  52.523288        adult  \n",
       "1091         No   0.0  21.693151        youth  \n",
       "\n",
       "[1011 rows x 19 columns]"
      ]
     },
     "execution_count": 56,
     "metadata": {},
     "output_type": "execute_result"
    }
   ],
   "source": [
    "insurance"
   ]
  },
  {
   "cell_type": "code",
   "execution_count": 57,
   "id": "032a7947",
   "metadata": {},
   "outputs": [],
   "source": [
    "insurance.age_criteria = insurance.age_criteria.fillna('adult')"
   ]
  },
  {
   "cell_type": "code",
   "execution_count": 58,
   "id": "30faa158",
   "metadata": {},
   "outputs": [
    {
     "data": {
      "text/html": [
       "<div>\n",
       "<style scoped>\n",
       "    .dataframe tbody tr th:only-of-type {\n",
       "        vertical-align: middle;\n",
       "    }\n",
       "\n",
       "    .dataframe tbody tr th {\n",
       "        vertical-align: top;\n",
       "    }\n",
       "\n",
       "    .dataframe thead th {\n",
       "        text-align: right;\n",
       "    }\n",
       "</style>\n",
       "<table border=\"1\" class=\"dataframe\">\n",
       "  <thead>\n",
       "    <tr style=\"text-align: right;\">\n",
       "      <th></th>\n",
       "      <th>CUST_ID</th>\n",
       "      <th>gender</th>\n",
       "      <th>DateOfBirth</th>\n",
       "      <th>State</th>\n",
       "      <th>Contact</th>\n",
       "      <th>Segment</th>\n",
       "      <th>claim_id</th>\n",
       "      <th>customer_id</th>\n",
       "      <th>incident_cause</th>\n",
       "      <th>claim_date</th>\n",
       "      <th>claim_area</th>\n",
       "      <th>police_report</th>\n",
       "      <th>claim_type</th>\n",
       "      <th>claim_amount</th>\n",
       "      <th>total_policy_claims</th>\n",
       "      <th>fraudulent</th>\n",
       "      <th>flag</th>\n",
       "      <th>age</th>\n",
       "      <th>age_criteria</th>\n",
       "    </tr>\n",
       "  </thead>\n",
       "  <tbody>\n",
       "    <tr>\n",
       "      <th>0</th>\n",
       "      <td>21868593.0</td>\n",
       "      <td>Female</td>\n",
       "      <td>1979-01-12</td>\n",
       "      <td>VT</td>\n",
       "      <td>789-916-8172</td>\n",
       "      <td>Platinum</td>\n",
       "      <td>54004764.0</td>\n",
       "      <td>21868593.0</td>\n",
       "      <td>Driver error</td>\n",
       "      <td>2017-11-27</td>\n",
       "      <td>Auto</td>\n",
       "      <td>No</td>\n",
       "      <td>Material only</td>\n",
       "      <td>2980.0</td>\n",
       "      <td>1.0</td>\n",
       "      <td>No</td>\n",
       "      <td>0.0</td>\n",
       "      <td>38.901370</td>\n",
       "      <td>adult</td>\n",
       "    </tr>\n",
       "    <tr>\n",
       "      <th>1</th>\n",
       "      <td>75740424.0</td>\n",
       "      <td>Female</td>\n",
       "      <td>1970-01-13</td>\n",
       "      <td>ME</td>\n",
       "      <td>265-543-1264</td>\n",
       "      <td>Silver</td>\n",
       "      <td>33985796.0</td>\n",
       "      <td>75740424.0</td>\n",
       "      <td>Crime</td>\n",
       "      <td>2018-10-03</td>\n",
       "      <td>Home</td>\n",
       "      <td>Unknown</td>\n",
       "      <td>Material only</td>\n",
       "      <td>2980.0</td>\n",
       "      <td>3.0</td>\n",
       "      <td>No</td>\n",
       "      <td>NaN</td>\n",
       "      <td>48.753425</td>\n",
       "      <td>adult</td>\n",
       "    </tr>\n",
       "    <tr>\n",
       "      <th>2</th>\n",
       "      <td>30308357.0</td>\n",
       "      <td>Female</td>\n",
       "      <td>1984-03-11</td>\n",
       "      <td>TN</td>\n",
       "      <td>798-631-4758</td>\n",
       "      <td>Silver</td>\n",
       "      <td>53522022.0</td>\n",
       "      <td>30308357.0</td>\n",
       "      <td>Other driver error</td>\n",
       "      <td>2018-02-02</td>\n",
       "      <td>Auto</td>\n",
       "      <td>No</td>\n",
       "      <td>Material only</td>\n",
       "      <td>3369.5</td>\n",
       "      <td>1.0</td>\n",
       "      <td>Yes</td>\n",
       "      <td>0.0</td>\n",
       "      <td>33.920548</td>\n",
       "      <td>adult</td>\n",
       "    </tr>\n",
       "    <tr>\n",
       "      <th>3</th>\n",
       "      <td>30308357.0</td>\n",
       "      <td>Female</td>\n",
       "      <td>1984-03-11</td>\n",
       "      <td>TN</td>\n",
       "      <td>798-631-4758</td>\n",
       "      <td>Silver</td>\n",
       "      <td>63017412.0</td>\n",
       "      <td>30308357.0</td>\n",
       "      <td>Driver error</td>\n",
       "      <td>2018-04-04</td>\n",
       "      <td>Auto</td>\n",
       "      <td>No</td>\n",
       "      <td>Material only</td>\n",
       "      <td>1950.0</td>\n",
       "      <td>6.0</td>\n",
       "      <td>No</td>\n",
       "      <td>0.0</td>\n",
       "      <td>34.087671</td>\n",
       "      <td>adult</td>\n",
       "    </tr>\n",
       "    <tr>\n",
       "      <th>4</th>\n",
       "      <td>47830476.0</td>\n",
       "      <td>Female</td>\n",
       "      <td>1986-05-01</td>\n",
       "      <td>MA</td>\n",
       "      <td>413-187-7945</td>\n",
       "      <td>Silver</td>\n",
       "      <td>13015401.0</td>\n",
       "      <td>47830476.0</td>\n",
       "      <td>Natural causes</td>\n",
       "      <td>2018-06-17</td>\n",
       "      <td>Auto</td>\n",
       "      <td>No</td>\n",
       "      <td>Material only</td>\n",
       "      <td>1680.0</td>\n",
       "      <td>1.0</td>\n",
       "      <td>No</td>\n",
       "      <td>0.0</td>\n",
       "      <td>32.150685</td>\n",
       "      <td>adult</td>\n",
       "    </tr>\n",
       "    <tr>\n",
       "      <th>...</th>\n",
       "      <td>...</td>\n",
       "      <td>...</td>\n",
       "      <td>...</td>\n",
       "      <td>...</td>\n",
       "      <td>...</td>\n",
       "      <td>...</td>\n",
       "      <td>...</td>\n",
       "      <td>...</td>\n",
       "      <td>...</td>\n",
       "      <td>...</td>\n",
       "      <td>...</td>\n",
       "      <td>...</td>\n",
       "      <td>...</td>\n",
       "      <td>...</td>\n",
       "      <td>...</td>\n",
       "      <td>...</td>\n",
       "      <td>...</td>\n",
       "      <td>...</td>\n",
       "      <td>...</td>\n",
       "    </tr>\n",
       "    <tr>\n",
       "      <th>1087</th>\n",
       "      <td>79539873.0</td>\n",
       "      <td>Female</td>\n",
       "      <td>1981-03-15</td>\n",
       "      <td>ND</td>\n",
       "      <td>459-425-4319</td>\n",
       "      <td>Platinum</td>\n",
       "      <td>62020796.0</td>\n",
       "      <td>79539873.0</td>\n",
       "      <td>Other driver error</td>\n",
       "      <td>2018-09-06</td>\n",
       "      <td>Auto</td>\n",
       "      <td>Yes</td>\n",
       "      <td>Material only</td>\n",
       "      <td>1770.0</td>\n",
       "      <td>1.0</td>\n",
       "      <td>No</td>\n",
       "      <td>1.0</td>\n",
       "      <td>37.504110</td>\n",
       "      <td>adult</td>\n",
       "    </tr>\n",
       "    <tr>\n",
       "      <th>1088</th>\n",
       "      <td>42364152.0</td>\n",
       "      <td>Female</td>\n",
       "      <td>1996-07-07</td>\n",
       "      <td>ID</td>\n",
       "      <td>529-462-1635</td>\n",
       "      <td>Silver</td>\n",
       "      <td>63269067.0</td>\n",
       "      <td>42364152.0</td>\n",
       "      <td>Other causes</td>\n",
       "      <td>2017-05-09</td>\n",
       "      <td>Home</td>\n",
       "      <td>No</td>\n",
       "      <td>Material only</td>\n",
       "      <td>2800.0</td>\n",
       "      <td>1.0</td>\n",
       "      <td>No</td>\n",
       "      <td>0.0</td>\n",
       "      <td>20.852055</td>\n",
       "      <td>youth</td>\n",
       "    </tr>\n",
       "    <tr>\n",
       "      <th>1089</th>\n",
       "      <td>19888166.0</td>\n",
       "      <td>Male</td>\n",
       "      <td>1990-04-11</td>\n",
       "      <td>WI</td>\n",
       "      <td>712-651-9613</td>\n",
       "      <td>Gold</td>\n",
       "      <td>22690595.0</td>\n",
       "      <td>19888166.0</td>\n",
       "      <td>Other driver error</td>\n",
       "      <td>2017-05-15</td>\n",
       "      <td>Auto</td>\n",
       "      <td>Yes</td>\n",
       "      <td>Injury only</td>\n",
       "      <td>33080.0</td>\n",
       "      <td>2.0</td>\n",
       "      <td>No</td>\n",
       "      <td>1.0</td>\n",
       "      <td>27.112329</td>\n",
       "      <td>youth</td>\n",
       "    </tr>\n",
       "    <tr>\n",
       "      <th>1090</th>\n",
       "      <td>11256802.0</td>\n",
       "      <td>Female</td>\n",
       "      <td>1964-10-22</td>\n",
       "      <td>LA</td>\n",
       "      <td>469-345-5617</td>\n",
       "      <td>Silver</td>\n",
       "      <td>12376894.0</td>\n",
       "      <td>11256802.0</td>\n",
       "      <td>Other driver error</td>\n",
       "      <td>2017-04-18</td>\n",
       "      <td>Auto</td>\n",
       "      <td>No</td>\n",
       "      <td>Material only</td>\n",
       "      <td>2840.0</td>\n",
       "      <td>4.0</td>\n",
       "      <td>No</td>\n",
       "      <td>0.0</td>\n",
       "      <td>52.523288</td>\n",
       "      <td>adult</td>\n",
       "    </tr>\n",
       "    <tr>\n",
       "      <th>1091</th>\n",
       "      <td>61575264.0</td>\n",
       "      <td>Male</td>\n",
       "      <td>1995-07-12</td>\n",
       "      <td>WY</td>\n",
       "      <td>182-385-1392</td>\n",
       "      <td>Gold</td>\n",
       "      <td>63226031.0</td>\n",
       "      <td>61575264.0</td>\n",
       "      <td>Natural causes</td>\n",
       "      <td>2017-03-16</td>\n",
       "      <td>Auto</td>\n",
       "      <td>No</td>\n",
       "      <td>Material only</td>\n",
       "      <td>1490.0</td>\n",
       "      <td>1.0</td>\n",
       "      <td>No</td>\n",
       "      <td>0.0</td>\n",
       "      <td>21.693151</td>\n",
       "      <td>youth</td>\n",
       "    </tr>\n",
       "  </tbody>\n",
       "</table>\n",
       "<p>1011 rows × 19 columns</p>\n",
       "</div>"
      ],
      "text/plain": [
       "         CUST_ID  gender DateOfBirth State       Contact   Segment  \\\n",
       "0     21868593.0  Female  1979-01-12    VT  789-916-8172  Platinum   \n",
       "1     75740424.0  Female  1970-01-13    ME  265-543-1264    Silver   \n",
       "2     30308357.0  Female  1984-03-11    TN  798-631-4758    Silver   \n",
       "3     30308357.0  Female  1984-03-11    TN  798-631-4758    Silver   \n",
       "4     47830476.0  Female  1986-05-01    MA  413-187-7945    Silver   \n",
       "...          ...     ...         ...   ...           ...       ...   \n",
       "1087  79539873.0  Female  1981-03-15    ND  459-425-4319  Platinum   \n",
       "1088  42364152.0  Female  1996-07-07    ID  529-462-1635    Silver   \n",
       "1089  19888166.0    Male  1990-04-11    WI  712-651-9613      Gold   \n",
       "1090  11256802.0  Female  1964-10-22    LA  469-345-5617    Silver   \n",
       "1091  61575264.0    Male  1995-07-12    WY  182-385-1392      Gold   \n",
       "\n",
       "        claim_id  customer_id      incident_cause claim_date claim_area  \\\n",
       "0     54004764.0   21868593.0        Driver error 2017-11-27       Auto   \n",
       "1     33985796.0   75740424.0               Crime 2018-10-03       Home   \n",
       "2     53522022.0   30308357.0  Other driver error 2018-02-02       Auto   \n",
       "3     63017412.0   30308357.0        Driver error 2018-04-04       Auto   \n",
       "4     13015401.0   47830476.0      Natural causes 2018-06-17       Auto   \n",
       "...          ...          ...                 ...        ...        ...   \n",
       "1087  62020796.0   79539873.0  Other driver error 2018-09-06       Auto   \n",
       "1088  63269067.0   42364152.0        Other causes 2017-05-09       Home   \n",
       "1089  22690595.0   19888166.0  Other driver error 2017-05-15       Auto   \n",
       "1090  12376894.0   11256802.0  Other driver error 2017-04-18       Auto   \n",
       "1091  63226031.0   61575264.0      Natural causes 2017-03-16       Auto   \n",
       "\n",
       "     police_report     claim_type  claim_amount  total_policy_claims  \\\n",
       "0               No  Material only        2980.0                  1.0   \n",
       "1          Unknown  Material only        2980.0                  3.0   \n",
       "2               No  Material only        3369.5                  1.0   \n",
       "3               No  Material only        1950.0                  6.0   \n",
       "4               No  Material only        1680.0                  1.0   \n",
       "...            ...            ...           ...                  ...   \n",
       "1087           Yes  Material only        1770.0                  1.0   \n",
       "1088            No  Material only        2800.0                  1.0   \n",
       "1089           Yes    Injury only       33080.0                  2.0   \n",
       "1090            No  Material only        2840.0                  4.0   \n",
       "1091            No  Material only        1490.0                  1.0   \n",
       "\n",
       "     fraudulent  flag        age age_criteria  \n",
       "0            No   0.0  38.901370        adult  \n",
       "1            No   NaN  48.753425        adult  \n",
       "2           Yes   0.0  33.920548        adult  \n",
       "3            No   0.0  34.087671        adult  \n",
       "4            No   0.0  32.150685        adult  \n",
       "...         ...   ...        ...          ...  \n",
       "1087         No   1.0  37.504110        adult  \n",
       "1088         No   0.0  20.852055        youth  \n",
       "1089         No   1.0  27.112329        youth  \n",
       "1090         No   0.0  52.523288        adult  \n",
       "1091         No   0.0  21.693151        youth  \n",
       "\n",
       "[1011 rows x 19 columns]"
      ]
     },
     "execution_count": 58,
     "metadata": {},
     "output_type": "execute_result"
    }
   ],
   "source": [
    "insurance"
   ]
  },
  {
   "cell_type": "code",
   "execution_count": 59,
   "id": "a2e61e94",
   "metadata": {},
   "outputs": [
    {
     "data": {
      "text/plain": [
       "Segment\n",
       "Gold        12723.927954\n",
       "Platinum    12397.859420\n",
       "Silver      12217.995298\n",
       "Name: claim_amount, dtype: float64"
      ]
     },
     "execution_count": 59,
     "metadata": {},
     "output_type": "execute_result"
    }
   ],
   "source": [
    "# (8)\n",
    "insurance.groupby('Segment').claim_amount.mean()"
   ]
  },
  {
   "cell_type": "code",
   "execution_count": 60,
   "id": "1e8d0a2b",
   "metadata": {},
   "outputs": [],
   "source": [
    "# (9)"
   ]
  },
  {
   "cell_type": "code",
   "execution_count": 61,
   "id": "3f265303",
   "metadata": {},
   "outputs": [
    {
     "data": {
      "text/plain": [
       "Timestamp('2018-09-10 00:00:00')"
      ]
     },
     "execution_count": 61,
     "metadata": {},
     "output_type": "execute_result"
    }
   ],
   "source": [
    "a = '10 sep 2018'\n",
    "new_date = pd.to_datetime(a)\n",
    "new_date"
   ]
  },
  {
   "cell_type": "code",
   "execution_count": 62,
   "id": "98fed464",
   "metadata": {},
   "outputs": [
    {
     "data": {
      "text/plain": [
       "incident_cause\n",
       "Crime                  662110.0\n",
       "Driver error          3168250.0\n",
       "Natural causes        1183331.5\n",
       "Other causes          3486969.0\n",
       "Other driver error    3053360.0\n",
       "Name: claim_amount, dtype: float64"
      ]
     },
     "execution_count": 62,
     "metadata": {},
     "output_type": "execute_result"
    }
   ],
   "source": [
    "round(insurance[insurance.claim_date < new_date].groupby('incident_cause').claim_amount.sum(),2)"
   ]
  },
  {
   "cell_type": "code",
   "execution_count": 63,
   "id": "0accb0db",
   "metadata": {},
   "outputs": [],
   "source": [
    "# (10)\n",
    "tenth = insurance.loc[(insurance.State == 'TX') | (insurance.State == 'DE') | (insurance.State == 'AK')]"
   ]
  },
  {
   "cell_type": "code",
   "execution_count": 64,
   "id": "de0ffcd7",
   "metadata": {},
   "outputs": [],
   "source": [
    "tenth_wala = tenth[(tenth.incident_cause == 'Driver error') | (tenth.incident_cause == 'Other driver error')]"
   ]
  },
  {
   "cell_type": "code",
   "execution_count": 65,
   "id": "1dcae7a2",
   "metadata": {},
   "outputs": [
    {
     "data": {
      "text/plain": [
       "State\n",
       "AK    7\n",
       "DE    7\n",
       "TX    6\n",
       "Name: State, dtype: int64"
      ]
     },
     "execution_count": 65,
     "metadata": {},
     "output_type": "execute_result"
    }
   ],
   "source": [
    "tenth_wala[tenth_wala.age_criteria == 'adult'].groupby('State').State.count()"
   ]
  },
  {
   "cell_type": "code",
   "execution_count": 66,
   "id": "49441691",
   "metadata": {},
   "outputs": [],
   "source": [
    "# (11)\n"
   ]
  },
  {
   "cell_type": "code",
   "execution_count": 67,
   "id": "0fdc3fb0",
   "metadata": {},
   "outputs": [
    {
     "data": {
      "text/html": [
       "<div>\n",
       "<style scoped>\n",
       "    .dataframe tbody tr th:only-of-type {\n",
       "        vertical-align: middle;\n",
       "    }\n",
       "\n",
       "    .dataframe tbody tr th {\n",
       "        vertical-align: top;\n",
       "    }\n",
       "\n",
       "    .dataframe thead th {\n",
       "        text-align: right;\n",
       "    }\n",
       "</style>\n",
       "<table border=\"1\" class=\"dataframe\">\n",
       "  <thead>\n",
       "    <tr style=\"text-align: right;\">\n",
       "      <th>Segment</th>\n",
       "      <th>Gold</th>\n",
       "      <th>Platinum</th>\n",
       "      <th>Silver</th>\n",
       "    </tr>\n",
       "    <tr>\n",
       "      <th>gender</th>\n",
       "      <th></th>\n",
       "      <th></th>\n",
       "      <th></th>\n",
       "    </tr>\n",
       "  </thead>\n",
       "  <tbody>\n",
       "    <tr>\n",
       "      <th>Female</th>\n",
       "      <td>1937899.0</td>\n",
       "      <td>2278700.0</td>\n",
       "      <td>1739832.0</td>\n",
       "    </tr>\n",
       "    <tr>\n",
       "      <th>Male</th>\n",
       "      <td>2477304.0</td>\n",
       "      <td>1998561.5</td>\n",
       "      <td>2157708.5</td>\n",
       "    </tr>\n",
       "  </tbody>\n",
       "</table>\n",
       "</div>"
      ],
      "text/plain": [
       "Segment       Gold   Platinum     Silver\n",
       "gender                                  \n",
       "Female   1937899.0  2278700.0  1739832.0\n",
       "Male     2477304.0  1998561.5  2157708.5"
      ]
     },
     "execution_count": 67,
     "metadata": {},
     "output_type": "execute_result"
    }
   ],
   "source": [
    "eleven = round(insurance.pivot_table(index = 'Segment' , columns = 'gender' , values = 'claim_amount' , aggfunc= 'sum'),2).T\n",
    "eleven"
   ]
  },
  {
   "cell_type": "code",
   "execution_count": 68,
   "id": "28bb1e78",
   "metadata": {},
   "outputs": [
    {
     "data": {
      "image/png": "[encoded data removed]",
      "text/plain": [
       "<Figure size 1296x1800 with 3 Axes>"
      ]
     },
     "metadata": {},
     "output_type": "display_data"
    }
   ],
   "source": [
    "eleven.plot( kind = 'pie' , subplots = True , autopct='%.2f%%' , figsize = (18,25))\n",
    "plt.show()"
   ]
  },
  {
   "cell_type": "code",
   "execution_count": 69,
   "id": "87688069",
   "metadata": {},
   "outputs": [
    {
     "data": {
      "text/plain": [
       "Segment\n",
       "Gold        4415203.0\n",
       "Platinum    4277261.5\n",
       "Silver      3897540.5\n",
       "dtype: float64"
      ]
     },
     "execution_count": 69,
     "metadata": {},
     "output_type": "execute_result"
    }
   ],
   "source": [
    "abcd = eleven.sum(axis = 0)\n",
    "abcd"
   ]
  },
  {
   "cell_type": "code",
   "execution_count": 70,
   "id": "018ef8e6",
   "metadata": {},
   "outputs": [
    {
     "data": {
      "text/html": [
       "<div>\n",
       "<style scoped>\n",
       "    .dataframe tbody tr th:only-of-type {\n",
       "        vertical-align: middle;\n",
       "    }\n",
       "\n",
       "    .dataframe tbody tr th {\n",
       "        vertical-align: top;\n",
       "    }\n",
       "\n",
       "    .dataframe thead th {\n",
       "        text-align: right;\n",
       "    }\n",
       "</style>\n",
       "<table border=\"1\" class=\"dataframe\">\n",
       "  <thead>\n",
       "    <tr style=\"text-align: right;\">\n",
       "      <th>Segment</th>\n",
       "      <th>Gold</th>\n",
       "      <th>Platinum</th>\n",
       "      <th>Silver</th>\n",
       "    </tr>\n",
       "    <tr>\n",
       "      <th>gender</th>\n",
       "      <th></th>\n",
       "      <th></th>\n",
       "      <th></th>\n",
       "    </tr>\n",
       "  </thead>\n",
       "  <tbody>\n",
       "    <tr>\n",
       "      <th>Female</th>\n",
       "      <td>43.891504</td>\n",
       "      <td>53.274741</td>\n",
       "      <td>44.639228</td>\n",
       "    </tr>\n",
       "    <tr>\n",
       "      <th>Male</th>\n",
       "      <td>56.108496</td>\n",
       "      <td>46.725259</td>\n",
       "      <td>55.360772</td>\n",
       "    </tr>\n",
       "  </tbody>\n",
       "</table>\n",
       "</div>"
      ],
      "text/plain": [
       "Segment       Gold   Platinum     Silver\n",
       "gender                                  \n",
       "Female   43.891504  53.274741  44.639228\n",
       "Male     56.108496  46.725259  55.360772"
      ]
     },
     "execution_count": 70,
     "metadata": {},
     "output_type": "execute_result"
    }
   ],
   "source": [
    "eleven_wala = eleven.div(abcd,axis = 1)* 100\n",
    "eleven_wala"
   ]
  },
  {
   "cell_type": "code",
   "execution_count": 71,
   "id": "1193fda5",
   "metadata": {},
   "outputs": [],
   "source": [
    "# (12)"
   ]
  },
  {
   "cell_type": "code",
   "execution_count": 72,
   "id": "cbb018f4",
   "metadata": {},
   "outputs": [],
   "source": [
    "tw = round(insurance[(insurance.incident_cause == 'Driver error')|(insurance.incident_cause == 'Other driver error')].groupby('gender').claim_amount.sum(),0)\n"
   ]
  },
  {
   "cell_type": "code",
   "execution_count": 73,
   "id": "31906299",
   "metadata": {},
   "outputs": [
    {
     "data": {
      "text/plain": [
       "<AxesSubplot:xlabel='gender'>"
      ]
     },
     "execution_count": 73,
     "metadata": {},
     "output_type": "execute_result"
    },
    {
     "data": {
      "image/png": "[encoded data removed]",
      "text/plain": [
       "<Figure size 432x288 with 1 Axes>"
      ]
     },
     "metadata": {
      "needs_background": "light"
     },
     "output_type": "display_data"
    }
   ],
   "source": [
    "tw.plot(kind = 'bar')"
   ]
  },
  {
   "cell_type": "code",
   "execution_count": 74,
   "id": "324be211",
   "metadata": {},
   "outputs": [],
   "source": [
    "# (13)"
   ]
  },
  {
   "cell_type": "code",
   "execution_count": 75,
   "id": "d7541842",
   "metadata": {},
   "outputs": [
    {
     "data": {
      "text/plain": [
       "age_criteria\n",
       "adult       163\n",
       "children      1\n",
       "youth        66\n",
       "Name: age_criteria, dtype: int64"
      ]
     },
     "execution_count": 75,
     "metadata": {},
     "output_type": "execute_result"
    }
   ],
   "source": [
    "thirteen = insurance[insurance.fraudulent == 'Yes'].groupby('age_criteria').age_criteria.count()\n",
    "thirteen"
   ]
  },
  {
   "cell_type": "code",
   "execution_count": 76,
   "id": "92874b27",
   "metadata": {},
   "outputs": [
    {
     "data": {
      "text/plain": [
       "<AxesSubplot:xlabel='age_criteria'>"
      ]
     },
     "execution_count": 76,
     "metadata": {},
     "output_type": "execute_result"
    },
    {
     "data": {
      "image/png": "[encoded data removed]",
      "text/plain": [
       "<Figure size 432x288 with 1 Axes>"
      ]
     },
     "metadata": {
      "needs_background": "light"
     },
     "output_type": "display_data"
    }
   ],
   "source": [
    "thirteen.plot(kind = 'bar')"
   ]
  },
  {
   "cell_type": "code",
   "execution_count": 77,
   "id": "e6573379",
   "metadata": {},
   "outputs": [],
   "source": [
    "# (14)"
   ]
  },
  {
   "cell_type": "code",
   "execution_count": 78,
   "id": "de1d4fde",
   "metadata": {},
   "outputs": [],
   "source": [
    "insurance['month'] = insurance['claim_date'].dt.strftime('%B')"
   ]
  },
  {
   "cell_type": "markdown",
   "id": "149d6b71",
   "metadata": {},
   "source": [
    "### question 14"
   ]
  },
  {
   "cell_type": "code",
   "execution_count": 79,
   "id": "6e4081f5",
   "metadata": {},
   "outputs": [],
   "source": [
    "insurance['month_year'] = insurance.claim_date.apply(lambda x : x.strftime('%m'))"
   ]
  },
  {
   "cell_type": "code",
   "execution_count": 80,
   "id": "7002ca21",
   "metadata": {},
   "outputs": [],
   "source": [
    "fourteen = insurance.groupby('month_year').claim_amount.sum().reset_index()"
   ]
  },
  {
   "cell_type": "code",
   "execution_count": 81,
   "id": "34fe6073",
   "metadata": {},
   "outputs": [
    {
     "data": {
      "text/html": [
       "<div>\n",
       "<style scoped>\n",
       "    .dataframe tbody tr th:only-of-type {\n",
       "        vertical-align: middle;\n",
       "    }\n",
       "\n",
       "    .dataframe tbody tr th {\n",
       "        vertical-align: top;\n",
       "    }\n",
       "\n",
       "    .dataframe thead th {\n",
       "        text-align: right;\n",
       "    }\n",
       "</style>\n",
       "<table border=\"1\" class=\"dataframe\">\n",
       "  <thead>\n",
       "    <tr style=\"text-align: right;\">\n",
       "      <th></th>\n",
       "      <th>month_year</th>\n",
       "      <th>claim_amount</th>\n",
       "    </tr>\n",
       "  </thead>\n",
       "  <tbody>\n",
       "    <tr>\n",
       "      <th>0</th>\n",
       "      <td>01</td>\n",
       "      <td>1243588.5</td>\n",
       "    </tr>\n",
       "    <tr>\n",
       "      <th>1</th>\n",
       "      <td>02</td>\n",
       "      <td>1101455.0</td>\n",
       "    </tr>\n",
       "    <tr>\n",
       "      <th>2</th>\n",
       "      <td>03</td>\n",
       "      <td>1237921.5</td>\n",
       "    </tr>\n",
       "    <tr>\n",
       "      <th>3</th>\n",
       "      <td>04</td>\n",
       "      <td>1266570.5</td>\n",
       "    </tr>\n",
       "    <tr>\n",
       "      <th>4</th>\n",
       "      <td>05</td>\n",
       "      <td>1014447.5</td>\n",
       "    </tr>\n",
       "    <tr>\n",
       "      <th>5</th>\n",
       "      <td>06</td>\n",
       "      <td>1204020.0</td>\n",
       "    </tr>\n",
       "    <tr>\n",
       "      <th>6</th>\n",
       "      <td>07</td>\n",
       "      <td>1266800.5</td>\n",
       "    </tr>\n",
       "    <tr>\n",
       "      <th>7</th>\n",
       "      <td>08</td>\n",
       "      <td>833982.0</td>\n",
       "    </tr>\n",
       "    <tr>\n",
       "      <th>8</th>\n",
       "      <td>09</td>\n",
       "      <td>814963.0</td>\n",
       "    </tr>\n",
       "    <tr>\n",
       "      <th>9</th>\n",
       "      <td>10</td>\n",
       "      <td>1347931.5</td>\n",
       "    </tr>\n",
       "    <tr>\n",
       "      <th>10</th>\n",
       "      <td>11</td>\n",
       "      <td>576184.0</td>\n",
       "    </tr>\n",
       "    <tr>\n",
       "      <th>11</th>\n",
       "      <td>12</td>\n",
       "      <td>682141.0</td>\n",
       "    </tr>\n",
       "  </tbody>\n",
       "</table>\n",
       "</div>"
      ],
      "text/plain": [
       "   month_year  claim_amount\n",
       "0          01     1243588.5\n",
       "1          02     1101455.0\n",
       "2          03     1237921.5\n",
       "3          04     1266570.5\n",
       "4          05     1014447.5\n",
       "5          06     1204020.0\n",
       "6          07     1266800.5\n",
       "7          08      833982.0\n",
       "8          09      814963.0\n",
       "9          10     1347931.5\n",
       "10         11      576184.0\n",
       "11         12      682141.0"
      ]
     },
     "execution_count": 81,
     "metadata": {},
     "output_type": "execute_result"
    }
   ],
   "source": [
    "fourteen"
   ]
  },
  {
   "cell_type": "code",
   "execution_count": 82,
   "id": "74e34746",
   "metadata": {},
   "outputs": [
    {
     "data": {
      "image/png": "[encoded data removed]",
      "text/plain": [
       "<Figure size 720x360 with 1 Axes>"
      ]
     },
     "metadata": {
      "needs_background": "light"
     },
     "output_type": "display_data"
    }
   ],
   "source": [
    "values = ['january','februray','march','april','may','june','july','august','september','october','november','december']\n",
    "plt.figure(figsize= (10,5))\n",
    "plt.plot(fourteen.month_year , fourteen.claim_amount)\n",
    "plt.xticks(fourteen.month_year,values,rotation = 25)\n",
    "plt.show()"
   ]
  },
  {
   "cell_type": "markdown",
   "id": "0d4b7ba8",
   "metadata": {},
   "source": [
    "### question 15"
   ]
  },
  {
   "cell_type": "code",
   "execution_count": 83,
   "id": "e77c7601",
   "metadata": {},
   "outputs": [
    {
     "data": {
      "text/html": [
       "<div>\n",
       "<style scoped>\n",
       "    .dataframe tbody tr th:only-of-type {\n",
       "        vertical-align: middle;\n",
       "    }\n",
       "\n",
       "    .dataframe tbody tr th {\n",
       "        vertical-align: top;\n",
       "    }\n",
       "\n",
       "    .dataframe thead th {\n",
       "        text-align: right;\n",
       "    }\n",
       "</style>\n",
       "<table border=\"1\" class=\"dataframe\">\n",
       "  <thead>\n",
       "    <tr style=\"text-align: right;\">\n",
       "      <th>fraudulent</th>\n",
       "      <th>gender</th>\n",
       "      <th>age_criteria</th>\n",
       "      <th>No</th>\n",
       "      <th>Yes</th>\n",
       "    </tr>\n",
       "  </thead>\n",
       "  <tbody>\n",
       "    <tr>\n",
       "      <th>0</th>\n",
       "      <td>Female</td>\n",
       "      <td>adult</td>\n",
       "      <td>12398.392157</td>\n",
       "      <td>12461.482143</td>\n",
       "    </tr>\n",
       "    <tr>\n",
       "      <th>1</th>\n",
       "      <td>Female</td>\n",
       "      <td>children</td>\n",
       "      <td>11210.000000</td>\n",
       "      <td>NaN</td>\n",
       "    </tr>\n",
       "    <tr>\n",
       "      <th>2</th>\n",
       "      <td>Female</td>\n",
       "      <td>youth</td>\n",
       "      <td>12311.229508</td>\n",
       "      <td>6990.203125</td>\n",
       "    </tr>\n",
       "    <tr>\n",
       "      <th>3</th>\n",
       "      <td>Male</td>\n",
       "      <td>adult</td>\n",
       "      <td>12036.939502</td>\n",
       "      <td>17294.689873</td>\n",
       "    </tr>\n",
       "    <tr>\n",
       "      <th>4</th>\n",
       "      <td>Male</td>\n",
       "      <td>children</td>\n",
       "      <td>22615.000000</td>\n",
       "      <td>32407.000000</td>\n",
       "    </tr>\n",
       "    <tr>\n",
       "      <th>5</th>\n",
       "      <td>Male</td>\n",
       "      <td>youth</td>\n",
       "      <td>12187.094017</td>\n",
       "      <td>9886.955882</td>\n",
       "    </tr>\n",
       "  </tbody>\n",
       "</table>\n",
       "</div>"
      ],
      "text/plain": [
       "fraudulent  gender age_criteria            No           Yes\n",
       "0           Female        adult  12398.392157  12461.482143\n",
       "1           Female     children  11210.000000           NaN\n",
       "2           Female        youth  12311.229508   6990.203125\n",
       "3             Male        adult  12036.939502  17294.689873\n",
       "4             Male     children  22615.000000  32407.000000\n",
       "5             Male        youth  12187.094017   9886.955882"
      ]
     },
     "execution_count": 83,
     "metadata": {},
     "output_type": "execute_result"
    }
   ],
   "source": [
    "qs = insurance.pivot_table(index = ['gender','age_criteria'] , columns = 'fraudulent' , values = 'claim_amount' , aggfunc=np.mean).reset_index()\n",
    "qs"
   ]
  },
  {
   "cell_type": "code",
   "execution_count": 84,
   "id": "b5ef001e",
   "metadata": {},
   "outputs": [
    {
     "data": {
      "text/plain": [
       "<seaborn.axisgrid.FacetGrid at 0x7fc564d3aa30>"
      ]
     },
     "execution_count": 84,
     "metadata": {},
     "output_type": "execute_result"
    },
    {
     "data": {
      "image/png": "[encoded data removed]",
      "text/plain": [
       "<Figure size 720x1080 with 6 Axes>"
      ]
     },
     "metadata": {
      "needs_background": "light"
     },
     "output_type": "display_data"
    }
   ],
   "source": [
    "vb = sns.FacetGrid(qs , row = 'age_criteria' ,col = 'gender' , sharey= False , sharex= False , height=5 )\n",
    "vb.map_dataframe(sns.barplot , )\n",
    "vb.set_titles(col_template= '{col_name}' , row_template= '{row_name}')"
   ]
  },
  {
   "cell_type": "code",
   "execution_count": 85,
   "id": "ef8f8f38",
   "metadata": {},
   "outputs": [],
   "source": [
    "# (16)"
   ]
  },
  {
   "cell_type": "code",
   "execution_count": 86,
   "id": "5fc15f54",
   "metadata": {},
   "outputs": [
    {
     "name": "stdout",
     "output_type": "stream",
     "text": [
      "min 1000.0\n",
      "max 48150.5\n",
      "one percentile 1040.0\n",
      "ninetynine percentile 44648.74999999999\n",
      "0\n"
     ]
    }
   ],
   "source": [
    "print( 'min' , insurance.claim_amount.min())\n",
    "print( 'max' , insurance.claim_amount.max())\n",
    "print( 'one percentile' , insurance.claim_amount.quantile(0.01))\n",
    "print( 'ninetynine percentile' , insurance.claim_amount.quantile(0.99))\n",
    "print(insurance.claim_amount.isna().sum())"
   ]
  },
  {
   "cell_type": "code",
   "execution_count": 87,
   "id": "cb952213",
   "metadata": {},
   "outputs": [],
   "source": [
    "insurance.claim_amount.clip(lower = insurance.claim_amount.quantile(0.01) , upper = insurance.claim_amount.quantile(0.99),inplace = True)"
   ]
  },
  {
   "cell_type": "raw",
   "id": "3160881a",
   "metadata": {},
   "source": [
    "ho : amount claimed by male and female does not differ  \n",
    "ha : amount claimed by male and female is different \n",
    "\n",
    "ci = 95%\n",
    "p value = 0.05"
   ]
  },
  {
   "cell_type": "code",
   "execution_count": 88,
   "id": "10a2501d",
   "metadata": {},
   "outputs": [],
   "source": [
    "m = insurance.loc[insurance.gender == 'Male' , 'claim_amount']\n",
    "f = insurance.loc[insurance.gender == 'Female' , 'claim_amount']"
   ]
  },
  {
   "cell_type": "code",
   "execution_count": 89,
   "id": "f73acda2",
   "metadata": {},
   "outputs": [
    {
     "name": "stdout",
     "output_type": "stream",
     "text": [
      "12841.286821705426 12009.190404040404\n"
     ]
    }
   ],
   "source": [
    "print(m.mean() , f.mean())"
   ]
  },
  {
   "cell_type": "code",
   "execution_count": 90,
   "id": "fd36bd0f",
   "metadata": {},
   "outputs": [
    {
     "data": {
      "text/plain": [
       "Ttest_indResult(statistic=0.963796330225937, pvalue=0.3353789718963972)"
      ]
     },
     "execution_count": 90,
     "metadata": {},
     "output_type": "execute_result"
    }
   ],
   "source": [
    "stats.ttest_ind(m,f)"
   ]
  },
  {
   "cell_type": "raw",
   "id": "e2388647",
   "metadata": {},
   "source": [
    "business conclusion = with 95% confidence \n",
    "level we  fail to reject the null hypothesis, bcs the p value from test is higher than the cut off p value and we can conclude that males and female are claiming the same way.so there is no similarity."
   ]
  },
  {
   "cell_type": "code",
   "execution_count": 91,
   "id": "a119d689",
   "metadata": {},
   "outputs": [],
   "source": [
    "import scipy.stats as stats"
   ]
  },
  {
   "cell_type": "code",
   "execution_count": 92,
   "id": "254d6492",
   "metadata": {},
   "outputs": [
    {
     "data": {
      "text/plain": [
       "F_onewayResult(statistic=0.9289033661569858, pvalue=0.33537897189651544)"
      ]
     },
     "execution_count": 92,
     "metadata": {},
     "output_type": "execute_result"
    }
   ],
   "source": [
    "stats.f_oneway(m,f)"
   ]
  },
  {
   "cell_type": "code",
   "execution_count": 93,
   "id": "16538ba0",
   "metadata": {},
   "outputs": [],
   "source": [
    "# (17)"
   ]
  },
  {
   "cell_type": "code",
   "execution_count": 94,
   "id": "0463ff83",
   "metadata": {},
   "outputs": [
    {
     "name": "stdout",
     "output_type": "stream",
     "text": [
      "0\n",
      "0\n"
     ]
    }
   ],
   "source": [
    "print(insurance.Segment.isna().sum())\n",
    "print(insurance.age_criteria.isna().sum())"
   ]
  },
  {
   "cell_type": "code",
   "execution_count": 95,
   "id": "4f924f25",
   "metadata": {},
   "outputs": [
    {
     "data": {
      "text/plain": [
       "Gold        347\n",
       "Platinum    345\n",
       "Silver      319\n",
       "Name: Segment, dtype: int64"
      ]
     },
     "execution_count": 95,
     "metadata": {},
     "output_type": "execute_result"
    }
   ],
   "source": [
    "insurance.Segment.value_counts()"
   ]
  },
  {
   "cell_type": "code",
   "execution_count": 96,
   "id": "ca8e307a",
   "metadata": {},
   "outputs": [
    {
     "data": {
      "text/html": [
       "<div>\n",
       "<style scoped>\n",
       "    .dataframe tbody tr th:only-of-type {\n",
       "        vertical-align: middle;\n",
       "    }\n",
       "\n",
       "    .dataframe tbody tr th {\n",
       "        vertical-align: top;\n",
       "    }\n",
       "\n",
       "    .dataframe thead th {\n",
       "        text-align: right;\n",
       "    }\n",
       "</style>\n",
       "<table border=\"1\" class=\"dataframe\">\n",
       "  <thead>\n",
       "    <tr style=\"text-align: right;\">\n",
       "      <th>age_criteria</th>\n",
       "      <th>adult</th>\n",
       "      <th>children</th>\n",
       "      <th>youth</th>\n",
       "    </tr>\n",
       "    <tr>\n",
       "      <th>Segment</th>\n",
       "      <th></th>\n",
       "      <th></th>\n",
       "      <th></th>\n",
       "    </tr>\n",
       "  </thead>\n",
       "  <tbody>\n",
       "    <tr>\n",
       "      <th>Gold</th>\n",
       "      <td>247</td>\n",
       "      <td>3</td>\n",
       "      <td>97</td>\n",
       "    </tr>\n",
       "    <tr>\n",
       "      <th>Platinum</th>\n",
       "      <td>227</td>\n",
       "      <td>4</td>\n",
       "      <td>114</td>\n",
       "    </tr>\n",
       "    <tr>\n",
       "      <th>Silver</th>\n",
       "      <td>225</td>\n",
       "      <td>0</td>\n",
       "      <td>94</td>\n",
       "    </tr>\n",
       "  </tbody>\n",
       "</table>\n",
       "</div>"
      ],
      "text/plain": [
       "age_criteria  adult  children  youth\n",
       "Segment                             \n",
       "Gold            247         3     97\n",
       "Platinum        227         4    114\n",
       "Silver          225         0     94"
      ]
     },
     "execution_count": 96,
     "metadata": {},
     "output_type": "execute_result"
    }
   ],
   "source": [
    "seventeen = pd.crosstab(index = insurance.Segment , columns = insurance.age_criteria)\n",
    "seventeen"
   ]
  },
  {
   "cell_type": "code",
   "execution_count": 97,
   "id": "4cbf4b8a",
   "metadata": {},
   "outputs": [
    {
     "data": {
      "text/plain": [
       "(5.861827466483263,\n",
       " 0.20970744632473004,\n",
       " 4,\n",
       " array([[239.91394659,   2.40257171, 104.6834817 ],\n",
       "        [238.53115727,   2.38872404, 104.08011869],\n",
       "        [220.55489614,   2.20870425,  96.2363996 ]]))"
      ]
     },
     "execution_count": 97,
     "metadata": {},
     "output_type": "execute_result"
    }
   ],
   "source": [
    "stats.chi2_contingency(seventeen)"
   ]
  },
  {
   "cell_type": "raw",
   "id": "3ea3cd5c",
   "metadata": {},
   "source": [
    "ho : no relationship\n",
    "ha: relationship exist\n",
    "ci : 95%\n",
    "p value : 0.05"
   ]
  },
  {
   "cell_type": "raw",
   "id": "3a2b3279",
   "metadata": {},
   "source": [
    "#business conclusion : with 95% confidence we  fail to reject the null hypothesis , bcs the #pvalue from test is more than the cut off p value . \n",
    "#so we can say that there is no relationship bcs for all the segment youth ,adult and senior #fall in same category respectively"
   ]
  },
  {
   "cell_type": "code",
   "execution_count": 98,
   "id": "035520b1",
   "metadata": {},
   "outputs": [],
   "source": [
    "# (18)"
   ]
  },
  {
   "cell_type": "code",
   "execution_count": 99,
   "id": "9e86dc0e",
   "metadata": {},
   "outputs": [
    {
     "name": "stdout",
     "output_type": "stream",
     "text": [
      "min 1040.0\n",
      "max 44648.74999999999\n",
      "one percentile 1040.0\n",
      "ninetynine percentile 44633.22499999999\n",
      "0\n",
      "therefore no outliers\n"
     ]
    }
   ],
   "source": [
    "print( 'min' , insurance.claim_amount.min())\n",
    "print( 'max' , insurance.claim_amount.max())\n",
    "print( 'one percentile' , insurance.claim_amount.quantile(0.01))\n",
    "print( 'ninetynine percentile' , insurance.claim_amount.quantile(0.99))\n",
    "print(insurance.claim_amount.isna().sum())\n",
    "print(\"therefore no outliers\")"
   ]
  },
  {
   "cell_type": "raw",
   "id": "02788e2c",
   "metadata": {},
   "source": [
    "ho: mean of year 2017-18 <= mean of year 2016-17\n",
    "ha: mean of year 2017-18 > mean of year 2016-17\n",
    "ci: 99%\n",
    "p value: 0.01"
   ]
  },
  {
   "cell_type": "code",
   "execution_count": 100,
   "id": "819b7d3f",
   "metadata": {},
   "outputs": [
    {
     "data": {
      "text/plain": [
       "Ttest_1sampResult(statistic=5.639620363950332, pvalue=2.211537804922098e-08)"
      ]
     },
     "execution_count": 100,
     "metadata": {},
     "output_type": "execute_result"
    }
   ],
   "source": [
    "stats.ttest_1samp(insurance.claim_amount,10000)"
   ]
  },
  {
   "cell_type": "raw",
   "id": "3eb2987a",
   "metadata": {},
   "source": [
    "business conclusion: with 99% confidence level we are able to reject the null hypothesis as p value from test is very low from the cut off p value. we are 99% confident that claim value has increased."
   ]
  },
  {
   "cell_type": "code",
   "execution_count": 101,
   "id": "5b5bf8a9",
   "metadata": {},
   "outputs": [
    {
     "data": {
      "text/plain": [
       "adult       699\n",
       "youth       305\n",
       "children      7\n",
       "Name: age_criteria, dtype: int64"
      ]
     },
     "execution_count": 101,
     "metadata": {},
     "output_type": "execute_result"
    }
   ],
   "source": [
    "# (19)\n",
    "insurance.age_criteria.value_counts()"
   ]
  },
  {
   "cell_type": "code",
   "execution_count": 102,
   "id": "aea02c58",
   "metadata": {},
   "outputs": [],
   "source": [
    "nine = insurance.loc[insurance.age_criteria == 'adult','claim_amount']"
   ]
  },
  {
   "cell_type": "code",
   "execution_count": 103,
   "id": "af348bd6",
   "metadata": {},
   "outputs": [],
   "source": [
    "nine_1 = insurance.loc[insurance.age_criteria == 'youth','claim_amount']"
   ]
  },
  {
   "cell_type": "code",
   "execution_count": 104,
   "id": "da9bccef",
   "metadata": {},
   "outputs": [],
   "source": [
    "nine_2 = insurance.loc[insurance.age_criteria == 'children','claim_amount']\n"
   ]
  },
  {
   "cell_type": "code",
   "execution_count": 105,
   "id": "e1b35290",
   "metadata": {},
   "outputs": [
    {
     "name": "stdout",
     "output_type": "stream",
     "text": [
      "12787.355150214593 11432.803278688525 20755.285714285714\n"
     ]
    }
   ],
   "source": [
    "print(nine.mean(),nine_1.mean()  , nine_2.mean())"
   ]
  },
  {
   "cell_type": "code",
   "execution_count": 106,
   "id": "ff2b1a41",
   "metadata": {},
   "outputs": [
    {
     "data": {
      "text/plain": [
       "F_onewayResult(statistic=2.3367982617769396, pvalue=0.09715985562473714)"
      ]
     },
     "execution_count": 106,
     "metadata": {},
     "output_type": "execute_result"
    }
   ],
   "source": [
    "stats.f_oneway(nine,nine_1,nine_2)"
   ]
  },
  {
   "cell_type": "raw",
   "id": "4fd91319",
   "metadata": {},
   "source": [
    "ho: there is no difference\n",
    "ha: there is differnence\n",
    "ci: 95%\n",
    "p value: 0.05"
   ]
  },
  {
   "cell_type": "raw",
   "id": "ec664b5c",
   "metadata": {},
   "source": [
    "business conclusion: with 95% confidence level we reject the null hypothesis bcs the p value from the test is more than the cut off p value. so we can say that different age groups are claiming different amounts. so there is difference is claiming."
   ]
  },
  {
   "cell_type": "code",
   "execution_count": null,
   "id": "c5f4e00c",
   "metadata": {},
   "outputs": [],
   "source": []
  },
  {
   "cell_type": "code",
   "execution_count": 107,
   "id": "f26415e7",
   "metadata": {},
   "outputs": [],
   "source": [
    "# (20)"
   ]
  },
  {
   "cell_type": "raw",
   "id": "b38fe699",
   "metadata": {},
   "source": [
    "ho: there is no relationship\n",
    "ha: there is relationship\n",
    "ci: 95%\n",
    "p value : 0.05"
   ]
  },
  {
   "cell_type": "code",
   "execution_count": 108,
   "id": "19add1eb",
   "metadata": {},
   "outputs": [
    {
     "data": {
      "text/plain": [
       "(-0.01904075149550906, 0.545358483977353)"
      ]
     },
     "execution_count": 108,
     "metadata": {},
     "output_type": "execute_result"
    }
   ],
   "source": [
    "stats.pearsonr(insurance.claim_amount , insurance.total_policy_claims)"
   ]
  },
  {
   "cell_type": "raw",
   "id": "9b64f70f",
   "metadata": {},
   "source": [
    "business conclusion:\n",
    "with 95% confidence level we fail to reject the null hypothesis bcs p value is more than cut off p value.\n",
    "so there is no relationship between policy claims and claim amount."
   ]
  }
 ],
 "metadata": {
  "kernelspec": {
   "display_name": "Python 3 (ipykernel)",
   "language": "python",
   "name": "python3"
  },
  "language_info": {
   "codemirror_mode": {
    "name": "ipython",
    "version": 3
   },
   "file_extension": ".py",
   "mimetype": "text/x-python",
   "name": "python",
   "nbconvert_exporter": "python",
   "pygments_lexer": "ipython3",
   "version": "3.9.7"
  }
 },
 "nbformat": 4,
 "nbformat_minor": 5
}
